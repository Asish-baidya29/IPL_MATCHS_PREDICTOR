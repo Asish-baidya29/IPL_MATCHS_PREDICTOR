{
  "nbformat": 4,
  "nbformat_minor": 0,
  "metadata": {
    "colab": {
      "provenance": [],
      "collapsed_sections": [
        "eyN_RBsiqYSz"
      ],
      "gpuType": "T4",
      "include_colab_link": true
    },
    "kernelspec": {
      "name": "python3",
      "display_name": "Python 3"
    },
    "language_info": {
      "name": "python"
    },
    "widgets": {
      "application/vnd.jupyter.widget-state+json": {
        "7ff7136df47d4e329fa254ca9c09ccce": {
          "model_module": "yfiles-jupyter-graphs",
          "model_name": "GraphModel",
          "model_module_version": "^1.10.1",
          "state": {
            "_context_pane_mapping": [
              {
                "id": "Neighborhood",
                "title": "Neighborhood"
              },
              {
                "id": "Data",
                "title": "Data"
              },
              {
                "id": "Search",
                "title": "Search"
              },
              {
                "id": "About",
                "title": "About"
              }
            ],
            "_data_importer": "neo4j",
            "_directed": true,
            "_dom_classes": [],
            "_edges": [
              {
                "id": 1152922604118474800,
                "start": 1,
                "end": 2,
                "properties": {
                  "label": "REFERS_TO"
                },
                "color": "#F44336",
                "thickness_factor": 1,
                "directed": true,
                "styles": {},
                "label": "REFERS_TO"
              },
              {
                "id": 1152923703630102500,
                "start": 1,
                "end": 3,
                "properties": {
                  "label": "SIMILAR_TO"
                },
                "color": "#607D8B",
                "thickness_factor": 1,
                "directed": true,
                "styles": {},
                "label": "SIMILAR_TO"
              },
              {
                "id": 1152924803141730300,
                "start": 1,
                "end": 4,
                "properties": {
                  "label": "RELATED_TO"
                },
                "color": "#673AB7",
                "thickness_factor": 1,
                "directed": true,
                "styles": {},
                "label": "RELATED_TO"
              },
              {
                "id": 1152959987513819100,
                "start": 3,
                "end": 87,
                "properties": {
                  "label": "REFLECTS"
                },
                "color": "#CDDC39",
                "thickness_factor": 1,
                "directed": true,
                "styles": {},
                "label": "REFLECTS"
              },
              {
                "id": 1155211787327504400,
                "start": 3,
                "end": 88,
                "properties": {
                  "label": "REFLECTS"
                },
                "color": "#CDDC39",
                "thickness_factor": 1,
                "directed": true,
                "styles": {},
                "label": "REFLECTS"
              },
              {
                "id": 1152976480188235800,
                "start": 4,
                "end": 293,
                "properties": {
                  "label": "INVOLVES"
                },
                "color": "#9E9E9E",
                "thickness_factor": 1,
                "directed": true,
                "styles": {},
                "label": "INVOLVES"
              },
              {
                "id": 1152925902653358000,
                "start": 6,
                "end": 7,
                "properties": {
                  "label": "LINKS"
                },
                "color": "#9C27B0",
                "thickness_factor": 1,
                "directed": true,
                "styles": {},
                "label": "LINKS"
              },
              {
                "id": 1155177702467043300,
                "start": 6,
                "end": 8,
                "properties": {
                  "label": "LINKS"
                },
                "color": "#9C27B0",
                "thickness_factor": 1,
                "directed": true,
                "styles": {},
                "label": "LINKS"
              },
              {
                "id": 1153025958211485700,
                "start": 6,
                "end": 7,
                "properties": {
                  "label": "LINK_BETWEEN"
                },
                "color": "#2196F3",
                "thickness_factor": 1,
                "directed": true,
                "styles": {},
                "label": "LINK_BETWEEN"
              },
              {
                "id": 1155277758025171000,
                "start": 6,
                "end": 8,
                "properties": {
                  "label": "LINK_BETWEEN"
                },
                "color": "#2196F3",
                "thickness_factor": 1,
                "directed": true,
                "styles": {},
                "label": "LINK_BETWEEN"
              },
              {
                "id": 6917552117385265000,
                "start": 7,
                "end": 84,
                "properties": {
                  "label": "LEADS_TO"
                },
                "color": "#4CAF50",
                "thickness_factor": 1,
                "directed": true,
                "styles": {},
                "label": "LEADS_TO"
              },
              {
                "id": 1152958888002191400,
                "start": 7,
                "end": 84,
                "properties": {
                  "label": "IMPARTS_KNOWLEDGE_THROUGH"
                },
                "color": "#F44336",
                "thickness_factor": 1,
                "directed": true,
                "styles": {},
                "label": "IMPARTS_KNOWLEDGE_THROUGH"
              },
              {
                "id": 1152962186537074700,
                "start": 7,
                "end": 96,
                "properties": {
                  "label": "RECOGNIZED_AS"
                },
                "color": "#607D8B",
                "thickness_factor": 1,
                "directed": true,
                "styles": {},
                "label": "RECOGNIZED_AS"
              },
              {
                "id": 6917569709571310000,
                "start": 7,
                "end": 327,
                "properties": {
                  "label": "RECOGNIZED_AS"
                },
                "color": "#607D8B",
                "thickness_factor": 1,
                "directed": true,
                "styles": {},
                "label": "RECOGNIZED_AS"
              },
              {
                "id": 6917530127152710000,
                "start": 9,
                "end": 354,
                "properties": {
                  "label": "REFERS_TO"
                },
                "color": "#F44336",
                "thickness_factor": 1,
                "directed": true,
                "styles": {},
                "label": "REFERS_TO"
              },
              {
                "id": 1152927002164985900,
                "start": 9,
                "end": 10,
                "properties": {
                  "label": "MEANS_OF"
                },
                "color": "#673AB7",
                "thickness_factor": 1,
                "directed": true,
                "styles": {},
                "label": "MEANS_OF"
              },
              {
                "id": 1152928101676613600,
                "start": 9,
                "end": 10,
                "properties": {
                  "label": "SOURCE_OF"
                },
                "color": "#CDDC39",
                "thickness_factor": 1,
                "directed": true,
                "styles": {},
                "label": "SOURCE_OF"
              },
              {
                "id": 1152929201188241400,
                "start": 9,
                "end": 11,
                "properties": {
                  "label": "REPRESENTS"
                },
                "color": "#9E9E9E",
                "thickness_factor": 1,
                "directed": true,
                "styles": {},
                "label": "REPRESENTS"
              },
              {
                "id": 6917536724222476000,
                "start": 9,
                "end": 295,
                "properties": {
                  "label": "REPRESENTS"
                },
                "color": "#9E9E9E",
                "thickness_factor": 1,
                "directed": true,
                "styles": {},
                "label": "REPRESENTS"
              },
              {
                "id": 1152930300699869200,
                "start": 9,
                "end": 13,
                "properties": {
                  "label": "IS"
                },
                "color": "#9C27B0",
                "thickness_factor": 1,
                "directed": true,
                "styles": {},
                "label": "IS"
              },
              {
                "id": 1155182100513554400,
                "start": 9,
                "end": 14,
                "properties": {
                  "label": "IS"
                },
                "color": "#9C27B0",
                "thickness_factor": 1,
                "directed": true,
                "styles": {},
                "label": "IS"
              },
              {
                "id": 1152931400211497000,
                "start": 9,
                "end": 15,
                "properties": {
                  "label": "HAS"
                },
                "color": "#2196F3",
                "thickness_factor": 1,
                "directed": true,
                "styles": {},
                "label": "HAS"
              },
              {
                "id": 6917593898827121000,
                "start": 9,
                "end": 31,
                "properties": {
                  "label": "DISTINGUISHES"
                },
                "color": "#4CAF50",
                "thickness_factor": 1,
                "directed": true,
                "styles": {},
                "label": "DISTINGUISHES"
              },
              {
                "id": 6917597197362004000,
                "start": 9,
                "end": 357,
                "properties": {
                  "label": "IS_A"
                },
                "color": "#F44336",
                "thickness_factor": 1,
                "directed": true,
                "styles": {},
                "label": "IS_A"
              },
              {
                "id": 6917629083199209000,
                "start": 9,
                "end": 359,
                "properties": {
                  "label": "DEFINED_BY"
                },
                "color": "#607D8B",
                "thickness_factor": 1,
                "directed": true,
                "styles": {},
                "label": "DEFINED_BY"
              },
              {
                "id": 6917634580757348000,
                "start": 9,
                "end": 123,
                "properties": {
                  "label": "IS_A_TYPE_OF"
                },
                "color": "#673AB7",
                "thickness_factor": 1,
                "directed": true,
                "styles": {},
                "label": "IS_A_TYPE_OF"
              },
              {
                "id": 1152957788490563600,
                "start": 12,
                "end": 82,
                "properties": {
                  "label": "INCLUDES"
                },
                "color": "#CDDC39",
                "thickness_factor": 1,
                "directed": true,
                "styles": {},
                "label": "INCLUDES"
              },
              {
                "id": 1155209588304248800,
                "start": 12,
                "end": 83,
                "properties": {
                  "label": "INCLUDES"
                },
                "color": "#CDDC39",
                "thickness_factor": 1,
                "directed": true,
                "styles": {},
                "label": "INCLUDES"
              },
              {
                "id": 1157428402769100800,
                "start": 15,
                "end": 181,
                "properties": {
                  "label": "RELATED_TO"
                },
                "color": "#673AB7",
                "thickness_factor": 1,
                "directed": true,
                "styles": {},
                "label": "RELATED_TO"
              },
              {
                "id": 1152924803141730300,
                "start": 15,
                "end": 355,
                "properties": {
                  "label": "RELATED_TO"
                },
                "color": "#673AB7",
                "thickness_factor": 1,
                "directed": true,
                "styles": {},
                "label": "RELATED_TO"
              },
              {
                "id": 1155176602955415600,
                "start": 15,
                "end": 356,
                "properties": {
                  "label": "RELATED_TO"
                },
                "color": "#673AB7",
                "thickness_factor": 1,
                "directed": true,
                "styles": {},
                "label": "RELATED_TO"
              },
              {
                "id": 1155307444839121000,
                "start": 15,
                "end": 267,
                "properties": {
                  "label": "COMPARES"
                },
                "color": "#9E9E9E",
                "thickness_factor": 1,
                "directed": true,
                "styles": {},
                "label": "COMPARES"
              },
              {
                "id": 1153055645025435600,
                "start": 15,
                "end": 354,
                "properties": {
                  "label": "COMPARES"
                },
                "color": "#9E9E9E",
                "thickness_factor": 1,
                "directed": true,
                "styles": {},
                "label": "COMPARES"
              },
              {
                "id": 6917540022757360000,
                "start": 17,
                "end": 26,
                "properties": {
                  "label": "STUDIES"
                },
                "color": "#9C27B0",
                "thickness_factor": 1,
                "directed": true,
                "styles": {},
                "label": "STUDIES"
              },
              {
                "id": 1152965485071958000,
                "start": 17,
                "end": 114,
                "properties": {
                  "label": "EXAMINES"
                },
                "color": "#2196F3",
                "thickness_factor": 1,
                "directed": true,
                "styles": {},
                "label": "EXAMINES"
              },
              {
                "id": 1153045749420785700,
                "start": 17,
                "end": 341,
                "properties": {
                  "label": "INFLUENCES"
                },
                "color": "#4CAF50",
                "thickness_factor": 1,
                "directed": true,
                "styles": {},
                "label": "INFLUENCES"
              },
              {
                "id": 6917540022757360000,
                "start": 18,
                "end": 27,
                "properties": {
                  "label": "STUDIES"
                },
                "color": "#9C27B0",
                "thickness_factor": 1,
                "directed": true,
                "styles": {},
                "label": "STUDIES"
              },
              {
                "id": 1152933599234752500,
                "start": 19,
                "end": 20,
                "properties": {
                  "label": "OLDEST_ETYMOLOGICAL_WORK_IN"
                },
                "color": "#F44336",
                "thickness_factor": 1,
                "directed": true,
                "styles": {},
                "label": "OLDEST_ETYMOLOGICAL_WORK_IN"
              },
              {
                "id": 6917532326175965000,
                "start": 22,
                "end": 300,
                "properties": {
                  "label": "RELATED_TO"
                },
                "color": "#673AB7",
                "thickness_factor": 1,
                "directed": true,
                "styles": {},
                "label": "RELATED_TO"
              },
              {
                "id": 1152934698746380300,
                "start": 22,
                "end": 21,
                "properties": {
                  "label": "PART_OF"
                },
                "color": "#607D8B",
                "thickness_factor": 1,
                "directed": true,
                "styles": {},
                "label": "PART_OF"
              },
              {
                "id": 6917542221780615000,
                "start": 22,
                "end": 169,
                "properties": {
                  "label": "PART_OF"
                },
                "color": "#607D8B",
                "thickness_factor": 1,
                "directed": true,
                "styles": {},
                "label": "PART_OF"
              },
              {
                "id": 1155224981467037700,
                "start": 22,
                "end": 25,
                "properties": {
                  "label": "DIFFERS_FROM"
                },
                "color": "#673AB7",
                "thickness_factor": 1,
                "directed": true,
                "styles": {},
                "label": "DIFFERS_FROM"
              },
              {
                "id": 1152973181653352400,
                "start": 22,
                "end": 136,
                "properties": {
                  "label": "DIFFERS_FROM"
                },
                "color": "#673AB7",
                "thickness_factor": 1,
                "directed": true,
                "styles": {},
                "label": "DIFFERS_FROM"
              },
              {
                "id": 6917581804199215000,
                "start": 22,
                "end": 167,
                "properties": {
                  "label": "FOCUSES_ON"
                },
                "color": "#CDDC39",
                "thickness_factor": 1,
                "directed": true,
                "styles": {},
                "label": "FOCUSES_ON"
              },
              {
                "id": 6917581804199215000,
                "start": 22,
                "end": 362,
                "properties": {
                  "label": "FOCUSES_ON"
                },
                "color": "#CDDC39",
                "thickness_factor": 1,
                "directed": true,
                "styles": {},
                "label": "FOCUSES_ON"
              },
              {
                "id": 1152986375792885800,
                "start": 22,
                "end": 136,
                "properties": {
                  "label": "DISTINGUISHES"
                },
                "color": "#4CAF50",
                "thickness_factor": 1,
                "directed": true,
                "styles": {},
                "label": "DISTINGUISHES"
              },
              {
                "id": 6917597197362004000,
                "start": 22,
                "end": 169,
                "properties": {
                  "label": "IS_A"
                },
                "color": "#F44336",
                "thickness_factor": 1,
                "directed": true,
                "styles": {},
                "label": "IS_A"
              },
              {
                "id": 6917656570989904000,
                "start": 22,
                "end": 345,
                "properties": {
                  "label": "FOCUS"
                },
                "color": "#9E9E9E",
                "thickness_factor": 1,
                "directed": true,
                "styles": {},
                "label": "FOCUS"
              },
              {
                "id": 6917657670501532000,
                "start": 22,
                "end": 346,
                "properties": {
                  "label": "SUBJECT"
                },
                "color": "#9C27B0",
                "thickness_factor": 1,
                "directed": true,
                "styles": {},
                "label": "SUBJECT"
              },
              {
                "id": 6917532326175965000,
                "start": 23,
                "end": 156,
                "properties": {
                  "label": "RELATED_TO"
                },
                "color": "#673AB7",
                "thickness_factor": 1,
                "directed": true,
                "styles": {},
                "label": "RELATED_TO"
              }
            ],
            "_graph_layout": {},
            "_highlight": [],
            "_license": {},
            "_model_module": "yfiles-jupyter-graphs",
            "_model_module_version": "^1.10.1",
            "_model_name": "GraphModel",
            "_neighborhood": {},
            "_nodes": [
              {
                "id": 1,
                "properties": {
                  "id": "Darśana",
                  "label": "Concept:__Entity__"
                },
                "color": "#2196F3",
                "styles": {},
                "label": "Darśana",
                "scale_factor": 1,
                "type": "#2196F3",
                "size": [
                  55,
                  55
                ],
                "position": [
                  0,
                  0
                ]
              },
              {
                "id": 2,
                "properties": {
                  "id": "Philosophical Systems",
                  "label": "Concept:__Entity__"
                },
                "color": "#2196F3",
                "styles": {},
                "label": "Philosophical Systems",
                "scale_factor": 1,
                "type": "#2196F3",
                "size": [
                  55,
                  55
                ],
                "position": [
                  0,
                  0
                ]
              },
              {
                "id": 3,
                "properties": {
                  "id": "Philosophy Of Language",
                  "label": "Concept:__Entity__"
                },
                "color": "#2196F3",
                "styles": {},
                "label": "Philosophy Of Language",
                "scale_factor": 1,
                "type": "#2196F3",
                "size": [
                  55,
                  55
                ],
                "position": [
                  0,
                  0
                ]
              },
              {
                "id": 4,
                "properties": {
                  "id": "Epistemology",
                  "label": "Concept:__Entity__:Philosophical concept"
                },
                "color": "#4CAF50",
                "styles": {},
                "label": "Epistemology",
                "scale_factor": 1,
                "type": "#4CAF50",
                "size": [
                  55,
                  55
                ],
                "position": [
                  0,
                  0
                ]
              },
              {
                "id": 87,
                "properties": {
                  "id": "Ontological Realities",
                  "label": "Concept:__Entity__"
                },
                "color": "#2196F3",
                "styles": {},
                "label": "Ontological Realities",
                "scale_factor": 1,
                "type": "#2196F3",
                "size": [
                  55,
                  55
                ],
                "position": [
                  0,
                  0
                ]
              },
              {
                "id": 88,
                "properties": {
                  "id": "Epistemological Realities",
                  "label": "Concept:__Entity__"
                },
                "color": "#2196F3",
                "styles": {},
                "label": "Epistemological Realities",
                "scale_factor": 1,
                "type": "#2196F3",
                "size": [
                  55,
                  55
                ],
                "position": [
                  0,
                  0
                ]
              },
              {
                "id": 293,
                "properties": {
                  "id": "Theory Of Knowledge",
                  "label": "Concept:__Entity__"
                },
                "color": "#2196F3",
                "styles": {},
                "label": "Theory Of Knowledge",
                "scale_factor": 1,
                "type": "#2196F3",
                "size": [
                  55,
                  55
                ],
                "position": [
                  0,
                  0
                ]
              },
              {
                "id": 6,
                "properties": {
                  "id": "Sapir-Whorf Theory",
                  "label": "__Entity__:Theory"
                },
                "color": "#F44336",
                "styles": {},
                "label": "Sapir-Whorf Theory",
                "scale_factor": 1,
                "type": "#F44336",
                "size": [
                  55,
                  55
                ],
                "position": [
                  0,
                  0
                ]
              },
              {
                "id": 7,
                "properties": {
                  "id": "Language",
                  "label": "Concept:__Entity__:Language:Linguistic_entity"
                },
                "color": "#607D8B",
                "styles": {},
                "label": "Language",
                "scale_factor": 1,
                "type": "#607D8B",
                "size": [
                  55,
                  55
                ],
                "position": [
                  0,
                  0
                ]
              },
              {
                "id": 8,
                "properties": {
                  "id": "Worldview",
                  "label": "Concept:__Entity__"
                },
                "color": "#2196F3",
                "styles": {},
                "label": "Worldview",
                "scale_factor": 1,
                "type": "#2196F3",
                "size": [
                  55,
                  55
                ],
                "position": [
                  0,
                  0
                ]
              },
              {
                "id": 84,
                "properties": {
                  "id": "Scripture Study",
                  "label": "Concept:__Entity__"
                },
                "color": "#2196F3",
                "styles": {},
                "label": "Scripture Study",
                "scale_factor": 1,
                "type": "#2196F3",
                "size": [
                  55,
                  55
                ],
                "position": [
                  0,
                  0
                ]
              },
              {
                "id": 96,
                "properties": {
                  "id": "Pramāṇa",
                  "label": "__Entity__:Philosophical concept"
                },
                "color": "#673AB7",
                "styles": {},
                "label": "Pramāṇa",
                "scale_factor": 1,
                "type": "#673AB7",
                "size": [
                  55,
                  55
                ],
                "position": [
                  0,
                  0
                ]
              },
              {
                "id": 327,
                "properties": {
                  "id": "Valid_Means_Of_Knowledge",
                  "label": "Means_of_knowledge:__Entity__"
                },
                "color": "#CDDC39",
                "styles": {},
                "label": "Valid_Means_Of_Knowledge",
                "scale_factor": 1,
                "type": "#CDDC39",
                "size": [
                  55,
                  55
                ],
                "position": [
                  0,
                  0
                ]
              },
              {
                "id": 9,
                "properties": {
                  "id": "Śabda",
                  "label": "Concept:Pramāṇa:__Entity__:Linguistic unit:Linguisticterm:Linguistic entity"
                },
                "color": "#9E9E9E",
                "styles": {},
                "label": "Śabda",
                "scale_factor": 1,
                "type": "#9E9E9E",
                "size": [
                  55,
                  55
                ],
                "position": [
                  0,
                  0
                ]
              },
              {
                "id": 354,
                "properties": {
                  "id": "Word",
                  "label": "__Entity__:Linguistic entity"
                },
                "color": "#9C27B0",
                "styles": {},
                "label": "Word",
                "scale_factor": 1,
                "type": "#9C27B0",
                "size": [
                  55,
                  55
                ],
                "position": [
                  0,
                  0
                ]
              },
              {
                "id": 10,
                "properties": {
                  "id": "Indian Philosophy",
                  "label": "Concept:__Entity__:Philosophy"
                },
                "color": "#2196F3",
                "styles": {},
                "label": "Indian Philosophy",
                "scale_factor": 1,
                "type": "#2196F3",
                "size": [
                  55,
                  55
                ],
                "position": [
                  0,
                  0
                ]
              },
              {
                "id": 11,
                "properties": {
                  "id": "Buddhist Philosophy",
                  "label": "__Entity__:Philosophy"
                },
                "color": "#4CAF50",
                "styles": {},
                "label": "Buddhist Philosophy",
                "scale_factor": 1,
                "type": "#4CAF50",
                "size": [
                  55,
                  55
                ],
                "position": [
                  0,
                  0
                ]
              },
              {
                "id": 295,
                "properties": {
                  "id": "Sāmānya",
                  "label": "Concept:__Entity__"
                },
                "color": "#2196F3",
                "styles": {},
                "label": "Sāmānya",
                "scale_factor": 1,
                "type": "#2196F3",
                "size": [
                  55,
                  55
                ],
                "position": [
                  0,
                  0
                ]
              },
              {
                "id": 13,
                "properties": {
                  "id": "Universal Property",
                  "label": "Concept:__Entity__"
                },
                "color": "#2196F3",
                "styles": {},
                "label": "Universal Property",
                "scale_factor": 1,
                "type": "#2196F3",
                "size": [
                  55,
                  55
                ],
                "position": [
                  0,
                  0
                ]
              },
              {
                "id": 14,
                "properties": {
                  "id": "Conceptual Construct",
                  "label": "Concept:__Entity__"
                },
                "color": "#2196F3",
                "styles": {},
                "label": "Conceptual Construct",
                "scale_factor": 1,
                "type": "#2196F3",
                "size": [
                  55,
                  55
                ],
                "position": [
                  0,
                  0
                ]
              },
              {
                "id": 15,
                "properties": {
                  "id": "Modern Parallels",
                  "label": "Concept:__Entity__"
                },
                "color": "#2196F3",
                "styles": {},
                "label": "Modern Parallels",
                "scale_factor": 1,
                "type": "#2196F3",
                "size": [
                  55,
                  55
                ],
                "position": [
                  0,
                  0
                ]
              },
              {
                "id": 31,
                "properties": {
                  "id": "Aśabda",
                  "label": "__Entity__:Non-linguistic entity:Linguisticterm:Concept:Linguistic unit"
                },
                "color": "#F44336",
                "styles": {},
                "label": "Aśabda",
                "scale_factor": 1,
                "type": "#F44336",
                "size": [
                  55,
                  55
                ],
                "position": [
                  0,
                  0
                ]
              },
              {
                "id": 357,
                "properties": {
                  "id": "Linguistic Entity",
                  "label": "Concept:__Entity__"
                },
                "color": "#2196F3",
                "styles": {},
                "label": "Linguistic Entity",
                "scale_factor": 1,
                "type": "#2196F3",
                "size": [
                  55,
                  55
                ],
                "position": [
                  0,
                  0
                ]
              },
              {
                "id": 359,
                "properties": {
                  "id": "Use",
                  "label": "__Entity__:Action"
                },
                "color": "#607D8B",
                "styles": {},
                "label": "Use",
                "scale_factor": 1,
                "type": "#607D8B",
                "size": [
                  55,
                  55
                ],
                "position": [
                  0,
                  0
                ]
              },
              {
                "id": 123,
                "properties": {
                  "id": "Verbal Testimony",
                  "label": "Concept:__Entity__"
                },
                "color": "#2196F3",
                "styles": {},
                "label": "Verbal Testimony",
                "scale_factor": 1,
                "type": "#2196F3",
                "size": [
                  55,
                  55
                ],
                "position": [
                  0,
                  0
                ]
              },
              {
                "id": 12,
                "properties": {
                  "id": "Means Of Knowledge",
                  "label": "Concept:__Entity__"
                },
                "color": "#2196F3",
                "styles": {},
                "label": "Means Of Knowledge",
                "scale_factor": 1,
                "type": "#2196F3",
                "size": [
                  55,
                  55
                ],
                "position": [
                  0,
                  0
                ]
              },
              {
                "id": 82,
                "properties": {
                  "id": "Perception",
                  "label": "Concept:__Entity__"
                },
                "color": "#2196F3",
                "styles": {},
                "label": "Perception",
                "scale_factor": 1,
                "type": "#2196F3",
                "size": [
                  55,
                  55
                ],
                "position": [
                  0,
                  0
                ]
              },
              {
                "id": 83,
                "properties": {
                  "id": "Inference",
                  "label": "Concept:__Entity__"
                },
                "color": "#2196F3",
                "styles": {},
                "label": "Inference",
                "scale_factor": 1,
                "type": "#2196F3",
                "size": [
                  55,
                  55
                ],
                "position": [
                  0,
                  0
                ]
              },
              {
                "id": 181,
                "properties": {
                  "id": "Taddhita",
                  "label": "Concept:__Entity__"
                },
                "color": "#2196F3",
                "styles": {},
                "label": "Taddhita",
                "scale_factor": 1,
                "type": "#2196F3",
                "size": [
                  55,
                  55
                ],
                "position": [
                  0,
                  0
                ]
              },
              {
                "id": 355,
                "properties": {
                  "id": "Syntax",
                  "label": "__Entity__:Field of study"
                },
                "color": "#673AB7",
                "styles": {},
                "label": "Syntax",
                "scale_factor": 1,
                "type": "#673AB7",
                "size": [
                  55,
                  55
                ],
                "position": [
                  0,
                  0
                ]
              },
              {
                "id": 356,
                "properties": {
                  "id": "Phrase Structure Grammar",
                  "label": "Concept:__Entity__"
                },
                "color": "#2196F3",
                "styles": {},
                "label": "Phrase Structure Grammar",
                "scale_factor": 1,
                "type": "#2196F3",
                "size": [
                  55,
                  55
                ],
                "position": [
                  0,
                  0
                ]
              },
              {
                "id": 267,
                "properties": {
                  "id": "Sentence",
                  "label": "__Entity__:Linguistic entity:Thing"
                },
                "color": "#CDDC39",
                "styles": {},
                "label": "Sentence",
                "scale_factor": 1,
                "type": "#CDDC39",
                "size": [
                  55,
                  55
                ],
                "position": [
                  0,
                  0
                ]
              },
              {
                "id": 17,
                "properties": {
                  "id": "Pragmatics",
                  "label": "Concept:__Entity__:Field of study:Method"
                },
                "color": "#9E9E9E",
                "styles": {},
                "label": "Pragmatics",
                "scale_factor": 1,
                "type": "#9E9E9E",
                "size": [
                  55,
                  55
                ],
                "position": [
                  0,
                  0
                ]
              },
              {
                "id": 26,
                "properties": {
                  "id": "How Context Influences Meaning",
                  "label": "__Entity__"
                },
                "color": "#9C27B0",
                "styles": {},
                "label": "How Context Influences Meaning",
                "scale_factor": 1,
                "type": "#9C27B0",
                "size": [
                  55,
                  55
                ],
                "position": [
                  0,
                  0
                ]
              },
              {
                "id": 114,
                "properties": {
                  "id": "Context",
                  "label": "Concept:__Entity__:Factor"
                },
                "color": "#2196F3",
                "styles": {},
                "label": "Context",
                "scale_factor": 1,
                "type": "#2196F3",
                "size": [
                  55,
                  55
                ],
                "position": [
                  0,
                  0
                ]
              },
              {
                "id": 341,
                "properties": {
                  "id": "Understanding",
                  "label": "Concept:__Entity__"
                },
                "color": "#2196F3",
                "styles": {},
                "label": "Understanding",
                "scale_factor": 1,
                "type": "#2196F3",
                "size": [
                  55,
                  55
                ],
                "position": [
                  0,
                  0
                ]
              },
              {
                "id": 18,
                "properties": {
                  "id": "Lexical Semantics",
                  "label": "__Entity__:Field of study"
                },
                "color": "#673AB7",
                "styles": {},
                "label": "Lexical Semantics",
                "scale_factor": 1,
                "type": "#673AB7",
                "size": [
                  55,
                  55
                ],
                "position": [
                  0,
                  0
                ]
              },
              {
                "id": 27,
                "properties": {
                  "id": "How Words Carry Meaning",
                  "label": "__Entity__"
                },
                "color": "#9C27B0",
                "styles": {},
                "label": "How Words Carry Meaning",
                "scale_factor": 1,
                "type": "#9C27B0",
                "size": [
                  55,
                  55
                ],
                "position": [
                  0,
                  0
                ]
              },
              {
                "id": 19,
                "properties": {
                  "id": "Yāska'S Nirukta",
                  "label": "__Entity__:Text"
                },
                "color": "#4CAF50",
                "styles": {},
                "label": "Yāska'S Nirukta",
                "scale_factor": 1,
                "type": "#4CAF50",
                "size": [
                  55,
                  55
                ],
                "position": [
                  0,
                  0
                ]
              },
              {
                "id": 20,
                "properties": {
                  "id": "India",
                  "label": "__Entity__:Country"
                },
                "color": "#F44336",
                "styles": {},
                "label": "India",
                "scale_factor": 1,
                "type": "#F44336",
                "size": [
                  55,
                  55
                ],
                "position": [
                  0,
                  0
                ]
              },
              {
                "id": 22,
                "properties": {
                  "id": "Śikṣā",
                  "label": "Concept:Field of study:__Entity__:Text:Study:Phonetics and phonology:Discipline"
                },
                "color": "#607D8B",
                "styles": {},
                "label": "Śikṣā",
                "scale_factor": 1,
                "type": "#607D8B",
                "size": [
                  55,
                  55
                ],
                "position": [
                  0,
                  0
                ]
              },
              {
                "id": 300,
                "properties": {
                  "id": "Phonetics And Phonology",
                  "label": "__Entity__:Field"
                },
                "color": "#673AB7",
                "styles": {},
                "label": "Phonetics And Phonology",
                "scale_factor": 1,
                "type": "#673AB7",
                "size": [
                  55,
                  55
                ],
                "position": [
                  0,
                  0
                ]
              },
              {
                "id": 21,
                "properties": {
                  "id": "Vedāṅgas",
                  "label": "__Entity__:Collection"
                },
                "color": "#CDDC39",
                "styles": {},
                "label": "Vedāṅgas",
                "scale_factor": 1,
                "type": "#CDDC39",
                "size": [
                  55,
                  55
                ],
                "position": [
                  0,
                  0
                ]
              },
              {
                "id": 169,
                "properties": {
                  "id": "Vedanga",
                  "label": "Concept:__Entity__:Field of study"
                },
                "color": "#9E9E9E",
                "styles": {},
                "label": "Vedanga",
                "scale_factor": 1,
                "type": "#9E9E9E",
                "size": [
                  55,
                  55
                ],
                "position": [
                  0,
                  0
                ]
              },
              {
                "id": 25,
                "properties": {
                  "id": "Chandas",
                  "label": "__Entity__:Study:Discipline:Concept:Prosody and poetic meter analysis:Field of study"
                },
                "color": "#9C27B0",
                "styles": {},
                "label": "Chandas",
                "scale_factor": 1,
                "type": "#9C27B0",
                "size": [
                  55,
                  55
                ],
                "position": [
                  0,
                  0
                ]
              },
              {
                "id": 136,
                "properties": {
                  "id": "Prātiśākhya",
                  "label": "Concept:Field of study:__Entity__:Text:Study:Discipline"
                },
                "color": "#2196F3",
                "styles": {},
                "label": "Prātiśākhya",
                "scale_factor": 1,
                "type": "#2196F3",
                "size": [
                  55,
                  55
                ],
                "position": [
                  0,
                  0
                ]
              },
              {
                "id": 167,
                "properties": {
                  "id": "Pronunciation",
                  "label": "__Entity__"
                },
                "color": "#9C27B0",
                "styles": {},
                "label": "Pronunciation",
                "scale_factor": 1,
                "type": "#9C27B0",
                "size": [
                  55,
                  55
                ],
                "position": [
                  0,
                  0
                ]
              },
              {
                "id": 362,
                "properties": {
                  "id": "General Accuracy Of Pronunciation",
                  "label": "Concept:__Entity__"
                },
                "color": "#2196F3",
                "styles": {},
                "label": "General Accuracy Of Pronunciation",
                "scale_factor": 1,
                "type": "#2196F3",
                "size": [
                  55,
                  55
                ],
                "position": [
                  0,
                  0
                ]
              },
              {
                "id": 345,
                "properties": {
                  "id": "Phonetics",
                  "label": "__Entity__"
                },
                "color": "#9C27B0",
                "styles": {},
                "label": "Phonetics",
                "scale_factor": 1,
                "type": "#9C27B0",
                "size": [
                  55,
                  55
                ],
                "position": [
                  0,
                  0
                ]
              },
              {
                "id": 346,
                "properties": {
                  "id": "Vedic Pronunciation",
                  "label": "__Entity__"
                },
                "color": "#9C27B0",
                "styles": {},
                "label": "Vedic Pronunciation",
                "scale_factor": 1,
                "type": "#9C27B0",
                "size": [
                  55,
                  55
                ],
                "position": [
                  0,
                  0
                ]
              },
              {
                "id": 23,
                "properties": {
                  "id": "Vyākaraṇa",
                  "label": "__Entity__:Subject:Grammar:Study:System of thought:Discipline:Concept:Field of study"
                },
                "color": "#4CAF50",
                "styles": {},
                "label": "Vyākaraṇa",
                "scale_factor": 1,
                "type": "#4CAF50",
                "size": [
                  55,
                  55
                ],
                "position": [
                  0,
                  0
                ]
              },
              {
                "id": 156,
                "properties": {
                  "id": "Descriptive Vs. Prescriptive Grammar",
                  "label": "Concept:__Entity__"
                },
                "color": "#2196F3",
                "styles": {},
                "label": "Descriptive Vs. Prescriptive Grammar",
                "scale_factor": 1,
                "type": "#2196F3",
                "size": [
                  55,
                  55
                ],
                "position": [
                  0,
                  0
                ]
              }
            ],
            "_overview": {
              "enabled": null,
              "overview_set": false
            },
            "_selected_graph": [
              [],
              []
            ],
            "_sidebar": {
              "enabled": false,
              "start_with": null
            },
            "_view_count": null,
            "_view_module": "yfiles-jupyter-graphs",
            "_view_module_version": "^1.10.1",
            "_view_name": "GraphView",
            "layout": "IPY_MODEL_a849474363e74777807891a95f640477",
            "tabbable": null,
            "tooltip": null
          }
        },
        "a849474363e74777807891a95f640477": {
          "model_module": "@jupyter-widgets/base",
          "model_name": "LayoutModel",
          "model_module_version": "2.0.0",
          "state": {
            "_model_module": "@jupyter-widgets/base",
            "_model_module_version": "2.0.0",
            "_model_name": "LayoutModel",
            "_view_count": null,
            "_view_module": "@jupyter-widgets/base",
            "_view_module_version": "2.0.0",
            "_view_name": "LayoutView",
            "align_content": null,
            "align_items": null,
            "align_self": null,
            "border_bottom": null,
            "border_left": null,
            "border_right": null,
            "border_top": null,
            "bottom": null,
            "display": null,
            "flex": null,
            "flex_flow": null,
            "grid_area": null,
            "grid_auto_columns": null,
            "grid_auto_flow": null,
            "grid_auto_rows": null,
            "grid_column": null,
            "grid_gap": null,
            "grid_row": null,
            "grid_template_areas": null,
            "grid_template_columns": null,
            "grid_template_rows": null,
            "height": "800px",
            "justify_content": null,
            "justify_items": null,
            "left": null,
            "margin": null,
            "max_height": null,
            "max_width": null,
            "min_height": null,
            "min_width": null,
            "object_fit": null,
            "object_position": null,
            "order": null,
            "overflow": null,
            "padding": null,
            "right": null,
            "top": null,
            "visibility": null,
            "width": "100%"
          }
        },
        "ac248ad972b34797b187d4e4e8ed8869": {
          "model_module": "@jupyter-widgets/controls",
          "model_name": "HBoxModel",
          "model_module_version": "2.0.0",
          "state": {
            "_dom_classes": [],
            "_model_module": "@jupyter-widgets/controls",
            "_model_module_version": "2.0.0",
            "_model_name": "HBoxModel",
            "_view_count": null,
            "_view_module": "@jupyter-widgets/controls",
            "_view_module_version": "2.0.0",
            "_view_name": "HBoxView",
            "box_style": "",
            "children": [
              "IPY_MODEL_d7828cab5a7745d9b2ad1fd3f1b92d3f",
              "IPY_MODEL_b00530858143430285f34a3386b95996",
              "IPY_MODEL_fa80f23bb4cf4485b49af5c40dc99377"
            ],
            "layout": "IPY_MODEL_d5b5bcc79a1841efb5cad980a1440b55",
            "tabbable": null,
            "tooltip": null
          }
        },
        "d7828cab5a7745d9b2ad1fd3f1b92d3f": {
          "model_module": "@jupyter-widgets/controls",
          "model_name": "HTMLModel",
          "model_module_version": "2.0.0",
          "state": {
            "_dom_classes": [],
            "_model_module": "@jupyter-widgets/controls",
            "_model_module_version": "2.0.0",
            "_model_name": "HTMLModel",
            "_view_count": null,
            "_view_module": "@jupyter-widgets/controls",
            "_view_module_version": "2.0.0",
            "_view_name": "HTMLView",
            "description": "",
            "description_allow_html": false,
            "layout": "IPY_MODEL_c59a0b4e7f3d44a582ae94dd141291d4",
            "placeholder": "​",
            "style": "IPY_MODEL_79784570e77149a28177ab5a6c5521c4",
            "tabbable": null,
            "tooltip": null,
            "value": "modules.json: 100%"
          }
        },
        "b00530858143430285f34a3386b95996": {
          "model_module": "@jupyter-widgets/controls",
          "model_name": "FloatProgressModel",
          "model_module_version": "2.0.0",
          "state": {
            "_dom_classes": [],
            "_model_module": "@jupyter-widgets/controls",
            "_model_module_version": "2.0.0",
            "_model_name": "FloatProgressModel",
            "_view_count": null,
            "_view_module": "@jupyter-widgets/controls",
            "_view_module_version": "2.0.0",
            "_view_name": "ProgressView",
            "bar_style": "success",
            "description": "",
            "description_allow_html": false,
            "layout": "IPY_MODEL_55d91343721c4835ba9fbafe18a3bf29",
            "max": 349,
            "min": 0,
            "orientation": "horizontal",
            "style": "IPY_MODEL_b395c899856c455198635564c9ffb4d0",
            "tabbable": null,
            "tooltip": null,
            "value": 349
          }
        },
        "fa80f23bb4cf4485b49af5c40dc99377": {
          "model_module": "@jupyter-widgets/controls",
          "model_name": "HTMLModel",
          "model_module_version": "2.0.0",
          "state": {
            "_dom_classes": [],
            "_model_module": "@jupyter-widgets/controls",
            "_model_module_version": "2.0.0",
            "_model_name": "HTMLModel",
            "_view_count": null,
            "_view_module": "@jupyter-widgets/controls",
            "_view_module_version": "2.0.0",
            "_view_name": "HTMLView",
            "description": "",
            "description_allow_html": false,
            "layout": "IPY_MODEL_180438f114624c1794a5c372ca981c25",
            "placeholder": "​",
            "style": "IPY_MODEL_a6f0c1c462d048a5bd588f7dae290bc5",
            "tabbable": null,
            "tooltip": null,
            "value": " 349/349 [00:00&lt;00:00, 17.2kB/s]"
          }
        },
        "d5b5bcc79a1841efb5cad980a1440b55": {
          "model_module": "@jupyter-widgets/base",
          "model_name": "LayoutModel",
          "model_module_version": "2.0.0",
          "state": {
            "_model_module": "@jupyter-widgets/base",
            "_model_module_version": "2.0.0",
            "_model_name": "LayoutModel",
            "_view_count": null,
            "_view_module": "@jupyter-widgets/base",
            "_view_module_version": "2.0.0",
            "_view_name": "LayoutView",
            "align_content": null,
            "align_items": null,
            "align_self": null,
            "border_bottom": null,
            "border_left": null,
            "border_right": null,
            "border_top": null,
            "bottom": null,
            "display": null,
            "flex": null,
            "flex_flow": null,
            "grid_area": null,
            "grid_auto_columns": null,
            "grid_auto_flow": null,
            "grid_auto_rows": null,
            "grid_column": null,
            "grid_gap": null,
            "grid_row": null,
            "grid_template_areas": null,
            "grid_template_columns": null,
            "grid_template_rows": null,
            "height": null,
            "justify_content": null,
            "justify_items": null,
            "left": null,
            "margin": null,
            "max_height": null,
            "max_width": null,
            "min_height": null,
            "min_width": null,
            "object_fit": null,
            "object_position": null,
            "order": null,
            "overflow": null,
            "padding": null,
            "right": null,
            "top": null,
            "visibility": null,
            "width": null
          }
        },
        "c59a0b4e7f3d44a582ae94dd141291d4": {
          "model_module": "@jupyter-widgets/base",
          "model_name": "LayoutModel",
          "model_module_version": "2.0.0",
          "state": {
            "_model_module": "@jupyter-widgets/base",
            "_model_module_version": "2.0.0",
            "_model_name": "LayoutModel",
            "_view_count": null,
            "_view_module": "@jupyter-widgets/base",
            "_view_module_version": "2.0.0",
            "_view_name": "LayoutView",
            "align_content": null,
            "align_items": null,
            "align_self": null,
            "border_bottom": null,
            "border_left": null,
            "border_right": null,
            "border_top": null,
            "bottom": null,
            "display": null,
            "flex": null,
            "flex_flow": null,
            "grid_area": null,
            "grid_auto_columns": null,
            "grid_auto_flow": null,
            "grid_auto_rows": null,
            "grid_column": null,
            "grid_gap": null,
            "grid_row": null,
            "grid_template_areas": null,
            "grid_template_columns": null,
            "grid_template_rows": null,
            "height": null,
            "justify_content": null,
            "justify_items": null,
            "left": null,
            "margin": null,
            "max_height": null,
            "max_width": null,
            "min_height": null,
            "min_width": null,
            "object_fit": null,
            "object_position": null,
            "order": null,
            "overflow": null,
            "padding": null,
            "right": null,
            "top": null,
            "visibility": null,
            "width": null
          }
        },
        "79784570e77149a28177ab5a6c5521c4": {
          "model_module": "@jupyter-widgets/controls",
          "model_name": "HTMLStyleModel",
          "model_module_version": "2.0.0",
          "state": {
            "_model_module": "@jupyter-widgets/controls",
            "_model_module_version": "2.0.0",
            "_model_name": "HTMLStyleModel",
            "_view_count": null,
            "_view_module": "@jupyter-widgets/base",
            "_view_module_version": "2.0.0",
            "_view_name": "StyleView",
            "background": null,
            "description_width": "",
            "font_size": null,
            "text_color": null
          }
        },
        "55d91343721c4835ba9fbafe18a3bf29": {
          "model_module": "@jupyter-widgets/base",
          "model_name": "LayoutModel",
          "model_module_version": "2.0.0",
          "state": {
            "_model_module": "@jupyter-widgets/base",
            "_model_module_version": "2.0.0",
            "_model_name": "LayoutModel",
            "_view_count": null,
            "_view_module": "@jupyter-widgets/base",
            "_view_module_version": "2.0.0",
            "_view_name": "LayoutView",
            "align_content": null,
            "align_items": null,
            "align_self": null,
            "border_bottom": null,
            "border_left": null,
            "border_right": null,
            "border_top": null,
            "bottom": null,
            "display": null,
            "flex": null,
            "flex_flow": null,
            "grid_area": null,
            "grid_auto_columns": null,
            "grid_auto_flow": null,
            "grid_auto_rows": null,
            "grid_column": null,
            "grid_gap": null,
            "grid_row": null,
            "grid_template_areas": null,
            "grid_template_columns": null,
            "grid_template_rows": null,
            "height": null,
            "justify_content": null,
            "justify_items": null,
            "left": null,
            "margin": null,
            "max_height": null,
            "max_width": null,
            "min_height": null,
            "min_width": null,
            "object_fit": null,
            "object_position": null,
            "order": null,
            "overflow": null,
            "padding": null,
            "right": null,
            "top": null,
            "visibility": null,
            "width": null
          }
        },
        "b395c899856c455198635564c9ffb4d0": {
          "model_module": "@jupyter-widgets/controls",
          "model_name": "ProgressStyleModel",
          "model_module_version": "2.0.0",
          "state": {
            "_model_module": "@jupyter-widgets/controls",
            "_model_module_version": "2.0.0",
            "_model_name": "ProgressStyleModel",
            "_view_count": null,
            "_view_module": "@jupyter-widgets/base",
            "_view_module_version": "2.0.0",
            "_view_name": "StyleView",
            "bar_color": null,
            "description_width": ""
          }
        },
        "180438f114624c1794a5c372ca981c25": {
          "model_module": "@jupyter-widgets/base",
          "model_name": "LayoutModel",
          "model_module_version": "2.0.0",
          "state": {
            "_model_module": "@jupyter-widgets/base",
            "_model_module_version": "2.0.0",
            "_model_name": "LayoutModel",
            "_view_count": null,
            "_view_module": "@jupyter-widgets/base",
            "_view_module_version": "2.0.0",
            "_view_name": "LayoutView",
            "align_content": null,
            "align_items": null,
            "align_self": null,
            "border_bottom": null,
            "border_left": null,
            "border_right": null,
            "border_top": null,
            "bottom": null,
            "display": null,
            "flex": null,
            "flex_flow": null,
            "grid_area": null,
            "grid_auto_columns": null,
            "grid_auto_flow": null,
            "grid_auto_rows": null,
            "grid_column": null,
            "grid_gap": null,
            "grid_row": null,
            "grid_template_areas": null,
            "grid_template_columns": null,
            "grid_template_rows": null,
            "height": null,
            "justify_content": null,
            "justify_items": null,
            "left": null,
            "margin": null,
            "max_height": null,
            "max_width": null,
            "min_height": null,
            "min_width": null,
            "object_fit": null,
            "object_position": null,
            "order": null,
            "overflow": null,
            "padding": null,
            "right": null,
            "top": null,
            "visibility": null,
            "width": null
          }
        },
        "a6f0c1c462d048a5bd588f7dae290bc5": {
          "model_module": "@jupyter-widgets/controls",
          "model_name": "HTMLStyleModel",
          "model_module_version": "2.0.0",
          "state": {
            "_model_module": "@jupyter-widgets/controls",
            "_model_module_version": "2.0.0",
            "_model_name": "HTMLStyleModel",
            "_view_count": null,
            "_view_module": "@jupyter-widgets/base",
            "_view_module_version": "2.0.0",
            "_view_name": "StyleView",
            "background": null,
            "description_width": "",
            "font_size": null,
            "text_color": null
          }
        },
        "5cd3d58bda8d44abaaed52664e5970fa": {
          "model_module": "@jupyter-widgets/base",
          "model_name": "LayoutModel",
          "model_module_version": "2.0.0",
          "state": {
            "_model_module": "@jupyter-widgets/base",
            "_model_module_version": "2.0.0",
            "_model_name": "LayoutModel",
            "_view_count": null,
            "_view_module": "@jupyter-widgets/base",
            "_view_module_version": "2.0.0",
            "_view_name": "LayoutView",
            "align_content": null,
            "align_items": null,
            "align_self": null,
            "border_bottom": null,
            "border_left": null,
            "border_right": null,
            "border_top": null,
            "bottom": null,
            "display": null,
            "flex": null,
            "flex_flow": null,
            "grid_area": null,
            "grid_auto_columns": null,
            "grid_auto_flow": null,
            "grid_auto_rows": null,
            "grid_column": null,
            "grid_gap": null,
            "grid_row": null,
            "grid_template_areas": null,
            "grid_template_columns": null,
            "grid_template_rows": null,
            "height": null,
            "justify_content": null,
            "justify_items": null,
            "left": null,
            "margin": null,
            "max_height": null,
            "max_width": null,
            "min_height": null,
            "min_width": null,
            "object_fit": null,
            "object_position": null,
            "order": null,
            "overflow": null,
            "padding": null,
            "right": null,
            "top": null,
            "visibility": null,
            "width": null
          }
        },
        "bf4a7a88c66a41ce8e4a2a278d4752dc": {
          "model_module": "@jupyter-widgets/controls",
          "model_name": "ProgressStyleModel",
          "model_module_version": "2.0.0",
          "state": {
            "_model_module": "@jupyter-widgets/controls",
            "_model_module_version": "2.0.0",
            "_model_name": "ProgressStyleModel",
            "_view_count": null,
            "_view_module": "@jupyter-widgets/base",
            "_view_module_version": "2.0.0",
            "_view_name": "StyleView",
            "bar_color": null,
            "description_width": ""
          }
        },
        "cf53cb4a8bec44eea9194de066ff8012": {
          "model_module": "@jupyter-widgets/base",
          "model_name": "LayoutModel",
          "model_module_version": "2.0.0",
          "state": {
            "_model_module": "@jupyter-widgets/base",
            "_model_module_version": "2.0.0",
            "_model_name": "LayoutModel",
            "_view_count": null,
            "_view_module": "@jupyter-widgets/base",
            "_view_module_version": "2.0.0",
            "_view_name": "LayoutView",
            "align_content": null,
            "align_items": null,
            "align_self": null,
            "border_bottom": null,
            "border_left": null,
            "border_right": null,
            "border_top": null,
            "bottom": null,
            "display": null,
            "flex": null,
            "flex_flow": null,
            "grid_area": null,
            "grid_auto_columns": null,
            "grid_auto_flow": null,
            "grid_auto_rows": null,
            "grid_column": null,
            "grid_gap": null,
            "grid_row": null,
            "grid_template_areas": null,
            "grid_template_columns": null,
            "grid_template_rows": null,
            "height": null,
            "justify_content": null,
            "justify_items": null,
            "left": null,
            "margin": null,
            "max_height": null,
            "max_width": null,
            "min_height": null,
            "min_width": null,
            "object_fit": null,
            "object_position": null,
            "order": null,
            "overflow": null,
            "padding": null,
            "right": null,
            "top": null,
            "visibility": null,
            "width": null
          }
        },
        "b5644a57aa1e4896a45dd62d97ae1a32": {
          "model_module": "@jupyter-widgets/controls",
          "model_name": "HTMLStyleModel",
          "model_module_version": "2.0.0",
          "state": {
            "_model_module": "@jupyter-widgets/controls",
            "_model_module_version": "2.0.0",
            "_model_name": "HTMLStyleModel",
            "_view_count": null,
            "_view_module": "@jupyter-widgets/base",
            "_view_module_version": "2.0.0",
            "_view_name": "StyleView",
            "background": null,
            "description_width": "",
            "font_size": null,
            "text_color": null
          }
        },
        "f1e191dd50254e5d8a3eb8ce8642fe06": {
          "model_module": "@jupyter-widgets/base",
          "model_name": "LayoutModel",
          "model_module_version": "2.0.0",
          "state": {
            "_model_module": "@jupyter-widgets/base",
            "_model_module_version": "2.0.0",
            "_model_name": "LayoutModel",
            "_view_count": null,
            "_view_module": "@jupyter-widgets/base",
            "_view_module_version": "2.0.0",
            "_view_name": "LayoutView",
            "align_content": null,
            "align_items": null,
            "align_self": null,
            "border_bottom": null,
            "border_left": null,
            "border_right": null,
            "border_top": null,
            "bottom": null,
            "display": null,
            "flex": null,
            "flex_flow": null,
            "grid_area": null,
            "grid_auto_columns": null,
            "grid_auto_flow": null,
            "grid_auto_rows": null,
            "grid_column": null,
            "grid_gap": null,
            "grid_row": null,
            "grid_template_areas": null,
            "grid_template_columns": null,
            "grid_template_rows": null,
            "height": null,
            "justify_content": null,
            "justify_items": null,
            "left": null,
            "margin": null,
            "max_height": null,
            "max_width": null,
            "min_height": null,
            "min_width": null,
            "object_fit": null,
            "object_position": null,
            "order": null,
            "overflow": null,
            "padding": null,
            "right": null,
            "top": null,
            "visibility": null,
            "width": null
          }
        },
        "90d3b96173264e8eb0137cc851121d4b": {
          "model_module": "@jupyter-widgets/controls",
          "model_name": "HTMLStyleModel",
          "model_module_version": "2.0.0",
          "state": {
            "_model_module": "@jupyter-widgets/controls",
            "_model_module_version": "2.0.0",
            "_model_name": "HTMLStyleModel",
            "_view_count": null,
            "_view_module": "@jupyter-widgets/base",
            "_view_module_version": "2.0.0",
            "_view_name": "StyleView",
            "background": null,
            "description_width": "",
            "font_size": null,
            "text_color": null
          }
        },
        "8f7c5fbab7964eb294262ef28a89bc8a": {
          "model_module": "@jupyter-widgets/controls",
          "model_name": "HTMLModel",
          "model_module_version": "2.0.0",
          "state": {
            "_dom_classes": [],
            "_model_module": "@jupyter-widgets/controls",
            "_model_module_version": "2.0.0",
            "_model_name": "HTMLModel",
            "_view_count": null,
            "_view_module": "@jupyter-widgets/controls",
            "_view_module_version": "2.0.0",
            "_view_name": "HTMLView",
            "description": "",
            "description_allow_html": false,
            "layout": "IPY_MODEL_cf53cb4a8bec44eea9194de066ff8012",
            "placeholder": "​",
            "style": "IPY_MODEL_b5644a57aa1e4896a45dd62d97ae1a32",
            "tabbable": null,
            "tooltip": null,
            "value": "config_sentence_transformers.json: 100%"
          }
        },
        "07ebb6115cf54b1a927a485b19deadd1": {
          "model_module": "@jupyter-widgets/controls",
          "model_name": "FloatProgressModel",
          "model_module_version": "2.0.0",
          "state": {
            "_dom_classes": [],
            "_model_module": "@jupyter-widgets/controls",
            "_model_module_version": "2.0.0",
            "_model_name": "FloatProgressModel",
            "_view_count": null,
            "_view_module": "@jupyter-widgets/controls",
            "_view_module_version": "2.0.0",
            "_view_name": "ProgressView",
            "bar_style": "success",
            "description": "",
            "description_allow_html": false,
            "layout": "IPY_MODEL_5cd3d58bda8d44abaaed52664e5970fa",
            "max": 116,
            "min": 0,
            "orientation": "horizontal",
            "style": "IPY_MODEL_bf4a7a88c66a41ce8e4a2a278d4752dc",
            "tabbable": null,
            "tooltip": null,
            "value": 116
          }
        },
        "8368fae6f5894612940f16c6565132df": {
          "model_module": "@jupyter-widgets/controls",
          "model_name": "HTMLModel",
          "model_module_version": "2.0.0",
          "state": {
            "_dom_classes": [],
            "_model_module": "@jupyter-widgets/controls",
            "_model_module_version": "2.0.0",
            "_model_name": "HTMLModel",
            "_view_count": null,
            "_view_module": "@jupyter-widgets/controls",
            "_view_module_version": "2.0.0",
            "_view_name": "HTMLView",
            "description": "",
            "description_allow_html": false,
            "layout": "IPY_MODEL_f1e191dd50254e5d8a3eb8ce8642fe06",
            "placeholder": "​",
            "style": "IPY_MODEL_90d3b96173264e8eb0137cc851121d4b",
            "tabbable": null,
            "tooltip": null,
            "value": " 116/116 [00:00&lt;00:00, 8.64kB/s]"
          }
        },
        "d3e1683cf3fe44beb07906a13af7101e": {
          "model_module": "@jupyter-widgets/base",
          "model_name": "LayoutModel",
          "model_module_version": "2.0.0",
          "state": {
            "_model_module": "@jupyter-widgets/base",
            "_model_module_version": "2.0.0",
            "_model_name": "LayoutModel",
            "_view_count": null,
            "_view_module": "@jupyter-widgets/base",
            "_view_module_version": "2.0.0",
            "_view_name": "LayoutView",
            "align_content": null,
            "align_items": null,
            "align_self": null,
            "border_bottom": null,
            "border_left": null,
            "border_right": null,
            "border_top": null,
            "bottom": null,
            "display": null,
            "flex": null,
            "flex_flow": null,
            "grid_area": null,
            "grid_auto_columns": null,
            "grid_auto_flow": null,
            "grid_auto_rows": null,
            "grid_column": null,
            "grid_gap": null,
            "grid_row": null,
            "grid_template_areas": null,
            "grid_template_columns": null,
            "grid_template_rows": null,
            "height": null,
            "justify_content": null,
            "justify_items": null,
            "left": null,
            "margin": null,
            "max_height": null,
            "max_width": null,
            "min_height": null,
            "min_width": null,
            "object_fit": null,
            "object_position": null,
            "order": null,
            "overflow": null,
            "padding": null,
            "right": null,
            "top": null,
            "visibility": null,
            "width": null
          }
        },
        "15f74e5d084649fc8c843fbe4237859b": {
          "model_module": "@jupyter-widgets/controls",
          "model_name": "HBoxModel",
          "model_module_version": "2.0.0",
          "state": {
            "_dom_classes": [],
            "_model_module": "@jupyter-widgets/controls",
            "_model_module_version": "2.0.0",
            "_model_name": "HBoxModel",
            "_view_count": null,
            "_view_module": "@jupyter-widgets/controls",
            "_view_module_version": "2.0.0",
            "_view_name": "HBoxView",
            "box_style": "",
            "children": [
              "IPY_MODEL_8f7c5fbab7964eb294262ef28a89bc8a",
              "IPY_MODEL_07ebb6115cf54b1a927a485b19deadd1",
              "IPY_MODEL_8368fae6f5894612940f16c6565132df"
            ],
            "layout": "IPY_MODEL_d3e1683cf3fe44beb07906a13af7101e",
            "tabbable": null,
            "tooltip": null
          }
        },
        "8d537db84cb64fa5acea61283cb7a177": {
          "model_module": "@jupyter-widgets/base",
          "model_name": "LayoutModel",
          "model_module_version": "2.0.0",
          "state": {
            "_model_module": "@jupyter-widgets/base",
            "_model_module_version": "2.0.0",
            "_model_name": "LayoutModel",
            "_view_count": null,
            "_view_module": "@jupyter-widgets/base",
            "_view_module_version": "2.0.0",
            "_view_name": "LayoutView",
            "align_content": null,
            "align_items": null,
            "align_self": null,
            "border_bottom": null,
            "border_left": null,
            "border_right": null,
            "border_top": null,
            "bottom": null,
            "display": null,
            "flex": null,
            "flex_flow": null,
            "grid_area": null,
            "grid_auto_columns": null,
            "grid_auto_flow": null,
            "grid_auto_rows": null,
            "grid_column": null,
            "grid_gap": null,
            "grid_row": null,
            "grid_template_areas": null,
            "grid_template_columns": null,
            "grid_template_rows": null,
            "height": null,
            "justify_content": null,
            "justify_items": null,
            "left": null,
            "margin": null,
            "max_height": null,
            "max_width": null,
            "min_height": null,
            "min_width": null,
            "object_fit": null,
            "object_position": null,
            "order": null,
            "overflow": null,
            "padding": null,
            "right": null,
            "top": null,
            "visibility": null,
            "width": null
          }
        },
        "77c05aa566bd49b68404bc52b0f6713d": {
          "model_module": "@jupyter-widgets/controls",
          "model_name": "ProgressStyleModel",
          "model_module_version": "2.0.0",
          "state": {
            "_model_module": "@jupyter-widgets/controls",
            "_model_module_version": "2.0.0",
            "_model_name": "ProgressStyleModel",
            "_view_count": null,
            "_view_module": "@jupyter-widgets/base",
            "_view_module_version": "2.0.0",
            "_view_name": "StyleView",
            "bar_color": null,
            "description_width": ""
          }
        },
        "de4fdad01bb2418085463bed1f844608": {
          "model_module": "@jupyter-widgets/base",
          "model_name": "LayoutModel",
          "model_module_version": "2.0.0",
          "state": {
            "_model_module": "@jupyter-widgets/base",
            "_model_module_version": "2.0.0",
            "_model_name": "LayoutModel",
            "_view_count": null,
            "_view_module": "@jupyter-widgets/base",
            "_view_module_version": "2.0.0",
            "_view_name": "LayoutView",
            "align_content": null,
            "align_items": null,
            "align_self": null,
            "border_bottom": null,
            "border_left": null,
            "border_right": null,
            "border_top": null,
            "bottom": null,
            "display": null,
            "flex": null,
            "flex_flow": null,
            "grid_area": null,
            "grid_auto_columns": null,
            "grid_auto_flow": null,
            "grid_auto_rows": null,
            "grid_column": null,
            "grid_gap": null,
            "grid_row": null,
            "grid_template_areas": null,
            "grid_template_columns": null,
            "grid_template_rows": null,
            "height": null,
            "justify_content": null,
            "justify_items": null,
            "left": null,
            "margin": null,
            "max_height": null,
            "max_width": null,
            "min_height": null,
            "min_width": null,
            "object_fit": null,
            "object_position": null,
            "order": null,
            "overflow": null,
            "padding": null,
            "right": null,
            "top": null,
            "visibility": null,
            "width": null
          }
        },
        "bf4fb83d110c44e1a1e9b0ea5933521e": {
          "model_module": "@jupyter-widgets/controls",
          "model_name": "HTMLStyleModel",
          "model_module_version": "2.0.0",
          "state": {
            "_model_module": "@jupyter-widgets/controls",
            "_model_module_version": "2.0.0",
            "_model_name": "HTMLStyleModel",
            "_view_count": null,
            "_view_module": "@jupyter-widgets/base",
            "_view_module_version": "2.0.0",
            "_view_name": "StyleView",
            "background": null,
            "description_width": "",
            "font_size": null,
            "text_color": null
          }
        },
        "fdcba412e8544bfc829f989e5345136b": {
          "model_module": "@jupyter-widgets/base",
          "model_name": "LayoutModel",
          "model_module_version": "2.0.0",
          "state": {
            "_model_module": "@jupyter-widgets/base",
            "_model_module_version": "2.0.0",
            "_model_name": "LayoutModel",
            "_view_count": null,
            "_view_module": "@jupyter-widgets/base",
            "_view_module_version": "2.0.0",
            "_view_name": "LayoutView",
            "align_content": null,
            "align_items": null,
            "align_self": null,
            "border_bottom": null,
            "border_left": null,
            "border_right": null,
            "border_top": null,
            "bottom": null,
            "display": null,
            "flex": null,
            "flex_flow": null,
            "grid_area": null,
            "grid_auto_columns": null,
            "grid_auto_flow": null,
            "grid_auto_rows": null,
            "grid_column": null,
            "grid_gap": null,
            "grid_row": null,
            "grid_template_areas": null,
            "grid_template_columns": null,
            "grid_template_rows": null,
            "height": null,
            "justify_content": null,
            "justify_items": null,
            "left": null,
            "margin": null,
            "max_height": null,
            "max_width": null,
            "min_height": null,
            "min_width": null,
            "object_fit": null,
            "object_position": null,
            "order": null,
            "overflow": null,
            "padding": null,
            "right": null,
            "top": null,
            "visibility": null,
            "width": null
          }
        },
        "6e648cb32825469d8cc64bbcfd21c382": {
          "model_module": "@jupyter-widgets/controls",
          "model_name": "HTMLStyleModel",
          "model_module_version": "2.0.0",
          "state": {
            "_model_module": "@jupyter-widgets/controls",
            "_model_module_version": "2.0.0",
            "_model_name": "HTMLStyleModel",
            "_view_count": null,
            "_view_module": "@jupyter-widgets/base",
            "_view_module_version": "2.0.0",
            "_view_name": "StyleView",
            "background": null,
            "description_width": "",
            "font_size": null,
            "text_color": null
          }
        },
        "18964a3f572c4da998282c3ce1671a3e": {
          "model_module": "@jupyter-widgets/controls",
          "model_name": "HTMLModel",
          "model_module_version": "2.0.0",
          "state": {
            "_dom_classes": [],
            "_model_module": "@jupyter-widgets/controls",
            "_model_module_version": "2.0.0",
            "_model_name": "HTMLModel",
            "_view_count": null,
            "_view_module": "@jupyter-widgets/controls",
            "_view_module_version": "2.0.0",
            "_view_name": "HTMLView",
            "description": "",
            "description_allow_html": false,
            "layout": "IPY_MODEL_de4fdad01bb2418085463bed1f844608",
            "placeholder": "​",
            "style": "IPY_MODEL_bf4fb83d110c44e1a1e9b0ea5933521e",
            "tabbable": null,
            "tooltip": null,
            "value": "README.md: 100%"
          }
        },
        "33fa6e3e81e44605bf7ecb745ded8073": {
          "model_module": "@jupyter-widgets/controls",
          "model_name": "FloatProgressModel",
          "model_module_version": "2.0.0",
          "state": {
            "_dom_classes": [],
            "_model_module": "@jupyter-widgets/controls",
            "_model_module_version": "2.0.0",
            "_model_name": "FloatProgressModel",
            "_view_count": null,
            "_view_module": "@jupyter-widgets/controls",
            "_view_module_version": "2.0.0",
            "_view_name": "ProgressView",
            "bar_style": "success",
            "description": "",
            "description_allow_html": false,
            "layout": "IPY_MODEL_8d537db84cb64fa5acea61283cb7a177",
            "max": 10415,
            "min": 0,
            "orientation": "horizontal",
            "style": "IPY_MODEL_77c05aa566bd49b68404bc52b0f6713d",
            "tabbable": null,
            "tooltip": null,
            "value": 10415
          }
        },
        "829a2e16e7de4e66af31f07bc14129a6": {
          "model_module": "@jupyter-widgets/controls",
          "model_name": "HTMLModel",
          "model_module_version": "2.0.0",
          "state": {
            "_dom_classes": [],
            "_model_module": "@jupyter-widgets/controls",
            "_model_module_version": "2.0.0",
            "_model_name": "HTMLModel",
            "_view_count": null,
            "_view_module": "@jupyter-widgets/controls",
            "_view_module_version": "2.0.0",
            "_view_name": "HTMLView",
            "description": "",
            "description_allow_html": false,
            "layout": "IPY_MODEL_fdcba412e8544bfc829f989e5345136b",
            "placeholder": "​",
            "style": "IPY_MODEL_6e648cb32825469d8cc64bbcfd21c382",
            "tabbable": null,
            "tooltip": null,
            "value": " 10.4k/10.4k [00:00&lt;00:00, 653kB/s]"
          }
        },
        "4470be3cd751475ca32fe830ccb3d823": {
          "model_module": "@jupyter-widgets/base",
          "model_name": "LayoutModel",
          "model_module_version": "2.0.0",
          "state": {
            "_model_module": "@jupyter-widgets/base",
            "_model_module_version": "2.0.0",
            "_model_name": "LayoutModel",
            "_view_count": null,
            "_view_module": "@jupyter-widgets/base",
            "_view_module_version": "2.0.0",
            "_view_name": "LayoutView",
            "align_content": null,
            "align_items": null,
            "align_self": null,
            "border_bottom": null,
            "border_left": null,
            "border_right": null,
            "border_top": null,
            "bottom": null,
            "display": null,
            "flex": null,
            "flex_flow": null,
            "grid_area": null,
            "grid_auto_columns": null,
            "grid_auto_flow": null,
            "grid_auto_rows": null,
            "grid_column": null,
            "grid_gap": null,
            "grid_row": null,
            "grid_template_areas": null,
            "grid_template_columns": null,
            "grid_template_rows": null,
            "height": null,
            "justify_content": null,
            "justify_items": null,
            "left": null,
            "margin": null,
            "max_height": null,
            "max_width": null,
            "min_height": null,
            "min_width": null,
            "object_fit": null,
            "object_position": null,
            "order": null,
            "overflow": null,
            "padding": null,
            "right": null,
            "top": null,
            "visibility": null,
            "width": null
          }
        },
        "20f332234fb44af9907592812f0d5ac9": {
          "model_module": "@jupyter-widgets/controls",
          "model_name": "HBoxModel",
          "model_module_version": "2.0.0",
          "state": {
            "_dom_classes": [],
            "_model_module": "@jupyter-widgets/controls",
            "_model_module_version": "2.0.0",
            "_model_name": "HBoxModel",
            "_view_count": null,
            "_view_module": "@jupyter-widgets/controls",
            "_view_module_version": "2.0.0",
            "_view_name": "HBoxView",
            "box_style": "",
            "children": [
              "IPY_MODEL_18964a3f572c4da998282c3ce1671a3e",
              "IPY_MODEL_33fa6e3e81e44605bf7ecb745ded8073",
              "IPY_MODEL_829a2e16e7de4e66af31f07bc14129a6"
            ],
            "layout": "IPY_MODEL_4470be3cd751475ca32fe830ccb3d823",
            "tabbable": null,
            "tooltip": null
          }
        },
        "fb1835938a314c4c93942579f1778317": {
          "model_module": "@jupyter-widgets/base",
          "model_name": "LayoutModel",
          "model_module_version": "2.0.0",
          "state": {
            "_model_module": "@jupyter-widgets/base",
            "_model_module_version": "2.0.0",
            "_model_name": "LayoutModel",
            "_view_count": null,
            "_view_module": "@jupyter-widgets/base",
            "_view_module_version": "2.0.0",
            "_view_name": "LayoutView",
            "align_content": null,
            "align_items": null,
            "align_self": null,
            "border_bottom": null,
            "border_left": null,
            "border_right": null,
            "border_top": null,
            "bottom": null,
            "display": null,
            "flex": null,
            "flex_flow": null,
            "grid_area": null,
            "grid_auto_columns": null,
            "grid_auto_flow": null,
            "grid_auto_rows": null,
            "grid_column": null,
            "grid_gap": null,
            "grid_row": null,
            "grid_template_areas": null,
            "grid_template_columns": null,
            "grid_template_rows": null,
            "height": null,
            "justify_content": null,
            "justify_items": null,
            "left": null,
            "margin": null,
            "max_height": null,
            "max_width": null,
            "min_height": null,
            "min_width": null,
            "object_fit": null,
            "object_position": null,
            "order": null,
            "overflow": null,
            "padding": null,
            "right": null,
            "top": null,
            "visibility": null,
            "width": null
          }
        },
        "23814abdfec748fc93b754bf3506794c": {
          "model_module": "@jupyter-widgets/controls",
          "model_name": "ProgressStyleModel",
          "model_module_version": "2.0.0",
          "state": {
            "_model_module": "@jupyter-widgets/controls",
            "_model_module_version": "2.0.0",
            "_model_name": "ProgressStyleModel",
            "_view_count": null,
            "_view_module": "@jupyter-widgets/base",
            "_view_module_version": "2.0.0",
            "_view_name": "StyleView",
            "bar_color": null,
            "description_width": ""
          }
        },
        "9fbaaa86a0884d928d735983d1dc9fce": {
          "model_module": "@jupyter-widgets/base",
          "model_name": "LayoutModel",
          "model_module_version": "2.0.0",
          "state": {
            "_model_module": "@jupyter-widgets/base",
            "_model_module_version": "2.0.0",
            "_model_name": "LayoutModel",
            "_view_count": null,
            "_view_module": "@jupyter-widgets/base",
            "_view_module_version": "2.0.0",
            "_view_name": "LayoutView",
            "align_content": null,
            "align_items": null,
            "align_self": null,
            "border_bottom": null,
            "border_left": null,
            "border_right": null,
            "border_top": null,
            "bottom": null,
            "display": null,
            "flex": null,
            "flex_flow": null,
            "grid_area": null,
            "grid_auto_columns": null,
            "grid_auto_flow": null,
            "grid_auto_rows": null,
            "grid_column": null,
            "grid_gap": null,
            "grid_row": null,
            "grid_template_areas": null,
            "grid_template_columns": null,
            "grid_template_rows": null,
            "height": null,
            "justify_content": null,
            "justify_items": null,
            "left": null,
            "margin": null,
            "max_height": null,
            "max_width": null,
            "min_height": null,
            "min_width": null,
            "object_fit": null,
            "object_position": null,
            "order": null,
            "overflow": null,
            "padding": null,
            "right": null,
            "top": null,
            "visibility": null,
            "width": null
          }
        },
        "ab77e58d5d874c0eb77ec66f227f61ee": {
          "model_module": "@jupyter-widgets/controls",
          "model_name": "HTMLStyleModel",
          "model_module_version": "2.0.0",
          "state": {
            "_model_module": "@jupyter-widgets/controls",
            "_model_module_version": "2.0.0",
            "_model_name": "HTMLStyleModel",
            "_view_count": null,
            "_view_module": "@jupyter-widgets/base",
            "_view_module_version": "2.0.0",
            "_view_name": "StyleView",
            "background": null,
            "description_width": "",
            "font_size": null,
            "text_color": null
          }
        },
        "ae387b6f00ea4b02bdffb62bb2e36362": {
          "model_module": "@jupyter-widgets/base",
          "model_name": "LayoutModel",
          "model_module_version": "2.0.0",
          "state": {
            "_model_module": "@jupyter-widgets/base",
            "_model_module_version": "2.0.0",
            "_model_name": "LayoutModel",
            "_view_count": null,
            "_view_module": "@jupyter-widgets/base",
            "_view_module_version": "2.0.0",
            "_view_name": "LayoutView",
            "align_content": null,
            "align_items": null,
            "align_self": null,
            "border_bottom": null,
            "border_left": null,
            "border_right": null,
            "border_top": null,
            "bottom": null,
            "display": null,
            "flex": null,
            "flex_flow": null,
            "grid_area": null,
            "grid_auto_columns": null,
            "grid_auto_flow": null,
            "grid_auto_rows": null,
            "grid_column": null,
            "grid_gap": null,
            "grid_row": null,
            "grid_template_areas": null,
            "grid_template_columns": null,
            "grid_template_rows": null,
            "height": null,
            "justify_content": null,
            "justify_items": null,
            "left": null,
            "margin": null,
            "max_height": null,
            "max_width": null,
            "min_height": null,
            "min_width": null,
            "object_fit": null,
            "object_position": null,
            "order": null,
            "overflow": null,
            "padding": null,
            "right": null,
            "top": null,
            "visibility": null,
            "width": null
          }
        },
        "876b45f5091f49c6963ea7baca1d165e": {
          "model_module": "@jupyter-widgets/controls",
          "model_name": "HTMLStyleModel",
          "model_module_version": "2.0.0",
          "state": {
            "_model_module": "@jupyter-widgets/controls",
            "_model_module_version": "2.0.0",
            "_model_name": "HTMLStyleModel",
            "_view_count": null,
            "_view_module": "@jupyter-widgets/base",
            "_view_module_version": "2.0.0",
            "_view_name": "StyleView",
            "background": null,
            "description_width": "",
            "font_size": null,
            "text_color": null
          }
        },
        "b9f55371df554e8db1e2faec974af6c6": {
          "model_module": "@jupyter-widgets/controls",
          "model_name": "HTMLModel",
          "model_module_version": "2.0.0",
          "state": {
            "_dom_classes": [],
            "_model_module": "@jupyter-widgets/controls",
            "_model_module_version": "2.0.0",
            "_model_name": "HTMLModel",
            "_view_count": null,
            "_view_module": "@jupyter-widgets/controls",
            "_view_module_version": "2.0.0",
            "_view_name": "HTMLView",
            "description": "",
            "description_allow_html": false,
            "layout": "IPY_MODEL_9fbaaa86a0884d928d735983d1dc9fce",
            "placeholder": "​",
            "style": "IPY_MODEL_ab77e58d5d874c0eb77ec66f227f61ee",
            "tabbable": null,
            "tooltip": null,
            "value": "sentence_bert_config.json: 100%"
          }
        },
        "51f738b8677744c190de4d21fca76a9a": {
          "model_module": "@jupyter-widgets/controls",
          "model_name": "FloatProgressModel",
          "model_module_version": "2.0.0",
          "state": {
            "_dom_classes": [],
            "_model_module": "@jupyter-widgets/controls",
            "_model_module_version": "2.0.0",
            "_model_name": "FloatProgressModel",
            "_view_count": null,
            "_view_module": "@jupyter-widgets/controls",
            "_view_module_version": "2.0.0",
            "_view_name": "ProgressView",
            "bar_style": "success",
            "description": "",
            "description_allow_html": false,
            "layout": "IPY_MODEL_fb1835938a314c4c93942579f1778317",
            "max": 53,
            "min": 0,
            "orientation": "horizontal",
            "style": "IPY_MODEL_23814abdfec748fc93b754bf3506794c",
            "tabbable": null,
            "tooltip": null,
            "value": 53
          }
        },
        "525a74b0f8a8424eb8d10a07b47d41eb": {
          "model_module": "@jupyter-widgets/controls",
          "model_name": "HTMLModel",
          "model_module_version": "2.0.0",
          "state": {
            "_dom_classes": [],
            "_model_module": "@jupyter-widgets/controls",
            "_model_module_version": "2.0.0",
            "_model_name": "HTMLModel",
            "_view_count": null,
            "_view_module": "@jupyter-widgets/controls",
            "_view_module_version": "2.0.0",
            "_view_name": "HTMLView",
            "description": "",
            "description_allow_html": false,
            "layout": "IPY_MODEL_ae387b6f00ea4b02bdffb62bb2e36362",
            "placeholder": "​",
            "style": "IPY_MODEL_876b45f5091f49c6963ea7baca1d165e",
            "tabbable": null,
            "tooltip": null,
            "value": " 53.0/53.0 [00:00&lt;00:00, 2.26kB/s]"
          }
        },
        "d0fb1cf18d364b46828c7d063d14fd69": {
          "model_module": "@jupyter-widgets/base",
          "model_name": "LayoutModel",
          "model_module_version": "2.0.0",
          "state": {
            "_model_module": "@jupyter-widgets/base",
            "_model_module_version": "2.0.0",
            "_model_name": "LayoutModel",
            "_view_count": null,
            "_view_module": "@jupyter-widgets/base",
            "_view_module_version": "2.0.0",
            "_view_name": "LayoutView",
            "align_content": null,
            "align_items": null,
            "align_self": null,
            "border_bottom": null,
            "border_left": null,
            "border_right": null,
            "border_top": null,
            "bottom": null,
            "display": null,
            "flex": null,
            "flex_flow": null,
            "grid_area": null,
            "grid_auto_columns": null,
            "grid_auto_flow": null,
            "grid_auto_rows": null,
            "grid_column": null,
            "grid_gap": null,
            "grid_row": null,
            "grid_template_areas": null,
            "grid_template_columns": null,
            "grid_template_rows": null,
            "height": null,
            "justify_content": null,
            "justify_items": null,
            "left": null,
            "margin": null,
            "max_height": null,
            "max_width": null,
            "min_height": null,
            "min_width": null,
            "object_fit": null,
            "object_position": null,
            "order": null,
            "overflow": null,
            "padding": null,
            "right": null,
            "top": null,
            "visibility": null,
            "width": null
          }
        },
        "dfed02b360204ab6b9351e58ce873150": {
          "model_module": "@jupyter-widgets/controls",
          "model_name": "HBoxModel",
          "model_module_version": "2.0.0",
          "state": {
            "_dom_classes": [],
            "_model_module": "@jupyter-widgets/controls",
            "_model_module_version": "2.0.0",
            "_model_name": "HBoxModel",
            "_view_count": null,
            "_view_module": "@jupyter-widgets/controls",
            "_view_module_version": "2.0.0",
            "_view_name": "HBoxView",
            "box_style": "",
            "children": [
              "IPY_MODEL_b9f55371df554e8db1e2faec974af6c6",
              "IPY_MODEL_51f738b8677744c190de4d21fca76a9a",
              "IPY_MODEL_525a74b0f8a8424eb8d10a07b47d41eb"
            ],
            "layout": "IPY_MODEL_d0fb1cf18d364b46828c7d063d14fd69",
            "tabbable": null,
            "tooltip": null
          }
        },
        "38f3123b6dd74ced8b6361dd9d4e45b7": {
          "model_module": "@jupyter-widgets/base",
          "model_name": "LayoutModel",
          "model_module_version": "2.0.0",
          "state": {
            "_model_module": "@jupyter-widgets/base",
            "_model_module_version": "2.0.0",
            "_model_name": "LayoutModel",
            "_view_count": null,
            "_view_module": "@jupyter-widgets/base",
            "_view_module_version": "2.0.0",
            "_view_name": "LayoutView",
            "align_content": null,
            "align_items": null,
            "align_self": null,
            "border_bottom": null,
            "border_left": null,
            "border_right": null,
            "border_top": null,
            "bottom": null,
            "display": null,
            "flex": null,
            "flex_flow": null,
            "grid_area": null,
            "grid_auto_columns": null,
            "grid_auto_flow": null,
            "grid_auto_rows": null,
            "grid_column": null,
            "grid_gap": null,
            "grid_row": null,
            "grid_template_areas": null,
            "grid_template_columns": null,
            "grid_template_rows": null,
            "height": null,
            "justify_content": null,
            "justify_items": null,
            "left": null,
            "margin": null,
            "max_height": null,
            "max_width": null,
            "min_height": null,
            "min_width": null,
            "object_fit": null,
            "object_position": null,
            "order": null,
            "overflow": null,
            "padding": null,
            "right": null,
            "top": null,
            "visibility": null,
            "width": null
          }
        },
        "dfbbc9cbc4fe4235a8fea9be679d01da": {
          "model_module": "@jupyter-widgets/controls",
          "model_name": "ProgressStyleModel",
          "model_module_version": "2.0.0",
          "state": {
            "_model_module": "@jupyter-widgets/controls",
            "_model_module_version": "2.0.0",
            "_model_name": "ProgressStyleModel",
            "_view_count": null,
            "_view_module": "@jupyter-widgets/base",
            "_view_module_version": "2.0.0",
            "_view_name": "StyleView",
            "bar_color": null,
            "description_width": ""
          }
        },
        "e7490d872b164d5aac6fa60c9bc8aa85": {
          "model_module": "@jupyter-widgets/base",
          "model_name": "LayoutModel",
          "model_module_version": "2.0.0",
          "state": {
            "_model_module": "@jupyter-widgets/base",
            "_model_module_version": "2.0.0",
            "_model_name": "LayoutModel",
            "_view_count": null,
            "_view_module": "@jupyter-widgets/base",
            "_view_module_version": "2.0.0",
            "_view_name": "LayoutView",
            "align_content": null,
            "align_items": null,
            "align_self": null,
            "border_bottom": null,
            "border_left": null,
            "border_right": null,
            "border_top": null,
            "bottom": null,
            "display": null,
            "flex": null,
            "flex_flow": null,
            "grid_area": null,
            "grid_auto_columns": null,
            "grid_auto_flow": null,
            "grid_auto_rows": null,
            "grid_column": null,
            "grid_gap": null,
            "grid_row": null,
            "grid_template_areas": null,
            "grid_template_columns": null,
            "grid_template_rows": null,
            "height": null,
            "justify_content": null,
            "justify_items": null,
            "left": null,
            "margin": null,
            "max_height": null,
            "max_width": null,
            "min_height": null,
            "min_width": null,
            "object_fit": null,
            "object_position": null,
            "order": null,
            "overflow": null,
            "padding": null,
            "right": null,
            "top": null,
            "visibility": null,
            "width": null
          }
        },
        "c0b84f22a3d04ed78f14b0116465f2c4": {
          "model_module": "@jupyter-widgets/controls",
          "model_name": "HTMLStyleModel",
          "model_module_version": "2.0.0",
          "state": {
            "_model_module": "@jupyter-widgets/controls",
            "_model_module_version": "2.0.0",
            "_model_name": "HTMLStyleModel",
            "_view_count": null,
            "_view_module": "@jupyter-widgets/base",
            "_view_module_version": "2.0.0",
            "_view_name": "StyleView",
            "background": null,
            "description_width": "",
            "font_size": null,
            "text_color": null
          }
        },
        "706522d90cad443ea0b1251e5e140436": {
          "model_module": "@jupyter-widgets/base",
          "model_name": "LayoutModel",
          "model_module_version": "2.0.0",
          "state": {
            "_model_module": "@jupyter-widgets/base",
            "_model_module_version": "2.0.0",
            "_model_name": "LayoutModel",
            "_view_count": null,
            "_view_module": "@jupyter-widgets/base",
            "_view_module_version": "2.0.0",
            "_view_name": "LayoutView",
            "align_content": null,
            "align_items": null,
            "align_self": null,
            "border_bottom": null,
            "border_left": null,
            "border_right": null,
            "border_top": null,
            "bottom": null,
            "display": null,
            "flex": null,
            "flex_flow": null,
            "grid_area": null,
            "grid_auto_columns": null,
            "grid_auto_flow": null,
            "grid_auto_rows": null,
            "grid_column": null,
            "grid_gap": null,
            "grid_row": null,
            "grid_template_areas": null,
            "grid_template_columns": null,
            "grid_template_rows": null,
            "height": null,
            "justify_content": null,
            "justify_items": null,
            "left": null,
            "margin": null,
            "max_height": null,
            "max_width": null,
            "min_height": null,
            "min_width": null,
            "object_fit": null,
            "object_position": null,
            "order": null,
            "overflow": null,
            "padding": null,
            "right": null,
            "top": null,
            "visibility": null,
            "width": null
          }
        },
        "58b85bf46b49475694e2400f21b18065": {
          "model_module": "@jupyter-widgets/controls",
          "model_name": "HTMLStyleModel",
          "model_module_version": "2.0.0",
          "state": {
            "_model_module": "@jupyter-widgets/controls",
            "_model_module_version": "2.0.0",
            "_model_name": "HTMLStyleModel",
            "_view_count": null,
            "_view_module": "@jupyter-widgets/base",
            "_view_module_version": "2.0.0",
            "_view_name": "StyleView",
            "background": null,
            "description_width": "",
            "font_size": null,
            "text_color": null
          }
        },
        "3223dd7bd0a441b493bc6c36e9158164": {
          "model_module": "@jupyter-widgets/controls",
          "model_name": "HTMLModel",
          "model_module_version": "2.0.0",
          "state": {
            "_dom_classes": [],
            "_model_module": "@jupyter-widgets/controls",
            "_model_module_version": "2.0.0",
            "_model_name": "HTMLModel",
            "_view_count": null,
            "_view_module": "@jupyter-widgets/controls",
            "_view_module_version": "2.0.0",
            "_view_name": "HTMLView",
            "description": "",
            "description_allow_html": false,
            "layout": "IPY_MODEL_e7490d872b164d5aac6fa60c9bc8aa85",
            "placeholder": "​",
            "style": "IPY_MODEL_c0b84f22a3d04ed78f14b0116465f2c4",
            "tabbable": null,
            "tooltip": null,
            "value": "config.json: 100%"
          }
        },
        "7ac7a17229524535b766d551ab924e94": {
          "model_module": "@jupyter-widgets/controls",
          "model_name": "FloatProgressModel",
          "model_module_version": "2.0.0",
          "state": {
            "_dom_classes": [],
            "_model_module": "@jupyter-widgets/controls",
            "_model_module_version": "2.0.0",
            "_model_name": "FloatProgressModel",
            "_view_count": null,
            "_view_module": "@jupyter-widgets/controls",
            "_view_module_version": "2.0.0",
            "_view_name": "ProgressView",
            "bar_style": "success",
            "description": "",
            "description_allow_html": false,
            "layout": "IPY_MODEL_38f3123b6dd74ced8b6361dd9d4e45b7",
            "max": 571,
            "min": 0,
            "orientation": "horizontal",
            "style": "IPY_MODEL_dfbbc9cbc4fe4235a8fea9be679d01da",
            "tabbable": null,
            "tooltip": null,
            "value": 571
          }
        },
        "3ec2b23acddd4599b06a2f08eaa10b29": {
          "model_module": "@jupyter-widgets/controls",
          "model_name": "HTMLModel",
          "model_module_version": "2.0.0",
          "state": {
            "_dom_classes": [],
            "_model_module": "@jupyter-widgets/controls",
            "_model_module_version": "2.0.0",
            "_model_name": "HTMLModel",
            "_view_count": null,
            "_view_module": "@jupyter-widgets/controls",
            "_view_module_version": "2.0.0",
            "_view_name": "HTMLView",
            "description": "",
            "description_allow_html": false,
            "layout": "IPY_MODEL_706522d90cad443ea0b1251e5e140436",
            "placeholder": "​",
            "style": "IPY_MODEL_58b85bf46b49475694e2400f21b18065",
            "tabbable": null,
            "tooltip": null,
            "value": " 571/571 [00:00&lt;00:00, 21.4kB/s]"
          }
        },
        "46eee34254bc4c93998a68141bf441c8": {
          "model_module": "@jupyter-widgets/base",
          "model_name": "LayoutModel",
          "model_module_version": "2.0.0",
          "state": {
            "_model_module": "@jupyter-widgets/base",
            "_model_module_version": "2.0.0",
            "_model_name": "LayoutModel",
            "_view_count": null,
            "_view_module": "@jupyter-widgets/base",
            "_view_module_version": "2.0.0",
            "_view_name": "LayoutView",
            "align_content": null,
            "align_items": null,
            "align_self": null,
            "border_bottom": null,
            "border_left": null,
            "border_right": null,
            "border_top": null,
            "bottom": null,
            "display": null,
            "flex": null,
            "flex_flow": null,
            "grid_area": null,
            "grid_auto_columns": null,
            "grid_auto_flow": null,
            "grid_auto_rows": null,
            "grid_column": null,
            "grid_gap": null,
            "grid_row": null,
            "grid_template_areas": null,
            "grid_template_columns": null,
            "grid_template_rows": null,
            "height": null,
            "justify_content": null,
            "justify_items": null,
            "left": null,
            "margin": null,
            "max_height": null,
            "max_width": null,
            "min_height": null,
            "min_width": null,
            "object_fit": null,
            "object_position": null,
            "order": null,
            "overflow": null,
            "padding": null,
            "right": null,
            "top": null,
            "visibility": null,
            "width": null
          }
        },
        "fe6125cfd95444a98ed910ccc6dc50b8": {
          "model_module": "@jupyter-widgets/controls",
          "model_name": "HBoxModel",
          "model_module_version": "2.0.0",
          "state": {
            "_dom_classes": [],
            "_model_module": "@jupyter-widgets/controls",
            "_model_module_version": "2.0.0",
            "_model_name": "HBoxModel",
            "_view_count": null,
            "_view_module": "@jupyter-widgets/controls",
            "_view_module_version": "2.0.0",
            "_view_name": "HBoxView",
            "box_style": "",
            "children": [
              "IPY_MODEL_3223dd7bd0a441b493bc6c36e9158164",
              "IPY_MODEL_7ac7a17229524535b766d551ab924e94",
              "IPY_MODEL_3ec2b23acddd4599b06a2f08eaa10b29"
            ],
            "layout": "IPY_MODEL_46eee34254bc4c93998a68141bf441c8",
            "tabbable": null,
            "tooltip": null
          }
        },
        "ba0c5da107b84ac6a6a0002dbdd5c871": {
          "model_module": "@jupyter-widgets/base",
          "model_name": "LayoutModel",
          "model_module_version": "2.0.0",
          "state": {
            "_model_module": "@jupyter-widgets/base",
            "_model_module_version": "2.0.0",
            "_model_name": "LayoutModel",
            "_view_count": null,
            "_view_module": "@jupyter-widgets/base",
            "_view_module_version": "2.0.0",
            "_view_name": "LayoutView",
            "align_content": null,
            "align_items": null,
            "align_self": null,
            "border_bottom": null,
            "border_left": null,
            "border_right": null,
            "border_top": null,
            "bottom": null,
            "display": null,
            "flex": null,
            "flex_flow": null,
            "grid_area": null,
            "grid_auto_columns": null,
            "grid_auto_flow": null,
            "grid_auto_rows": null,
            "grid_column": null,
            "grid_gap": null,
            "grid_row": null,
            "grid_template_areas": null,
            "grid_template_columns": null,
            "grid_template_rows": null,
            "height": null,
            "justify_content": null,
            "justify_items": null,
            "left": null,
            "margin": null,
            "max_height": null,
            "max_width": null,
            "min_height": null,
            "min_width": null,
            "object_fit": null,
            "object_position": null,
            "order": null,
            "overflow": null,
            "padding": null,
            "right": null,
            "top": null,
            "visibility": null,
            "width": null
          }
        },
        "73b68fc8036347a5848e8ae2144b49b7": {
          "model_module": "@jupyter-widgets/controls",
          "model_name": "ProgressStyleModel",
          "model_module_version": "2.0.0",
          "state": {
            "_model_module": "@jupyter-widgets/controls",
            "_model_module_version": "2.0.0",
            "_model_name": "ProgressStyleModel",
            "_view_count": null,
            "_view_module": "@jupyter-widgets/base",
            "_view_module_version": "2.0.0",
            "_view_name": "StyleView",
            "bar_color": null,
            "description_width": ""
          }
        },
        "b8b9e00e622f40ffb382f957c265bd70": {
          "model_module": "@jupyter-widgets/base",
          "model_name": "LayoutModel",
          "model_module_version": "2.0.0",
          "state": {
            "_model_module": "@jupyter-widgets/base",
            "_model_module_version": "2.0.0",
            "_model_name": "LayoutModel",
            "_view_count": null,
            "_view_module": "@jupyter-widgets/base",
            "_view_module_version": "2.0.0",
            "_view_name": "LayoutView",
            "align_content": null,
            "align_items": null,
            "align_self": null,
            "border_bottom": null,
            "border_left": null,
            "border_right": null,
            "border_top": null,
            "bottom": null,
            "display": null,
            "flex": null,
            "flex_flow": null,
            "grid_area": null,
            "grid_auto_columns": null,
            "grid_auto_flow": null,
            "grid_auto_rows": null,
            "grid_column": null,
            "grid_gap": null,
            "grid_row": null,
            "grid_template_areas": null,
            "grid_template_columns": null,
            "grid_template_rows": null,
            "height": null,
            "justify_content": null,
            "justify_items": null,
            "left": null,
            "margin": null,
            "max_height": null,
            "max_width": null,
            "min_height": null,
            "min_width": null,
            "object_fit": null,
            "object_position": null,
            "order": null,
            "overflow": null,
            "padding": null,
            "right": null,
            "top": null,
            "visibility": null,
            "width": null
          }
        },
        "288acd2c0a82402b9413da6339c4f2fe": {
          "model_module": "@jupyter-widgets/controls",
          "model_name": "HTMLStyleModel",
          "model_module_version": "2.0.0",
          "state": {
            "_model_module": "@jupyter-widgets/controls",
            "_model_module_version": "2.0.0",
            "_model_name": "HTMLStyleModel",
            "_view_count": null,
            "_view_module": "@jupyter-widgets/base",
            "_view_module_version": "2.0.0",
            "_view_name": "StyleView",
            "background": null,
            "description_width": "",
            "font_size": null,
            "text_color": null
          }
        },
        "b6aaa3e900474d0ea2bcbe61b99372e0": {
          "model_module": "@jupyter-widgets/base",
          "model_name": "LayoutModel",
          "model_module_version": "2.0.0",
          "state": {
            "_model_module": "@jupyter-widgets/base",
            "_model_module_version": "2.0.0",
            "_model_name": "LayoutModel",
            "_view_count": null,
            "_view_module": "@jupyter-widgets/base",
            "_view_module_version": "2.0.0",
            "_view_name": "LayoutView",
            "align_content": null,
            "align_items": null,
            "align_self": null,
            "border_bottom": null,
            "border_left": null,
            "border_right": null,
            "border_top": null,
            "bottom": null,
            "display": null,
            "flex": null,
            "flex_flow": null,
            "grid_area": null,
            "grid_auto_columns": null,
            "grid_auto_flow": null,
            "grid_auto_rows": null,
            "grid_column": null,
            "grid_gap": null,
            "grid_row": null,
            "grid_template_areas": null,
            "grid_template_columns": null,
            "grid_template_rows": null,
            "height": null,
            "justify_content": null,
            "justify_items": null,
            "left": null,
            "margin": null,
            "max_height": null,
            "max_width": null,
            "min_height": null,
            "min_width": null,
            "object_fit": null,
            "object_position": null,
            "order": null,
            "overflow": null,
            "padding": null,
            "right": null,
            "top": null,
            "visibility": null,
            "width": null
          }
        },
        "b2560e20ca0542e3b8aa76c4265f061c": {
          "model_module": "@jupyter-widgets/controls",
          "model_name": "HTMLStyleModel",
          "model_module_version": "2.0.0",
          "state": {
            "_model_module": "@jupyter-widgets/controls",
            "_model_module_version": "2.0.0",
            "_model_name": "HTMLStyleModel",
            "_view_count": null,
            "_view_module": "@jupyter-widgets/base",
            "_view_module_version": "2.0.0",
            "_view_name": "StyleView",
            "background": null,
            "description_width": "",
            "font_size": null,
            "text_color": null
          }
        },
        "e090a39ad9734ff998b6a0f429224b18": {
          "model_module": "@jupyter-widgets/controls",
          "model_name": "HTMLModel",
          "model_module_version": "2.0.0",
          "state": {
            "_dom_classes": [],
            "_model_module": "@jupyter-widgets/controls",
            "_model_module_version": "2.0.0",
            "_model_name": "HTMLModel",
            "_view_count": null,
            "_view_module": "@jupyter-widgets/controls",
            "_view_module_version": "2.0.0",
            "_view_name": "HTMLView",
            "description": "",
            "description_allow_html": false,
            "layout": "IPY_MODEL_b8b9e00e622f40ffb382f957c265bd70",
            "placeholder": "​",
            "style": "IPY_MODEL_288acd2c0a82402b9413da6339c4f2fe",
            "tabbable": null,
            "tooltip": null,
            "value": "model.safetensors: 100%"
          }
        },
        "ec7e48ce22bb4e03aa4a1992d52993c1": {
          "model_module": "@jupyter-widgets/controls",
          "model_name": "FloatProgressModel",
          "model_module_version": "2.0.0",
          "state": {
            "_dom_classes": [],
            "_model_module": "@jupyter-widgets/controls",
            "_model_module_version": "2.0.0",
            "_model_name": "FloatProgressModel",
            "_view_count": null,
            "_view_module": "@jupyter-widgets/controls",
            "_view_module_version": "2.0.0",
            "_view_name": "ProgressView",
            "bar_style": "success",
            "description": "",
            "description_allow_html": false,
            "layout": "IPY_MODEL_ba0c5da107b84ac6a6a0002dbdd5c871",
            "max": 437971872,
            "min": 0,
            "orientation": "horizontal",
            "style": "IPY_MODEL_73b68fc8036347a5848e8ae2144b49b7",
            "tabbable": null,
            "tooltip": null,
            "value": 437971872
          }
        },
        "c67158c8826a4a7a819f42794c93108e": {
          "model_module": "@jupyter-widgets/controls",
          "model_name": "HTMLModel",
          "model_module_version": "2.0.0",
          "state": {
            "_dom_classes": [],
            "_model_module": "@jupyter-widgets/controls",
            "_model_module_version": "2.0.0",
            "_model_name": "HTMLModel",
            "_view_count": null,
            "_view_module": "@jupyter-widgets/controls",
            "_view_module_version": "2.0.0",
            "_view_name": "HTMLView",
            "description": "",
            "description_allow_html": false,
            "layout": "IPY_MODEL_b6aaa3e900474d0ea2bcbe61b99372e0",
            "placeholder": "​",
            "style": "IPY_MODEL_b2560e20ca0542e3b8aa76c4265f061c",
            "tabbable": null,
            "tooltip": null,
            "value": " 438M/438M [00:05&lt;00:00, 35.2MB/s]"
          }
        },
        "d95db07cf34a4f2d9124dd72d5582b2a": {
          "model_module": "@jupyter-widgets/base",
          "model_name": "LayoutModel",
          "model_module_version": "2.0.0",
          "state": {
            "_model_module": "@jupyter-widgets/base",
            "_model_module_version": "2.0.0",
            "_model_name": "LayoutModel",
            "_view_count": null,
            "_view_module": "@jupyter-widgets/base",
            "_view_module_version": "2.0.0",
            "_view_name": "LayoutView",
            "align_content": null,
            "align_items": null,
            "align_self": null,
            "border_bottom": null,
            "border_left": null,
            "border_right": null,
            "border_top": null,
            "bottom": null,
            "display": null,
            "flex": null,
            "flex_flow": null,
            "grid_area": null,
            "grid_auto_columns": null,
            "grid_auto_flow": null,
            "grid_auto_rows": null,
            "grid_column": null,
            "grid_gap": null,
            "grid_row": null,
            "grid_template_areas": null,
            "grid_template_columns": null,
            "grid_template_rows": null,
            "height": null,
            "justify_content": null,
            "justify_items": null,
            "left": null,
            "margin": null,
            "max_height": null,
            "max_width": null,
            "min_height": null,
            "min_width": null,
            "object_fit": null,
            "object_position": null,
            "order": null,
            "overflow": null,
            "padding": null,
            "right": null,
            "top": null,
            "visibility": null,
            "width": null
          }
        },
        "05e6b1cb59fb4627865f28a33ebd637f": {
          "model_module": "@jupyter-widgets/controls",
          "model_name": "HBoxModel",
          "model_module_version": "2.0.0",
          "state": {
            "_dom_classes": [],
            "_model_module": "@jupyter-widgets/controls",
            "_model_module_version": "2.0.0",
            "_model_name": "HBoxModel",
            "_view_count": null,
            "_view_module": "@jupyter-widgets/controls",
            "_view_module_version": "2.0.0",
            "_view_name": "HBoxView",
            "box_style": "",
            "children": [
              "IPY_MODEL_e090a39ad9734ff998b6a0f429224b18",
              "IPY_MODEL_ec7e48ce22bb4e03aa4a1992d52993c1",
              "IPY_MODEL_c67158c8826a4a7a819f42794c93108e"
            ],
            "layout": "IPY_MODEL_d95db07cf34a4f2d9124dd72d5582b2a",
            "tabbable": null,
            "tooltip": null
          }
        },
        "f4b9592c1f114f1ebd546779a3713dd4": {
          "model_module": "@jupyter-widgets/base",
          "model_name": "LayoutModel",
          "model_module_version": "2.0.0",
          "state": {
            "_model_module": "@jupyter-widgets/base",
            "_model_module_version": "2.0.0",
            "_model_name": "LayoutModel",
            "_view_count": null,
            "_view_module": "@jupyter-widgets/base",
            "_view_module_version": "2.0.0",
            "_view_name": "LayoutView",
            "align_content": null,
            "align_items": null,
            "align_self": null,
            "border_bottom": null,
            "border_left": null,
            "border_right": null,
            "border_top": null,
            "bottom": null,
            "display": null,
            "flex": null,
            "flex_flow": null,
            "grid_area": null,
            "grid_auto_columns": null,
            "grid_auto_flow": null,
            "grid_auto_rows": null,
            "grid_column": null,
            "grid_gap": null,
            "grid_row": null,
            "grid_template_areas": null,
            "grid_template_columns": null,
            "grid_template_rows": null,
            "height": null,
            "justify_content": null,
            "justify_items": null,
            "left": null,
            "margin": null,
            "max_height": null,
            "max_width": null,
            "min_height": null,
            "min_width": null,
            "object_fit": null,
            "object_position": null,
            "order": null,
            "overflow": null,
            "padding": null,
            "right": null,
            "top": null,
            "visibility": null,
            "width": null
          }
        },
        "1547b938624a4d888167197845ab4fe0": {
          "model_module": "@jupyter-widgets/controls",
          "model_name": "ProgressStyleModel",
          "model_module_version": "2.0.0",
          "state": {
            "_model_module": "@jupyter-widgets/controls",
            "_model_module_version": "2.0.0",
            "_model_name": "ProgressStyleModel",
            "_view_count": null,
            "_view_module": "@jupyter-widgets/base",
            "_view_module_version": "2.0.0",
            "_view_name": "StyleView",
            "bar_color": null,
            "description_width": ""
          }
        },
        "b7a57ba3d66d4362bdc0cd2e473cd2d3": {
          "model_module": "@jupyter-widgets/base",
          "model_name": "LayoutModel",
          "model_module_version": "2.0.0",
          "state": {
            "_model_module": "@jupyter-widgets/base",
            "_model_module_version": "2.0.0",
            "_model_name": "LayoutModel",
            "_view_count": null,
            "_view_module": "@jupyter-widgets/base",
            "_view_module_version": "2.0.0",
            "_view_name": "LayoutView",
            "align_content": null,
            "align_items": null,
            "align_self": null,
            "border_bottom": null,
            "border_left": null,
            "border_right": null,
            "border_top": null,
            "bottom": null,
            "display": null,
            "flex": null,
            "flex_flow": null,
            "grid_area": null,
            "grid_auto_columns": null,
            "grid_auto_flow": null,
            "grid_auto_rows": null,
            "grid_column": null,
            "grid_gap": null,
            "grid_row": null,
            "grid_template_areas": null,
            "grid_template_columns": null,
            "grid_template_rows": null,
            "height": null,
            "justify_content": null,
            "justify_items": null,
            "left": null,
            "margin": null,
            "max_height": null,
            "max_width": null,
            "min_height": null,
            "min_width": null,
            "object_fit": null,
            "object_position": null,
            "order": null,
            "overflow": null,
            "padding": null,
            "right": null,
            "top": null,
            "visibility": null,
            "width": null
          }
        },
        "d9ae51c36a4348d28cb7b07393ba2070": {
          "model_module": "@jupyter-widgets/controls",
          "model_name": "HTMLStyleModel",
          "model_module_version": "2.0.0",
          "state": {
            "_model_module": "@jupyter-widgets/controls",
            "_model_module_version": "2.0.0",
            "_model_name": "HTMLStyleModel",
            "_view_count": null,
            "_view_module": "@jupyter-widgets/base",
            "_view_module_version": "2.0.0",
            "_view_name": "StyleView",
            "background": null,
            "description_width": "",
            "font_size": null,
            "text_color": null
          }
        },
        "e9046648792345f0a897cc441e34e006": {
          "model_module": "@jupyter-widgets/base",
          "model_name": "LayoutModel",
          "model_module_version": "2.0.0",
          "state": {
            "_model_module": "@jupyter-widgets/base",
            "_model_module_version": "2.0.0",
            "_model_name": "LayoutModel",
            "_view_count": null,
            "_view_module": "@jupyter-widgets/base",
            "_view_module_version": "2.0.0",
            "_view_name": "LayoutView",
            "align_content": null,
            "align_items": null,
            "align_self": null,
            "border_bottom": null,
            "border_left": null,
            "border_right": null,
            "border_top": null,
            "bottom": null,
            "display": null,
            "flex": null,
            "flex_flow": null,
            "grid_area": null,
            "grid_auto_columns": null,
            "grid_auto_flow": null,
            "grid_auto_rows": null,
            "grid_column": null,
            "grid_gap": null,
            "grid_row": null,
            "grid_template_areas": null,
            "grid_template_columns": null,
            "grid_template_rows": null,
            "height": null,
            "justify_content": null,
            "justify_items": null,
            "left": null,
            "margin": null,
            "max_height": null,
            "max_width": null,
            "min_height": null,
            "min_width": null,
            "object_fit": null,
            "object_position": null,
            "order": null,
            "overflow": null,
            "padding": null,
            "right": null,
            "top": null,
            "visibility": null,
            "width": null
          }
        },
        "c93f10447bc442e585e91506b905e5fd": {
          "model_module": "@jupyter-widgets/controls",
          "model_name": "HTMLStyleModel",
          "model_module_version": "2.0.0",
          "state": {
            "_model_module": "@jupyter-widgets/controls",
            "_model_module_version": "2.0.0",
            "_model_name": "HTMLStyleModel",
            "_view_count": null,
            "_view_module": "@jupyter-widgets/base",
            "_view_module_version": "2.0.0",
            "_view_name": "StyleView",
            "background": null,
            "description_width": "",
            "font_size": null,
            "text_color": null
          }
        },
        "3f9fb75c76b24dba8f699e2612eaa987": {
          "model_module": "@jupyter-widgets/controls",
          "model_name": "HTMLModel",
          "model_module_version": "2.0.0",
          "state": {
            "_dom_classes": [],
            "_model_module": "@jupyter-widgets/controls",
            "_model_module_version": "2.0.0",
            "_model_name": "HTMLModel",
            "_view_count": null,
            "_view_module": "@jupyter-widgets/controls",
            "_view_module_version": "2.0.0",
            "_view_name": "HTMLView",
            "description": "",
            "description_allow_html": false,
            "layout": "IPY_MODEL_b7a57ba3d66d4362bdc0cd2e473cd2d3",
            "placeholder": "​",
            "style": "IPY_MODEL_d9ae51c36a4348d28cb7b07393ba2070",
            "tabbable": null,
            "tooltip": null,
            "value": "tokenizer_config.json: 100%"
          }
        },
        "12bf700f708e432ca72a92c8910660d3": {
          "model_module": "@jupyter-widgets/controls",
          "model_name": "FloatProgressModel",
          "model_module_version": "2.0.0",
          "state": {
            "_dom_classes": [],
            "_model_module": "@jupyter-widgets/controls",
            "_model_module_version": "2.0.0",
            "_model_name": "FloatProgressModel",
            "_view_count": null,
            "_view_module": "@jupyter-widgets/controls",
            "_view_module_version": "2.0.0",
            "_view_name": "ProgressView",
            "bar_style": "success",
            "description": "",
            "description_allow_html": false,
            "layout": "IPY_MODEL_f4b9592c1f114f1ebd546779a3713dd4",
            "max": 363,
            "min": 0,
            "orientation": "horizontal",
            "style": "IPY_MODEL_1547b938624a4d888167197845ab4fe0",
            "tabbable": null,
            "tooltip": null,
            "value": 363
          }
        },
        "c8629f5c176a4ac791aa521f2a7b17f3": {
          "model_module": "@jupyter-widgets/controls",
          "model_name": "HTMLModel",
          "model_module_version": "2.0.0",
          "state": {
            "_dom_classes": [],
            "_model_module": "@jupyter-widgets/controls",
            "_model_module_version": "2.0.0",
            "_model_name": "HTMLModel",
            "_view_count": null,
            "_view_module": "@jupyter-widgets/controls",
            "_view_module_version": "2.0.0",
            "_view_name": "HTMLView",
            "description": "",
            "description_allow_html": false,
            "layout": "IPY_MODEL_e9046648792345f0a897cc441e34e006",
            "placeholder": "​",
            "style": "IPY_MODEL_c93f10447bc442e585e91506b905e5fd",
            "tabbable": null,
            "tooltip": null,
            "value": " 363/363 [00:00&lt;00:00, 21.0kB/s]"
          }
        },
        "15091a7692a74a08a12b64a1c553ffe6": {
          "model_module": "@jupyter-widgets/base",
          "model_name": "LayoutModel",
          "model_module_version": "2.0.0",
          "state": {
            "_model_module": "@jupyter-widgets/base",
            "_model_module_version": "2.0.0",
            "_model_name": "LayoutModel",
            "_view_count": null,
            "_view_module": "@jupyter-widgets/base",
            "_view_module_version": "2.0.0",
            "_view_name": "LayoutView",
            "align_content": null,
            "align_items": null,
            "align_self": null,
            "border_bottom": null,
            "border_left": null,
            "border_right": null,
            "border_top": null,
            "bottom": null,
            "display": null,
            "flex": null,
            "flex_flow": null,
            "grid_area": null,
            "grid_auto_columns": null,
            "grid_auto_flow": null,
            "grid_auto_rows": null,
            "grid_column": null,
            "grid_gap": null,
            "grid_row": null,
            "grid_template_areas": null,
            "grid_template_columns": null,
            "grid_template_rows": null,
            "height": null,
            "justify_content": null,
            "justify_items": null,
            "left": null,
            "margin": null,
            "max_height": null,
            "max_width": null,
            "min_height": null,
            "min_width": null,
            "object_fit": null,
            "object_position": null,
            "order": null,
            "overflow": null,
            "padding": null,
            "right": null,
            "top": null,
            "visibility": null,
            "width": null
          }
        },
        "034e756789434e789130e1a8b3136f5a": {
          "model_module": "@jupyter-widgets/controls",
          "model_name": "HBoxModel",
          "model_module_version": "2.0.0",
          "state": {
            "_dom_classes": [],
            "_model_module": "@jupyter-widgets/controls",
            "_model_module_version": "2.0.0",
            "_model_name": "HBoxModel",
            "_view_count": null,
            "_view_module": "@jupyter-widgets/controls",
            "_view_module_version": "2.0.0",
            "_view_name": "HBoxView",
            "box_style": "",
            "children": [
              "IPY_MODEL_3f9fb75c76b24dba8f699e2612eaa987",
              "IPY_MODEL_12bf700f708e432ca72a92c8910660d3",
              "IPY_MODEL_c8629f5c176a4ac791aa521f2a7b17f3"
            ],
            "layout": "IPY_MODEL_15091a7692a74a08a12b64a1c553ffe6",
            "tabbable": null,
            "tooltip": null
          }
        },
        "dd678dbef23248378e9800e0e2f3cf95": {
          "model_module": "@jupyter-widgets/base",
          "model_name": "LayoutModel",
          "model_module_version": "2.0.0",
          "state": {
            "_model_module": "@jupyter-widgets/base",
            "_model_module_version": "2.0.0",
            "_model_name": "LayoutModel",
            "_view_count": null,
            "_view_module": "@jupyter-widgets/base",
            "_view_module_version": "2.0.0",
            "_view_name": "LayoutView",
            "align_content": null,
            "align_items": null,
            "align_self": null,
            "border_bottom": null,
            "border_left": null,
            "border_right": null,
            "border_top": null,
            "bottom": null,
            "display": null,
            "flex": null,
            "flex_flow": null,
            "grid_area": null,
            "grid_auto_columns": null,
            "grid_auto_flow": null,
            "grid_auto_rows": null,
            "grid_column": null,
            "grid_gap": null,
            "grid_row": null,
            "grid_template_areas": null,
            "grid_template_columns": null,
            "grid_template_rows": null,
            "height": null,
            "justify_content": null,
            "justify_items": null,
            "left": null,
            "margin": null,
            "max_height": null,
            "max_width": null,
            "min_height": null,
            "min_width": null,
            "object_fit": null,
            "object_position": null,
            "order": null,
            "overflow": null,
            "padding": null,
            "right": null,
            "top": null,
            "visibility": null,
            "width": null
          }
        },
        "47a2c5b85e6843f8b3b38fafafa8f1f4": {
          "model_module": "@jupyter-widgets/controls",
          "model_name": "ProgressStyleModel",
          "model_module_version": "2.0.0",
          "state": {
            "_model_module": "@jupyter-widgets/controls",
            "_model_module_version": "2.0.0",
            "_model_name": "ProgressStyleModel",
            "_view_count": null,
            "_view_module": "@jupyter-widgets/base",
            "_view_module_version": "2.0.0",
            "_view_name": "StyleView",
            "bar_color": null,
            "description_width": ""
          }
        },
        "4a3f4f3428e540eea5ea549e16723636": {
          "model_module": "@jupyter-widgets/base",
          "model_name": "LayoutModel",
          "model_module_version": "2.0.0",
          "state": {
            "_model_module": "@jupyter-widgets/base",
            "_model_module_version": "2.0.0",
            "_model_name": "LayoutModel",
            "_view_count": null,
            "_view_module": "@jupyter-widgets/base",
            "_view_module_version": "2.0.0",
            "_view_name": "LayoutView",
            "align_content": null,
            "align_items": null,
            "align_self": null,
            "border_bottom": null,
            "border_left": null,
            "border_right": null,
            "border_top": null,
            "bottom": null,
            "display": null,
            "flex": null,
            "flex_flow": null,
            "grid_area": null,
            "grid_auto_columns": null,
            "grid_auto_flow": null,
            "grid_auto_rows": null,
            "grid_column": null,
            "grid_gap": null,
            "grid_row": null,
            "grid_template_areas": null,
            "grid_template_columns": null,
            "grid_template_rows": null,
            "height": null,
            "justify_content": null,
            "justify_items": null,
            "left": null,
            "margin": null,
            "max_height": null,
            "max_width": null,
            "min_height": null,
            "min_width": null,
            "object_fit": null,
            "object_position": null,
            "order": null,
            "overflow": null,
            "padding": null,
            "right": null,
            "top": null,
            "visibility": null,
            "width": null
          }
        },
        "6c2b0d23830b4d058d815d6b98f643e3": {
          "model_module": "@jupyter-widgets/controls",
          "model_name": "HTMLStyleModel",
          "model_module_version": "2.0.0",
          "state": {
            "_model_module": "@jupyter-widgets/controls",
            "_model_module_version": "2.0.0",
            "_model_name": "HTMLStyleModel",
            "_view_count": null,
            "_view_module": "@jupyter-widgets/base",
            "_view_module_version": "2.0.0",
            "_view_name": "StyleView",
            "background": null,
            "description_width": "",
            "font_size": null,
            "text_color": null
          }
        },
        "5a21ba7f829743c289addfc3dc65bafe": {
          "model_module": "@jupyter-widgets/base",
          "model_name": "LayoutModel",
          "model_module_version": "2.0.0",
          "state": {
            "_model_module": "@jupyter-widgets/base",
            "_model_module_version": "2.0.0",
            "_model_name": "LayoutModel",
            "_view_count": null,
            "_view_module": "@jupyter-widgets/base",
            "_view_module_version": "2.0.0",
            "_view_name": "LayoutView",
            "align_content": null,
            "align_items": null,
            "align_self": null,
            "border_bottom": null,
            "border_left": null,
            "border_right": null,
            "border_top": null,
            "bottom": null,
            "display": null,
            "flex": null,
            "flex_flow": null,
            "grid_area": null,
            "grid_auto_columns": null,
            "grid_auto_flow": null,
            "grid_auto_rows": null,
            "grid_column": null,
            "grid_gap": null,
            "grid_row": null,
            "grid_template_areas": null,
            "grid_template_columns": null,
            "grid_template_rows": null,
            "height": null,
            "justify_content": null,
            "justify_items": null,
            "left": null,
            "margin": null,
            "max_height": null,
            "max_width": null,
            "min_height": null,
            "min_width": null,
            "object_fit": null,
            "object_position": null,
            "order": null,
            "overflow": null,
            "padding": null,
            "right": null,
            "top": null,
            "visibility": null,
            "width": null
          }
        },
        "308ceb37b8ff48ff9b5ff3b664737588": {
          "model_module": "@jupyter-widgets/controls",
          "model_name": "HTMLStyleModel",
          "model_module_version": "2.0.0",
          "state": {
            "_model_module": "@jupyter-widgets/controls",
            "_model_module_version": "2.0.0",
            "_model_name": "HTMLStyleModel",
            "_view_count": null,
            "_view_module": "@jupyter-widgets/base",
            "_view_module_version": "2.0.0",
            "_view_name": "StyleView",
            "background": null,
            "description_width": "",
            "font_size": null,
            "text_color": null
          }
        },
        "71dbb44863044bd29a27ae48f2f373f8": {
          "model_module": "@jupyter-widgets/controls",
          "model_name": "HTMLModel",
          "model_module_version": "2.0.0",
          "state": {
            "_dom_classes": [],
            "_model_module": "@jupyter-widgets/controls",
            "_model_module_version": "2.0.0",
            "_model_name": "HTMLModel",
            "_view_count": null,
            "_view_module": "@jupyter-widgets/controls",
            "_view_module_version": "2.0.0",
            "_view_name": "HTMLView",
            "description": "",
            "description_allow_html": false,
            "layout": "IPY_MODEL_4a3f4f3428e540eea5ea549e16723636",
            "placeholder": "​",
            "style": "IPY_MODEL_6c2b0d23830b4d058d815d6b98f643e3",
            "tabbable": null,
            "tooltip": null,
            "value": "vocab.txt: 100%"
          }
        },
        "fc023db6fd6f4dc0825ff06e70672146": {
          "model_module": "@jupyter-widgets/controls",
          "model_name": "FloatProgressModel",
          "model_module_version": "2.0.0",
          "state": {
            "_dom_classes": [],
            "_model_module": "@jupyter-widgets/controls",
            "_model_module_version": "2.0.0",
            "_model_name": "FloatProgressModel",
            "_view_count": null,
            "_view_module": "@jupyter-widgets/controls",
            "_view_module_version": "2.0.0",
            "_view_name": "ProgressView",
            "bar_style": "success",
            "description": "",
            "description_allow_html": false,
            "layout": "IPY_MODEL_dd678dbef23248378e9800e0e2f3cf95",
            "max": 231536,
            "min": 0,
            "orientation": "horizontal",
            "style": "IPY_MODEL_47a2c5b85e6843f8b3b38fafafa8f1f4",
            "tabbable": null,
            "tooltip": null,
            "value": 231536
          }
        },
        "ee93a6073dba42cf91d1a65878f7c50b": {
          "model_module": "@jupyter-widgets/controls",
          "model_name": "HTMLModel",
          "model_module_version": "2.0.0",
          "state": {
            "_dom_classes": [],
            "_model_module": "@jupyter-widgets/controls",
            "_model_module_version": "2.0.0",
            "_model_name": "HTMLModel",
            "_view_count": null,
            "_view_module": "@jupyter-widgets/controls",
            "_view_module_version": "2.0.0",
            "_view_name": "HTMLView",
            "description": "",
            "description_allow_html": false,
            "layout": "IPY_MODEL_5a21ba7f829743c289addfc3dc65bafe",
            "placeholder": "​",
            "style": "IPY_MODEL_308ceb37b8ff48ff9b5ff3b664737588",
            "tabbable": null,
            "tooltip": null,
            "value": " 232k/232k [00:00&lt;00:00, 4.10MB/s]"
          }
        },
        "22d11970efe84ab7b0abf9137408c71a": {
          "model_module": "@jupyter-widgets/base",
          "model_name": "LayoutModel",
          "model_module_version": "2.0.0",
          "state": {
            "_model_module": "@jupyter-widgets/base",
            "_model_module_version": "2.0.0",
            "_model_name": "LayoutModel",
            "_view_count": null,
            "_view_module": "@jupyter-widgets/base",
            "_view_module_version": "2.0.0",
            "_view_name": "LayoutView",
            "align_content": null,
            "align_items": null,
            "align_self": null,
            "border_bottom": null,
            "border_left": null,
            "border_right": null,
            "border_top": null,
            "bottom": null,
            "display": null,
            "flex": null,
            "flex_flow": null,
            "grid_area": null,
            "grid_auto_columns": null,
            "grid_auto_flow": null,
            "grid_auto_rows": null,
            "grid_column": null,
            "grid_gap": null,
            "grid_row": null,
            "grid_template_areas": null,
            "grid_template_columns": null,
            "grid_template_rows": null,
            "height": null,
            "justify_content": null,
            "justify_items": null,
            "left": null,
            "margin": null,
            "max_height": null,
            "max_width": null,
            "min_height": null,
            "min_width": null,
            "object_fit": null,
            "object_position": null,
            "order": null,
            "overflow": null,
            "padding": null,
            "right": null,
            "top": null,
            "visibility": null,
            "width": null
          }
        },
        "0ded184d8f7a4d8186b730f46c391d60": {
          "model_module": "@jupyter-widgets/controls",
          "model_name": "HBoxModel",
          "model_module_version": "2.0.0",
          "state": {
            "_dom_classes": [],
            "_model_module": "@jupyter-widgets/controls",
            "_model_module_version": "2.0.0",
            "_model_name": "HBoxModel",
            "_view_count": null,
            "_view_module": "@jupyter-widgets/controls",
            "_view_module_version": "2.0.0",
            "_view_name": "HBoxView",
            "box_style": "",
            "children": [
              "IPY_MODEL_71dbb44863044bd29a27ae48f2f373f8",
              "IPY_MODEL_fc023db6fd6f4dc0825ff06e70672146",
              "IPY_MODEL_ee93a6073dba42cf91d1a65878f7c50b"
            ],
            "layout": "IPY_MODEL_22d11970efe84ab7b0abf9137408c71a",
            "tabbable": null,
            "tooltip": null
          }
        },
        "3dfa54c8635d43b8b5fe3c3179330f76": {
          "model_module": "@jupyter-widgets/base",
          "model_name": "LayoutModel",
          "model_module_version": "2.0.0",
          "state": {
            "_model_module": "@jupyter-widgets/base",
            "_model_module_version": "2.0.0",
            "_model_name": "LayoutModel",
            "_view_count": null,
            "_view_module": "@jupyter-widgets/base",
            "_view_module_version": "2.0.0",
            "_view_name": "LayoutView",
            "align_content": null,
            "align_items": null,
            "align_self": null,
            "border_bottom": null,
            "border_left": null,
            "border_right": null,
            "border_top": null,
            "bottom": null,
            "display": null,
            "flex": null,
            "flex_flow": null,
            "grid_area": null,
            "grid_auto_columns": null,
            "grid_auto_flow": null,
            "grid_auto_rows": null,
            "grid_column": null,
            "grid_gap": null,
            "grid_row": null,
            "grid_template_areas": null,
            "grid_template_columns": null,
            "grid_template_rows": null,
            "height": null,
            "justify_content": null,
            "justify_items": null,
            "left": null,
            "margin": null,
            "max_height": null,
            "max_width": null,
            "min_height": null,
            "min_width": null,
            "object_fit": null,
            "object_position": null,
            "order": null,
            "overflow": null,
            "padding": null,
            "right": null,
            "top": null,
            "visibility": null,
            "width": null
          }
        },
        "a18315b323714ddab9b1e61728b74591": {
          "model_module": "@jupyter-widgets/controls",
          "model_name": "ProgressStyleModel",
          "model_module_version": "2.0.0",
          "state": {
            "_model_module": "@jupyter-widgets/controls",
            "_model_module_version": "2.0.0",
            "_model_name": "ProgressStyleModel",
            "_view_count": null,
            "_view_module": "@jupyter-widgets/base",
            "_view_module_version": "2.0.0",
            "_view_name": "StyleView",
            "bar_color": null,
            "description_width": ""
          }
        },
        "dc57e428ade0495fbe38e109ddfaa0eb": {
          "model_module": "@jupyter-widgets/base",
          "model_name": "LayoutModel",
          "model_module_version": "2.0.0",
          "state": {
            "_model_module": "@jupyter-widgets/base",
            "_model_module_version": "2.0.0",
            "_model_name": "LayoutModel",
            "_view_count": null,
            "_view_module": "@jupyter-widgets/base",
            "_view_module_version": "2.0.0",
            "_view_name": "LayoutView",
            "align_content": null,
            "align_items": null,
            "align_self": null,
            "border_bottom": null,
            "border_left": null,
            "border_right": null,
            "border_top": null,
            "bottom": null,
            "display": null,
            "flex": null,
            "flex_flow": null,
            "grid_area": null,
            "grid_auto_columns": null,
            "grid_auto_flow": null,
            "grid_auto_rows": null,
            "grid_column": null,
            "grid_gap": null,
            "grid_row": null,
            "grid_template_areas": null,
            "grid_template_columns": null,
            "grid_template_rows": null,
            "height": null,
            "justify_content": null,
            "justify_items": null,
            "left": null,
            "margin": null,
            "max_height": null,
            "max_width": null,
            "min_height": null,
            "min_width": null,
            "object_fit": null,
            "object_position": null,
            "order": null,
            "overflow": null,
            "padding": null,
            "right": null,
            "top": null,
            "visibility": null,
            "width": null
          }
        },
        "6daf5f2422494ae28e553ab1e715f678": {
          "model_module": "@jupyter-widgets/controls",
          "model_name": "HTMLStyleModel",
          "model_module_version": "2.0.0",
          "state": {
            "_model_module": "@jupyter-widgets/controls",
            "_model_module_version": "2.0.0",
            "_model_name": "HTMLStyleModel",
            "_view_count": null,
            "_view_module": "@jupyter-widgets/base",
            "_view_module_version": "2.0.0",
            "_view_name": "StyleView",
            "background": null,
            "description_width": "",
            "font_size": null,
            "text_color": null
          }
        },
        "87eda059b7684521bc03585d9439a7d0": {
          "model_module": "@jupyter-widgets/base",
          "model_name": "LayoutModel",
          "model_module_version": "2.0.0",
          "state": {
            "_model_module": "@jupyter-widgets/base",
            "_model_module_version": "2.0.0",
            "_model_name": "LayoutModel",
            "_view_count": null,
            "_view_module": "@jupyter-widgets/base",
            "_view_module_version": "2.0.0",
            "_view_name": "LayoutView",
            "align_content": null,
            "align_items": null,
            "align_self": null,
            "border_bottom": null,
            "border_left": null,
            "border_right": null,
            "border_top": null,
            "bottom": null,
            "display": null,
            "flex": null,
            "flex_flow": null,
            "grid_area": null,
            "grid_auto_columns": null,
            "grid_auto_flow": null,
            "grid_auto_rows": null,
            "grid_column": null,
            "grid_gap": null,
            "grid_row": null,
            "grid_template_areas": null,
            "grid_template_columns": null,
            "grid_template_rows": null,
            "height": null,
            "justify_content": null,
            "justify_items": null,
            "left": null,
            "margin": null,
            "max_height": null,
            "max_width": null,
            "min_height": null,
            "min_width": null,
            "object_fit": null,
            "object_position": null,
            "order": null,
            "overflow": null,
            "padding": null,
            "right": null,
            "top": null,
            "visibility": null,
            "width": null
          }
        },
        "8f2630a5c05147d1bd906aa5bce5f49e": {
          "model_module": "@jupyter-widgets/controls",
          "model_name": "HTMLStyleModel",
          "model_module_version": "2.0.0",
          "state": {
            "_model_module": "@jupyter-widgets/controls",
            "_model_module_version": "2.0.0",
            "_model_name": "HTMLStyleModel",
            "_view_count": null,
            "_view_module": "@jupyter-widgets/base",
            "_view_module_version": "2.0.0",
            "_view_name": "StyleView",
            "background": null,
            "description_width": "",
            "font_size": null,
            "text_color": null
          }
        },
        "80264d5a85a34ee8a62bd5d3aa8b5b13": {
          "model_module": "@jupyter-widgets/controls",
          "model_name": "HTMLModel",
          "model_module_version": "2.0.0",
          "state": {
            "_dom_classes": [],
            "_model_module": "@jupyter-widgets/controls",
            "_model_module_version": "2.0.0",
            "_model_name": "HTMLModel",
            "_view_count": null,
            "_view_module": "@jupyter-widgets/controls",
            "_view_module_version": "2.0.0",
            "_view_name": "HTMLView",
            "description": "",
            "description_allow_html": false,
            "layout": "IPY_MODEL_dc57e428ade0495fbe38e109ddfaa0eb",
            "placeholder": "​",
            "style": "IPY_MODEL_6daf5f2422494ae28e553ab1e715f678",
            "tabbable": null,
            "tooltip": null,
            "value": "tokenizer.json: 100%"
          }
        },
        "c73e7924d0a441be9a5d58e1af139ea6": {
          "model_module": "@jupyter-widgets/controls",
          "model_name": "FloatProgressModel",
          "model_module_version": "2.0.0",
          "state": {
            "_dom_classes": [],
            "_model_module": "@jupyter-widgets/controls",
            "_model_module_version": "2.0.0",
            "_model_name": "FloatProgressModel",
            "_view_count": null,
            "_view_module": "@jupyter-widgets/controls",
            "_view_module_version": "2.0.0",
            "_view_name": "ProgressView",
            "bar_style": "success",
            "description": "",
            "description_allow_html": false,
            "layout": "IPY_MODEL_3dfa54c8635d43b8b5fe3c3179330f76",
            "max": 466021,
            "min": 0,
            "orientation": "horizontal",
            "style": "IPY_MODEL_a18315b323714ddab9b1e61728b74591",
            "tabbable": null,
            "tooltip": null,
            "value": 466021
          }
        },
        "2c1f4fd84e854be7a0d4deedcb6c3996": {
          "model_module": "@jupyter-widgets/controls",
          "model_name": "HTMLModel",
          "model_module_version": "2.0.0",
          "state": {
            "_dom_classes": [],
            "_model_module": "@jupyter-widgets/controls",
            "_model_module_version": "2.0.0",
            "_model_name": "HTMLModel",
            "_view_count": null,
            "_view_module": "@jupyter-widgets/controls",
            "_view_module_version": "2.0.0",
            "_view_name": "HTMLView",
            "description": "",
            "description_allow_html": false,
            "layout": "IPY_MODEL_87eda059b7684521bc03585d9439a7d0",
            "placeholder": "​",
            "style": "IPY_MODEL_8f2630a5c05147d1bd906aa5bce5f49e",
            "tabbable": null,
            "tooltip": null,
            "value": " 466k/466k [00:00&lt;00:00, 7.27MB/s]"
          }
        },
        "4e768ca452584532b9f337501f2a30c5": {
          "model_module": "@jupyter-widgets/base",
          "model_name": "LayoutModel",
          "model_module_version": "2.0.0",
          "state": {
            "_model_module": "@jupyter-widgets/base",
            "_model_module_version": "2.0.0",
            "_model_name": "LayoutModel",
            "_view_count": null,
            "_view_module": "@jupyter-widgets/base",
            "_view_module_version": "2.0.0",
            "_view_name": "LayoutView",
            "align_content": null,
            "align_items": null,
            "align_self": null,
            "border_bottom": null,
            "border_left": null,
            "border_right": null,
            "border_top": null,
            "bottom": null,
            "display": null,
            "flex": null,
            "flex_flow": null,
            "grid_area": null,
            "grid_auto_columns": null,
            "grid_auto_flow": null,
            "grid_auto_rows": null,
            "grid_column": null,
            "grid_gap": null,
            "grid_row": null,
            "grid_template_areas": null,
            "grid_template_columns": null,
            "grid_template_rows": null,
            "height": null,
            "justify_content": null,
            "justify_items": null,
            "left": null,
            "margin": null,
            "max_height": null,
            "max_width": null,
            "min_height": null,
            "min_width": null,
            "object_fit": null,
            "object_position": null,
            "order": null,
            "overflow": null,
            "padding": null,
            "right": null,
            "top": null,
            "visibility": null,
            "width": null
          }
        },
        "38001a6445a84575987be608ac4c7193": {
          "model_module": "@jupyter-widgets/controls",
          "model_name": "HBoxModel",
          "model_module_version": "2.0.0",
          "state": {
            "_dom_classes": [],
            "_model_module": "@jupyter-widgets/controls",
            "_model_module_version": "2.0.0",
            "_model_name": "HBoxModel",
            "_view_count": null,
            "_view_module": "@jupyter-widgets/controls",
            "_view_module_version": "2.0.0",
            "_view_name": "HBoxView",
            "box_style": "",
            "children": [
              "IPY_MODEL_80264d5a85a34ee8a62bd5d3aa8b5b13",
              "IPY_MODEL_c73e7924d0a441be9a5d58e1af139ea6",
              "IPY_MODEL_2c1f4fd84e854be7a0d4deedcb6c3996"
            ],
            "layout": "IPY_MODEL_4e768ca452584532b9f337501f2a30c5",
            "tabbable": null,
            "tooltip": null
          }
        },
        "1c57e3355efa489185e57b7adf7f974c": {
          "model_module": "@jupyter-widgets/base",
          "model_name": "LayoutModel",
          "model_module_version": "2.0.0",
          "state": {
            "_model_module": "@jupyter-widgets/base",
            "_model_module_version": "2.0.0",
            "_model_name": "LayoutModel",
            "_view_count": null,
            "_view_module": "@jupyter-widgets/base",
            "_view_module_version": "2.0.0",
            "_view_name": "LayoutView",
            "align_content": null,
            "align_items": null,
            "align_self": null,
            "border_bottom": null,
            "border_left": null,
            "border_right": null,
            "border_top": null,
            "bottom": null,
            "display": null,
            "flex": null,
            "flex_flow": null,
            "grid_area": null,
            "grid_auto_columns": null,
            "grid_auto_flow": null,
            "grid_auto_rows": null,
            "grid_column": null,
            "grid_gap": null,
            "grid_row": null,
            "grid_template_areas": null,
            "grid_template_columns": null,
            "grid_template_rows": null,
            "height": null,
            "justify_content": null,
            "justify_items": null,
            "left": null,
            "margin": null,
            "max_height": null,
            "max_width": null,
            "min_height": null,
            "min_width": null,
            "object_fit": null,
            "object_position": null,
            "order": null,
            "overflow": null,
            "padding": null,
            "right": null,
            "top": null,
            "visibility": null,
            "width": null
          }
        },
        "e71c29f5743d43ef8477da091baf1a93": {
          "model_module": "@jupyter-widgets/controls",
          "model_name": "ProgressStyleModel",
          "model_module_version": "2.0.0",
          "state": {
            "_model_module": "@jupyter-widgets/controls",
            "_model_module_version": "2.0.0",
            "_model_name": "ProgressStyleModel",
            "_view_count": null,
            "_view_module": "@jupyter-widgets/base",
            "_view_module_version": "2.0.0",
            "_view_name": "StyleView",
            "bar_color": null,
            "description_width": ""
          }
        },
        "87d4794a0d0d4e1eb7d3cfa0dbd430e1": {
          "model_module": "@jupyter-widgets/base",
          "model_name": "LayoutModel",
          "model_module_version": "2.0.0",
          "state": {
            "_model_module": "@jupyter-widgets/base",
            "_model_module_version": "2.0.0",
            "_model_name": "LayoutModel",
            "_view_count": null,
            "_view_module": "@jupyter-widgets/base",
            "_view_module_version": "2.0.0",
            "_view_name": "LayoutView",
            "align_content": null,
            "align_items": null,
            "align_self": null,
            "border_bottom": null,
            "border_left": null,
            "border_right": null,
            "border_top": null,
            "bottom": null,
            "display": null,
            "flex": null,
            "flex_flow": null,
            "grid_area": null,
            "grid_auto_columns": null,
            "grid_auto_flow": null,
            "grid_auto_rows": null,
            "grid_column": null,
            "grid_gap": null,
            "grid_row": null,
            "grid_template_areas": null,
            "grid_template_columns": null,
            "grid_template_rows": null,
            "height": null,
            "justify_content": null,
            "justify_items": null,
            "left": null,
            "margin": null,
            "max_height": null,
            "max_width": null,
            "min_height": null,
            "min_width": null,
            "object_fit": null,
            "object_position": null,
            "order": null,
            "overflow": null,
            "padding": null,
            "right": null,
            "top": null,
            "visibility": null,
            "width": null
          }
        },
        "0b7e8cb5d31a4ab6a576040316d61c91": {
          "model_module": "@jupyter-widgets/controls",
          "model_name": "HTMLStyleModel",
          "model_module_version": "2.0.0",
          "state": {
            "_model_module": "@jupyter-widgets/controls",
            "_model_module_version": "2.0.0",
            "_model_name": "HTMLStyleModel",
            "_view_count": null,
            "_view_module": "@jupyter-widgets/base",
            "_view_module_version": "2.0.0",
            "_view_name": "StyleView",
            "background": null,
            "description_width": "",
            "font_size": null,
            "text_color": null
          }
        },
        "3d9d6c2331ae4b72a650c6123e8cbc6d": {
          "model_module": "@jupyter-widgets/base",
          "model_name": "LayoutModel",
          "model_module_version": "2.0.0",
          "state": {
            "_model_module": "@jupyter-widgets/base",
            "_model_module_version": "2.0.0",
            "_model_name": "LayoutModel",
            "_view_count": null,
            "_view_module": "@jupyter-widgets/base",
            "_view_module_version": "2.0.0",
            "_view_name": "LayoutView",
            "align_content": null,
            "align_items": null,
            "align_self": null,
            "border_bottom": null,
            "border_left": null,
            "border_right": null,
            "border_top": null,
            "bottom": null,
            "display": null,
            "flex": null,
            "flex_flow": null,
            "grid_area": null,
            "grid_auto_columns": null,
            "grid_auto_flow": null,
            "grid_auto_rows": null,
            "grid_column": null,
            "grid_gap": null,
            "grid_row": null,
            "grid_template_areas": null,
            "grid_template_columns": null,
            "grid_template_rows": null,
            "height": null,
            "justify_content": null,
            "justify_items": null,
            "left": null,
            "margin": null,
            "max_height": null,
            "max_width": null,
            "min_height": null,
            "min_width": null,
            "object_fit": null,
            "object_position": null,
            "order": null,
            "overflow": null,
            "padding": null,
            "right": null,
            "top": null,
            "visibility": null,
            "width": null
          }
        },
        "878ddb455fbe4597af3c7584247e439f": {
          "model_module": "@jupyter-widgets/controls",
          "model_name": "HTMLStyleModel",
          "model_module_version": "2.0.0",
          "state": {
            "_model_module": "@jupyter-widgets/controls",
            "_model_module_version": "2.0.0",
            "_model_name": "HTMLStyleModel",
            "_view_count": null,
            "_view_module": "@jupyter-widgets/base",
            "_view_module_version": "2.0.0",
            "_view_name": "StyleView",
            "background": null,
            "description_width": "",
            "font_size": null,
            "text_color": null
          }
        },
        "a460e18606594dadb5b166535455e221": {
          "model_module": "@jupyter-widgets/controls",
          "model_name": "HTMLModel",
          "model_module_version": "2.0.0",
          "state": {
            "_dom_classes": [],
            "_model_module": "@jupyter-widgets/controls",
            "_model_module_version": "2.0.0",
            "_model_name": "HTMLModel",
            "_view_count": null,
            "_view_module": "@jupyter-widgets/controls",
            "_view_module_version": "2.0.0",
            "_view_name": "HTMLView",
            "description": "",
            "description_allow_html": false,
            "layout": "IPY_MODEL_87d4794a0d0d4e1eb7d3cfa0dbd430e1",
            "placeholder": "​",
            "style": "IPY_MODEL_0b7e8cb5d31a4ab6a576040316d61c91",
            "tabbable": null,
            "tooltip": null,
            "value": "special_tokens_map.json: 100%"
          }
        },
        "d08d7f2ff278436eb1c646b8e2405070": {
          "model_module": "@jupyter-widgets/controls",
          "model_name": "FloatProgressModel",
          "model_module_version": "2.0.0",
          "state": {
            "_dom_classes": [],
            "_model_module": "@jupyter-widgets/controls",
            "_model_module_version": "2.0.0",
            "_model_name": "FloatProgressModel",
            "_view_count": null,
            "_view_module": "@jupyter-widgets/controls",
            "_view_module_version": "2.0.0",
            "_view_name": "ProgressView",
            "bar_style": "success",
            "description": "",
            "description_allow_html": false,
            "layout": "IPY_MODEL_1c57e3355efa489185e57b7adf7f974c",
            "max": 239,
            "min": 0,
            "orientation": "horizontal",
            "style": "IPY_MODEL_e71c29f5743d43ef8477da091baf1a93",
            "tabbable": null,
            "tooltip": null,
            "value": 239
          }
        },
        "03792c54f2274498aeb8b8bd2eedc062": {
          "model_module": "@jupyter-widgets/controls",
          "model_name": "HTMLModel",
          "model_module_version": "2.0.0",
          "state": {
            "_dom_classes": [],
            "_model_module": "@jupyter-widgets/controls",
            "_model_module_version": "2.0.0",
            "_model_name": "HTMLModel",
            "_view_count": null,
            "_view_module": "@jupyter-widgets/controls",
            "_view_module_version": "2.0.0",
            "_view_name": "HTMLView",
            "description": "",
            "description_allow_html": false,
            "layout": "IPY_MODEL_3d9d6c2331ae4b72a650c6123e8cbc6d",
            "placeholder": "​",
            "style": "IPY_MODEL_878ddb455fbe4597af3c7584247e439f",
            "tabbable": null,
            "tooltip": null,
            "value": " 239/239 [00:00&lt;00:00, 22.8kB/s]"
          }
        },
        "2d5369fb205941aab3b5e7f0f306dc03": {
          "model_module": "@jupyter-widgets/base",
          "model_name": "LayoutModel",
          "model_module_version": "2.0.0",
          "state": {
            "_model_module": "@jupyter-widgets/base",
            "_model_module_version": "2.0.0",
            "_model_name": "LayoutModel",
            "_view_count": null,
            "_view_module": "@jupyter-widgets/base",
            "_view_module_version": "2.0.0",
            "_view_name": "LayoutView",
            "align_content": null,
            "align_items": null,
            "align_self": null,
            "border_bottom": null,
            "border_left": null,
            "border_right": null,
            "border_top": null,
            "bottom": null,
            "display": null,
            "flex": null,
            "flex_flow": null,
            "grid_area": null,
            "grid_auto_columns": null,
            "grid_auto_flow": null,
            "grid_auto_rows": null,
            "grid_column": null,
            "grid_gap": null,
            "grid_row": null,
            "grid_template_areas": null,
            "grid_template_columns": null,
            "grid_template_rows": null,
            "height": null,
            "justify_content": null,
            "justify_items": null,
            "left": null,
            "margin": null,
            "max_height": null,
            "max_width": null,
            "min_height": null,
            "min_width": null,
            "object_fit": null,
            "object_position": null,
            "order": null,
            "overflow": null,
            "padding": null,
            "right": null,
            "top": null,
            "visibility": null,
            "width": null
          }
        },
        "a975201c71474604af634f706584caa3": {
          "model_module": "@jupyter-widgets/controls",
          "model_name": "HBoxModel",
          "model_module_version": "2.0.0",
          "state": {
            "_dom_classes": [],
            "_model_module": "@jupyter-widgets/controls",
            "_model_module_version": "2.0.0",
            "_model_name": "HBoxModel",
            "_view_count": null,
            "_view_module": "@jupyter-widgets/controls",
            "_view_module_version": "2.0.0",
            "_view_name": "HBoxView",
            "box_style": "",
            "children": [
              "IPY_MODEL_a460e18606594dadb5b166535455e221",
              "IPY_MODEL_d08d7f2ff278436eb1c646b8e2405070",
              "IPY_MODEL_03792c54f2274498aeb8b8bd2eedc062"
            ],
            "layout": "IPY_MODEL_2d5369fb205941aab3b5e7f0f306dc03",
            "tabbable": null,
            "tooltip": null
          }
        },
        "005b9d3499f64349b242cb604c075f79": {
          "model_module": "@jupyter-widgets/base",
          "model_name": "LayoutModel",
          "model_module_version": "2.0.0",
          "state": {
            "_model_module": "@jupyter-widgets/base",
            "_model_module_version": "2.0.0",
            "_model_name": "LayoutModel",
            "_view_count": null,
            "_view_module": "@jupyter-widgets/base",
            "_view_module_version": "2.0.0",
            "_view_name": "LayoutView",
            "align_content": null,
            "align_items": null,
            "align_self": null,
            "border_bottom": null,
            "border_left": null,
            "border_right": null,
            "border_top": null,
            "bottom": null,
            "display": null,
            "flex": null,
            "flex_flow": null,
            "grid_area": null,
            "grid_auto_columns": null,
            "grid_auto_flow": null,
            "grid_auto_rows": null,
            "grid_column": null,
            "grid_gap": null,
            "grid_row": null,
            "grid_template_areas": null,
            "grid_template_columns": null,
            "grid_template_rows": null,
            "height": null,
            "justify_content": null,
            "justify_items": null,
            "left": null,
            "margin": null,
            "max_height": null,
            "max_width": null,
            "min_height": null,
            "min_width": null,
            "object_fit": null,
            "object_position": null,
            "order": null,
            "overflow": null,
            "padding": null,
            "right": null,
            "top": null,
            "visibility": null,
            "width": null
          }
        },
        "0d2b31aeb42848e6ae8a40f611c4ff32": {
          "model_module": "@jupyter-widgets/controls",
          "model_name": "ProgressStyleModel",
          "model_module_version": "2.0.0",
          "state": {
            "_model_module": "@jupyter-widgets/controls",
            "_model_module_version": "2.0.0",
            "_model_name": "ProgressStyleModel",
            "_view_count": null,
            "_view_module": "@jupyter-widgets/base",
            "_view_module_version": "2.0.0",
            "_view_name": "StyleView",
            "bar_color": null,
            "description_width": ""
          }
        },
        "eefcec5353b9486687fb099681a6489c": {
          "model_module": "@jupyter-widgets/base",
          "model_name": "LayoutModel",
          "model_module_version": "2.0.0",
          "state": {
            "_model_module": "@jupyter-widgets/base",
            "_model_module_version": "2.0.0",
            "_model_name": "LayoutModel",
            "_view_count": null,
            "_view_module": "@jupyter-widgets/base",
            "_view_module_version": "2.0.0",
            "_view_name": "LayoutView",
            "align_content": null,
            "align_items": null,
            "align_self": null,
            "border_bottom": null,
            "border_left": null,
            "border_right": null,
            "border_top": null,
            "bottom": null,
            "display": null,
            "flex": null,
            "flex_flow": null,
            "grid_area": null,
            "grid_auto_columns": null,
            "grid_auto_flow": null,
            "grid_auto_rows": null,
            "grid_column": null,
            "grid_gap": null,
            "grid_row": null,
            "grid_template_areas": null,
            "grid_template_columns": null,
            "grid_template_rows": null,
            "height": null,
            "justify_content": null,
            "justify_items": null,
            "left": null,
            "margin": null,
            "max_height": null,
            "max_width": null,
            "min_height": null,
            "min_width": null,
            "object_fit": null,
            "object_position": null,
            "order": null,
            "overflow": null,
            "padding": null,
            "right": null,
            "top": null,
            "visibility": null,
            "width": null
          }
        },
        "00d5b2574c414b2182ca5ae41b1d147e": {
          "model_module": "@jupyter-widgets/controls",
          "model_name": "HTMLStyleModel",
          "model_module_version": "2.0.0",
          "state": {
            "_model_module": "@jupyter-widgets/controls",
            "_model_module_version": "2.0.0",
            "_model_name": "HTMLStyleModel",
            "_view_count": null,
            "_view_module": "@jupyter-widgets/base",
            "_view_module_version": "2.0.0",
            "_view_name": "StyleView",
            "background": null,
            "description_width": "",
            "font_size": null,
            "text_color": null
          }
        },
        "9f3f20ec70bf404a84d110c1e72721d5": {
          "model_module": "@jupyter-widgets/base",
          "model_name": "LayoutModel",
          "model_module_version": "2.0.0",
          "state": {
            "_model_module": "@jupyter-widgets/base",
            "_model_module_version": "2.0.0",
            "_model_name": "LayoutModel",
            "_view_count": null,
            "_view_module": "@jupyter-widgets/base",
            "_view_module_version": "2.0.0",
            "_view_name": "LayoutView",
            "align_content": null,
            "align_items": null,
            "align_self": null,
            "border_bottom": null,
            "border_left": null,
            "border_right": null,
            "border_top": null,
            "bottom": null,
            "display": null,
            "flex": null,
            "flex_flow": null,
            "grid_area": null,
            "grid_auto_columns": null,
            "grid_auto_flow": null,
            "grid_auto_rows": null,
            "grid_column": null,
            "grid_gap": null,
            "grid_row": null,
            "grid_template_areas": null,
            "grid_template_columns": null,
            "grid_template_rows": null,
            "height": null,
            "justify_content": null,
            "justify_items": null,
            "left": null,
            "margin": null,
            "max_height": null,
            "max_width": null,
            "min_height": null,
            "min_width": null,
            "object_fit": null,
            "object_position": null,
            "order": null,
            "overflow": null,
            "padding": null,
            "right": null,
            "top": null,
            "visibility": null,
            "width": null
          }
        },
        "3aece20e0ec64692b4ceacf3e4e6d2c2": {
          "model_module": "@jupyter-widgets/controls",
          "model_name": "HTMLStyleModel",
          "model_module_version": "2.0.0",
          "state": {
            "_model_module": "@jupyter-widgets/controls",
            "_model_module_version": "2.0.0",
            "_model_name": "HTMLStyleModel",
            "_view_count": null,
            "_view_module": "@jupyter-widgets/base",
            "_view_module_version": "2.0.0",
            "_view_name": "StyleView",
            "background": null,
            "description_width": "",
            "font_size": null,
            "text_color": null
          }
        },
        "0dfc5ae1c6154aed9a4fb50fa3e6bd56": {
          "model_module": "@jupyter-widgets/controls",
          "model_name": "HTMLModel",
          "model_module_version": "2.0.0",
          "state": {
            "_dom_classes": [],
            "_model_module": "@jupyter-widgets/controls",
            "_model_module_version": "2.0.0",
            "_model_name": "HTMLModel",
            "_view_count": null,
            "_view_module": "@jupyter-widgets/controls",
            "_view_module_version": "2.0.0",
            "_view_name": "HTMLView",
            "description": "",
            "description_allow_html": false,
            "layout": "IPY_MODEL_eefcec5353b9486687fb099681a6489c",
            "placeholder": "​",
            "style": "IPY_MODEL_00d5b2574c414b2182ca5ae41b1d147e",
            "tabbable": null,
            "tooltip": null,
            "value": "config.json: 100%"
          }
        },
        "2459bfc4edd74bf89d43e188b8d3571e": {
          "model_module": "@jupyter-widgets/controls",
          "model_name": "FloatProgressModel",
          "model_module_version": "2.0.0",
          "state": {
            "_dom_classes": [],
            "_model_module": "@jupyter-widgets/controls",
            "_model_module_version": "2.0.0",
            "_model_name": "FloatProgressModel",
            "_view_count": null,
            "_view_module": "@jupyter-widgets/controls",
            "_view_module_version": "2.0.0",
            "_view_name": "ProgressView",
            "bar_style": "success",
            "description": "",
            "description_allow_html": false,
            "layout": "IPY_MODEL_005b9d3499f64349b242cb604c075f79",
            "max": 190,
            "min": 0,
            "orientation": "horizontal",
            "style": "IPY_MODEL_0d2b31aeb42848e6ae8a40f611c4ff32",
            "tabbable": null,
            "tooltip": null,
            "value": 190
          }
        },
        "4b4f8037559d46ddb56ed9ed4609ca05": {
          "model_module": "@jupyter-widgets/controls",
          "model_name": "HTMLModel",
          "model_module_version": "2.0.0",
          "state": {
            "_dom_classes": [],
            "_model_module": "@jupyter-widgets/controls",
            "_model_module_version": "2.0.0",
            "_model_name": "HTMLModel",
            "_view_count": null,
            "_view_module": "@jupyter-widgets/controls",
            "_view_module_version": "2.0.0",
            "_view_name": "HTMLView",
            "description": "",
            "description_allow_html": false,
            "layout": "IPY_MODEL_9f3f20ec70bf404a84d110c1e72721d5",
            "placeholder": "​",
            "style": "IPY_MODEL_3aece20e0ec64692b4ceacf3e4e6d2c2",
            "tabbable": null,
            "tooltip": null,
            "value": " 190/190 [00:00&lt;00:00, 14.9kB/s]"
          }
        },
        "0b98fcec25f742b8a03576c4149cd028": {
          "model_module": "@jupyter-widgets/base",
          "model_name": "LayoutModel",
          "model_module_version": "2.0.0",
          "state": {
            "_model_module": "@jupyter-widgets/base",
            "_model_module_version": "2.0.0",
            "_model_name": "LayoutModel",
            "_view_count": null,
            "_view_module": "@jupyter-widgets/base",
            "_view_module_version": "2.0.0",
            "_view_name": "LayoutView",
            "align_content": null,
            "align_items": null,
            "align_self": null,
            "border_bottom": null,
            "border_left": null,
            "border_right": null,
            "border_top": null,
            "bottom": null,
            "display": null,
            "flex": null,
            "flex_flow": null,
            "grid_area": null,
            "grid_auto_columns": null,
            "grid_auto_flow": null,
            "grid_auto_rows": null,
            "grid_column": null,
            "grid_gap": null,
            "grid_row": null,
            "grid_template_areas": null,
            "grid_template_columns": null,
            "grid_template_rows": null,
            "height": null,
            "justify_content": null,
            "justify_items": null,
            "left": null,
            "margin": null,
            "max_height": null,
            "max_width": null,
            "min_height": null,
            "min_width": null,
            "object_fit": null,
            "object_position": null,
            "order": null,
            "overflow": null,
            "padding": null,
            "right": null,
            "top": null,
            "visibility": null,
            "width": null
          }
        },
        "299ba42f88024bedb9827618a20f53e4": {
          "model_module": "@jupyter-widgets/controls",
          "model_name": "HBoxModel",
          "model_module_version": "2.0.0",
          "state": {
            "_dom_classes": [],
            "_model_module": "@jupyter-widgets/controls",
            "_model_module_version": "2.0.0",
            "_model_name": "HBoxModel",
            "_view_count": null,
            "_view_module": "@jupyter-widgets/controls",
            "_view_module_version": "2.0.0",
            "_view_name": "HBoxView",
            "box_style": "",
            "children": [
              "IPY_MODEL_0dfc5ae1c6154aed9a4fb50fa3e6bd56",
              "IPY_MODEL_2459bfc4edd74bf89d43e188b8d3571e",
              "IPY_MODEL_4b4f8037559d46ddb56ed9ed4609ca05"
            ],
            "layout": "IPY_MODEL_0b98fcec25f742b8a03576c4149cd028",
            "tabbable": null,
            "tooltip": null
          }
        }
      }
    },
    "accelerator": "GPU"
  },
  "cells": [
    {
      "cell_type": "markdown",
      "metadata": {
        "id": "view-in-github",
        "colab_type": "text"
      },
      "source": [
        "<a href=\"https://colab.research.google.com/github/Asish-baidya29/IPL_MATCHS_PREDICTOR/blob/master/Copy_of_GraphRAG_Neo4j_(Updated).ipynb\" target=\"_parent\"><img src=\"https://colab.research.google.com/assets/colab-badge.svg\" alt=\"Open In Colab\"/></a>"
      ]
    },
    {
      "cell_type": "markdown",
      "source": [
        "### What is Langchain?\n",
        "LangChain is an open-source framework for building LLM-powered applications, offering core components like Models (LLM integration), Prompt Templates (structured prompts), Memory (context retention), Indexes & Retrievers (efficient document retrieval), Agents (dynamic decision-making), and Chains (workflow automation). It simplifies RAG applications by enabling efficient document ingestion, retrieval, contextualized responses, and state management using vector databases, embeddings, and intelligent querying. This allows for seamless integration with external data sources and scalable AI-driven search and reasoning systems. 🚀"
      ],
      "metadata": {
        "id": "b7zow2uXarlR"
      }
    },
    {
      "cell_type": "markdown",
      "source": [
        "1. **`langchain-community`** – Contains community-maintained integrations and tools for working with various LLM providers, databases, and APIs.  \n",
        "2. **`langchain-experimental`** – Includes experimental and early-stage features for advanced LangChain applications, such as novel retrieval methods and agent capabilities.  \n",
        "3. **`langchain-groq`** – Provides integration with **Groq's LLMs**, enabling fast and efficient model inference.  \n",
        "4. **`langchain-huggingface`** – Facilitates the use of **Hugging Face models** (transformers, embeddings, and pipelines) within LangChain applications. 🚀"
      ],
      "metadata": {
        "id": "0_nW4OcOvkFS"
      }
    },
    {
      "cell_type": "markdown",
      "source": [
        "##Imports"
      ],
      "metadata": {
        "id": "wRhSxH1clXCF"
      }
    },
    {
      "cell_type": "code",
      "source": [
        "!pip install --upgrade --quiet langchain langchain-community langchain-experimental langchain-groq langchain-huggingface\n",
        "!pip install --upgrade --quiet  sentence-transformers\n",
        "!pip install --upgrade --quiet transformers\n",
        "!pip install --upgrade --quiet neo4j tiktoken yfiles_jupyter_graphs\n",
        "!pip install --upgrade --quiet pypdf\n"
      ],
      "metadata": {
        "collapsed": true,
        "id": "vdtlwkZlu0rN",
        "colab": {
          "base_uri": "https://localhost:8080/"
        },
        "outputId": "d707f777-382d-4148-97a8-c062b371cd8c"
      },
      "execution_count": 1,
      "outputs": [
        {
          "output_type": "stream",
          "name": "stdout",
          "text": [
            "\u001b[?25l   \u001b[90m━━━━━━━━━━━━━━━━━━━━━━━━━━━━━━━━━━━━━━━━\u001b[0m \u001b[32m0.0/2.5 MB\u001b[0m \u001b[31m?\u001b[0m eta \u001b[36m-:--:--\u001b[0m\r\u001b[2K   \u001b[91m━━━━━━━━\u001b[0m\u001b[90m╺\u001b[0m\u001b[90m━━━━━━━━━━━━━━━━━━━━━━━━━━━━━━━\u001b[0m \u001b[32m0.5/2.5 MB\u001b[0m \u001b[31m15.3 MB/s\u001b[0m eta \u001b[36m0:00:01\u001b[0m\r\u001b[2K   \u001b[91m━━━━━━━━━━━━━━━━━━━━━━━━━━━━━━━━━━━━━━━\u001b[0m\u001b[91m╸\u001b[0m \u001b[32m2.5/2.5 MB\u001b[0m \u001b[31m40.7 MB/s\u001b[0m eta \u001b[36m0:00:01\u001b[0m\r\u001b[2K   \u001b[90m━━━━━━━━━━━━━━━━━━━━━━━━━━━━━━━━━━━━━━━━\u001b[0m \u001b[32m2.5/2.5 MB\u001b[0m \u001b[31m27.7 MB/s\u001b[0m eta \u001b[36m0:00:00\u001b[0m\n",
            "\u001b[2K   \u001b[90m━━━━━━━━━━━━━━━━━━━━━━━━━━━━━━━━━━━━━━━━\u001b[0m \u001b[32m209.2/209.2 kB\u001b[0m \u001b[31m9.7 MB/s\u001b[0m eta \u001b[36m0:00:00\u001b[0m\n",
            "\u001b[2K   \u001b[90m━━━━━━━━━━━━━━━━━━━━━━━━━━━━━━━━━━━━━━━━\u001b[0m \u001b[32m124.9/124.9 kB\u001b[0m \u001b[31m7.0 MB/s\u001b[0m eta \u001b[36m0:00:00\u001b[0m\n",
            "\u001b[2K   \u001b[90m━━━━━━━━━━━━━━━━━━━━━━━━━━━━━━━━━━━━━━━━\u001b[0m \u001b[32m50.9/50.9 kB\u001b[0m \u001b[31m2.8 MB/s\u001b[0m eta \u001b[36m0:00:00\u001b[0m\n",
            "\u001b[2K   \u001b[90m━━━━━━━━━━━━━━━━━━━━━━━━━━━━━━━━━━━━━━━━\u001b[0m \u001b[32m363.4/363.4 MB\u001b[0m \u001b[31m3.8 MB/s\u001b[0m eta \u001b[36m0:00:00\u001b[0m\n",
            "\u001b[2K   \u001b[90m━━━━━━━━━━━━━━━━━━━━━━━━━━━━━━━━━━━━━━━━\u001b[0m \u001b[32m13.8/13.8 MB\u001b[0m \u001b[31m59.1 MB/s\u001b[0m eta \u001b[36m0:00:00\u001b[0m\n",
            "\u001b[2K   \u001b[90m━━━━━━━━━━━━━━━━━━━━━━━━━━━━━━━━━━━━━━━━\u001b[0m \u001b[32m24.6/24.6 MB\u001b[0m \u001b[31m47.9 MB/s\u001b[0m eta \u001b[36m0:00:00\u001b[0m\n",
            "\u001b[2K   \u001b[90m━━━━━━━━━━━━━━━━━━━━━━━━━━━━━━━━━━━━━━━━\u001b[0m \u001b[32m883.7/883.7 kB\u001b[0m \u001b[31m27.2 MB/s\u001b[0m eta \u001b[36m0:00:00\u001b[0m\n",
            "\u001b[2K   \u001b[90m━━━━━━━━━━━━━━━━━━━━━━━━━━━━━━━━━━━━━━━━\u001b[0m \u001b[32m664.8/664.8 MB\u001b[0m \u001b[31m1.9 MB/s\u001b[0m eta \u001b[36m0:00:00\u001b[0m\n",
            "\u001b[2K   \u001b[90m━━━━━━━━━━━━━━━━━━━━━━━━━━━━━━━━━━━━━━━━\u001b[0m \u001b[32m211.5/211.5 MB\u001b[0m \u001b[31m5.6 MB/s\u001b[0m eta \u001b[36m0:00:00\u001b[0m\n",
            "\u001b[2K   \u001b[90m━━━━━━━━━━━━━━━━━━━━━━━━━━━━━━━━━━━━━━━━\u001b[0m \u001b[32m56.3/56.3 MB\u001b[0m \u001b[31m11.8 MB/s\u001b[0m eta \u001b[36m0:00:00\u001b[0m\n",
            "\u001b[2K   \u001b[90m━━━━━━━━━━━━━━━━━━━━━━━━━━━━━━━━━━━━━━━━\u001b[0m \u001b[32m127.9/127.9 MB\u001b[0m \u001b[31m7.5 MB/s\u001b[0m eta \u001b[36m0:00:00\u001b[0m\n",
            "\u001b[2K   \u001b[90m━━━━━━━━━━━━━━━━━━━━━━━━━━━━━━━━━━━━━━━━\u001b[0m \u001b[32m207.5/207.5 MB\u001b[0m \u001b[31m5.9 MB/s\u001b[0m eta \u001b[36m0:00:00\u001b[0m\n",
            "\u001b[2K   \u001b[90m━━━━━━━━━━━━━━━━━━━━━━━━━━━━━━━━━━━━━━━━\u001b[0m \u001b[32m21.1/21.1 MB\u001b[0m \u001b[31m54.2 MB/s\u001b[0m eta \u001b[36m0:00:00\u001b[0m\n",
            "\u001b[2K   \u001b[90m━━━━━━━━━━━━━━━━━━━━━━━━━━━━━━━━━━━━━━━━\u001b[0m \u001b[32m340.6/340.6 kB\u001b[0m \u001b[31m5.4 MB/s\u001b[0m eta \u001b[36m0:00:00\u001b[0m\n",
            "\u001b[2K   \u001b[90m━━━━━━━━━━━━━━━━━━━━━━━━━━━━━━━━━━━━━━━━\u001b[0m \u001b[32m10.2/10.2 MB\u001b[0m \u001b[31m62.0 MB/s\u001b[0m eta \u001b[36m0:00:00\u001b[0m\n",
            "\u001b[2K   \u001b[90m━━━━━━━━━━━━━━━━━━━━━━━━━━━━━━━━━━━━━━━━\u001b[0m \u001b[32m312.3/312.3 kB\u001b[0m \u001b[31m6.4 MB/s\u001b[0m eta \u001b[36m0:00:00\u001b[0m\n",
            "\u001b[2K   \u001b[90m━━━━━━━━━━━━━━━━━━━━━━━━━━━━━━━━━━━━━━━━\u001b[0m \u001b[32m1.2/1.2 MB\u001b[0m \u001b[31m28.3 MB/s\u001b[0m eta \u001b[36m0:00:00\u001b[0m\n",
            "\u001b[2K   \u001b[90m━━━━━━━━━━━━━━━━━━━━━━━━━━━━━━━━━━━━━━━━\u001b[0m \u001b[32m15.6/15.6 MB\u001b[0m \u001b[31m75.1 MB/s\u001b[0m eta \u001b[36m0:00:00\u001b[0m\n",
            "\u001b[2K   \u001b[90m━━━━━━━━━━━━━━━━━━━━━━━━━━━━━━━━━━━━━━━━\u001b[0m \u001b[32m139.8/139.8 kB\u001b[0m \u001b[31m8.8 MB/s\u001b[0m eta \u001b[36m0:00:00\u001b[0m\n",
            "\u001b[2K   \u001b[90m━━━━━━━━━━━━━━━━━━━━━━━━━━━━━━━━━━━━━━━━\u001b[0m \u001b[32m2.3/2.3 MB\u001b[0m \u001b[31m63.3 MB/s\u001b[0m eta \u001b[36m0:00:00\u001b[0m\n",
            "\u001b[2K   \u001b[90m━━━━━━━━━━━━━━━━━━━━━━━━━━━━━━━━━━━━━━━━\u001b[0m \u001b[32m1.6/1.6 MB\u001b[0m \u001b[31m50.1 MB/s\u001b[0m eta \u001b[36m0:00:00\u001b[0m\n",
            "\u001b[2K   \u001b[90m━━━━━━━━━━━━━━━━━━━━━━━━━━━━━━━━━━━━━━━━\u001b[0m \u001b[32m302.3/302.3 kB\u001b[0m \u001b[31m4.9 MB/s\u001b[0m eta \u001b[36m0:00:00\u001b[0m\n",
            "\u001b[?25h"
          ]
        }
      ]
    },
    {
      "cell_type": "markdown",
      "source": [
        "##Uploading the PDF"
      ],
      "metadata": {
        "id": "QBT6Bw24j5W1"
      }
    },
    {
      "cell_type": "code",
      "execution_count": 2,
      "metadata": {
        "colab": {
          "base_uri": "https://localhost:8080/",
          "height": 73
        },
        "id": "8A5-kp1ljAF-",
        "outputId": "1288c4c6-f7d6-481c-a201-1ec28b648fd3"
      },
      "outputs": [
        {
          "output_type": "display_data",
          "data": {
            "text/plain": [
              "<IPython.core.display.HTML object>"
            ],
            "text/html": [
              "\n",
              "     <input type=\"file\" id=\"files-f510bcc6-3170-4ec6-aa9c-082199ff77b5\" name=\"files[]\" multiple disabled\n",
              "        style=\"border:none\" />\n",
              "     <output id=\"result-f510bcc6-3170-4ec6-aa9c-082199ff77b5\">\n",
              "      Upload widget is only available when the cell has been executed in the\n",
              "      current browser session. Please rerun this cell to enable.\n",
              "      </output>\n",
              "      <script>// Copyright 2017 Google LLC\n",
              "//\n",
              "// Licensed under the Apache License, Version 2.0 (the \"License\");\n",
              "// you may not use this file except in compliance with the License.\n",
              "// You may obtain a copy of the License at\n",
              "//\n",
              "//      http://www.apache.org/licenses/LICENSE-2.0\n",
              "//\n",
              "// Unless required by applicable law or agreed to in writing, software\n",
              "// distributed under the License is distributed on an \"AS IS\" BASIS,\n",
              "// WITHOUT WARRANTIES OR CONDITIONS OF ANY KIND, either express or implied.\n",
              "// See the License for the specific language governing permissions and\n",
              "// limitations under the License.\n",
              "\n",
              "/**\n",
              " * @fileoverview Helpers for google.colab Python module.\n",
              " */\n",
              "(function(scope) {\n",
              "function span(text, styleAttributes = {}) {\n",
              "  const element = document.createElement('span');\n",
              "  element.textContent = text;\n",
              "  for (const key of Object.keys(styleAttributes)) {\n",
              "    element.style[key] = styleAttributes[key];\n",
              "  }\n",
              "  return element;\n",
              "}\n",
              "\n",
              "// Max number of bytes which will be uploaded at a time.\n",
              "const MAX_PAYLOAD_SIZE = 100 * 1024;\n",
              "\n",
              "function _uploadFiles(inputId, outputId) {\n",
              "  const steps = uploadFilesStep(inputId, outputId);\n",
              "  const outputElement = document.getElementById(outputId);\n",
              "  // Cache steps on the outputElement to make it available for the next call\n",
              "  // to uploadFilesContinue from Python.\n",
              "  outputElement.steps = steps;\n",
              "\n",
              "  return _uploadFilesContinue(outputId);\n",
              "}\n",
              "\n",
              "// This is roughly an async generator (not supported in the browser yet),\n",
              "// where there are multiple asynchronous steps and the Python side is going\n",
              "// to poll for completion of each step.\n",
              "// This uses a Promise to block the python side on completion of each step,\n",
              "// then passes the result of the previous step as the input to the next step.\n",
              "function _uploadFilesContinue(outputId) {\n",
              "  const outputElement = document.getElementById(outputId);\n",
              "  const steps = outputElement.steps;\n",
              "\n",
              "  const next = steps.next(outputElement.lastPromiseValue);\n",
              "  return Promise.resolve(next.value.promise).then((value) => {\n",
              "    // Cache the last promise value to make it available to the next\n",
              "    // step of the generator.\n",
              "    outputElement.lastPromiseValue = value;\n",
              "    return next.value.response;\n",
              "  });\n",
              "}\n",
              "\n",
              "/**\n",
              " * Generator function which is called between each async step of the upload\n",
              " * process.\n",
              " * @param {string} inputId Element ID of the input file picker element.\n",
              " * @param {string} outputId Element ID of the output display.\n",
              " * @return {!Iterable<!Object>} Iterable of next steps.\n",
              " */\n",
              "function* uploadFilesStep(inputId, outputId) {\n",
              "  const inputElement = document.getElementById(inputId);\n",
              "  inputElement.disabled = false;\n",
              "\n",
              "  const outputElement = document.getElementById(outputId);\n",
              "  outputElement.innerHTML = '';\n",
              "\n",
              "  const pickedPromise = new Promise((resolve) => {\n",
              "    inputElement.addEventListener('change', (e) => {\n",
              "      resolve(e.target.files);\n",
              "    });\n",
              "  });\n",
              "\n",
              "  const cancel = document.createElement('button');\n",
              "  inputElement.parentElement.appendChild(cancel);\n",
              "  cancel.textContent = 'Cancel upload';\n",
              "  const cancelPromise = new Promise((resolve) => {\n",
              "    cancel.onclick = () => {\n",
              "      resolve(null);\n",
              "    };\n",
              "  });\n",
              "\n",
              "  // Wait for the user to pick the files.\n",
              "  const files = yield {\n",
              "    promise: Promise.race([pickedPromise, cancelPromise]),\n",
              "    response: {\n",
              "      action: 'starting',\n",
              "    }\n",
              "  };\n",
              "\n",
              "  cancel.remove();\n",
              "\n",
              "  // Disable the input element since further picks are not allowed.\n",
              "  inputElement.disabled = true;\n",
              "\n",
              "  if (!files) {\n",
              "    return {\n",
              "      response: {\n",
              "        action: 'complete',\n",
              "      }\n",
              "    };\n",
              "  }\n",
              "\n",
              "  for (const file of files) {\n",
              "    const li = document.createElement('li');\n",
              "    li.append(span(file.name, {fontWeight: 'bold'}));\n",
              "    li.append(span(\n",
              "        `(${file.type || 'n/a'}) - ${file.size} bytes, ` +\n",
              "        `last modified: ${\n",
              "            file.lastModifiedDate ? file.lastModifiedDate.toLocaleDateString() :\n",
              "                                    'n/a'} - `));\n",
              "    const percent = span('0% done');\n",
              "    li.appendChild(percent);\n",
              "\n",
              "    outputElement.appendChild(li);\n",
              "\n",
              "    const fileDataPromise = new Promise((resolve) => {\n",
              "      const reader = new FileReader();\n",
              "      reader.onload = (e) => {\n",
              "        resolve(e.target.result);\n",
              "      };\n",
              "      reader.readAsArrayBuffer(file);\n",
              "    });\n",
              "    // Wait for the data to be ready.\n",
              "    let fileData = yield {\n",
              "      promise: fileDataPromise,\n",
              "      response: {\n",
              "        action: 'continue',\n",
              "      }\n",
              "    };\n",
              "\n",
              "    // Use a chunked sending to avoid message size limits. See b/62115660.\n",
              "    let position = 0;\n",
              "    do {\n",
              "      const length = Math.min(fileData.byteLength - position, MAX_PAYLOAD_SIZE);\n",
              "      const chunk = new Uint8Array(fileData, position, length);\n",
              "      position += length;\n",
              "\n",
              "      const base64 = btoa(String.fromCharCode.apply(null, chunk));\n",
              "      yield {\n",
              "        response: {\n",
              "          action: 'append',\n",
              "          file: file.name,\n",
              "          data: base64,\n",
              "        },\n",
              "      };\n",
              "\n",
              "      let percentDone = fileData.byteLength === 0 ?\n",
              "          100 :\n",
              "          Math.round((position / fileData.byteLength) * 100);\n",
              "      percent.textContent = `${percentDone}% done`;\n",
              "\n",
              "    } while (position < fileData.byteLength);\n",
              "  }\n",
              "\n",
              "  // All done.\n",
              "  yield {\n",
              "    response: {\n",
              "      action: 'complete',\n",
              "    }\n",
              "  };\n",
              "}\n",
              "\n",
              "scope.google = scope.google || {};\n",
              "scope.google.colab = scope.google.colab || {};\n",
              "scope.google.colab._files = {\n",
              "  _uploadFiles,\n",
              "  _uploadFilesContinue,\n",
              "};\n",
              "})(self);\n",
              "</script> "
            ]
          },
          "metadata": {}
        },
        {
          "output_type": "stream",
          "name": "stdout",
          "text": [
            "Saving Answers Philosophy.pdf to Answers Philosophy.pdf\n"
          ]
        }
      ],
      "source": [
        "# Imports\n",
        "from langchain.document_loaders import PyPDFLoader\n",
        "from langchain.text_splitter import RecursiveCharacterTextSplitter\n",
        "from google.colab import files\n",
        "import os\n",
        "\n",
        "# Upload the PDF file using Google Colab's file upload utility\n",
        "uploaded = files.upload()\n",
        "\n",
        "# Get the file path\n",
        "pdf_path = list(uploaded.keys())[0]\n",
        "\n",
        "# Load the PDF using Langchain's PyPDFLoader\n",
        "loader = PyPDFLoader(pdf_path)\n",
        "documents = loader.load()\n"
      ]
    },
    {
      "cell_type": "code",
      "source": [
        "#type(documents)"
      ],
      "metadata": {
        "id": "SfvrYM1454B4"
      },
      "execution_count": 3,
      "outputs": []
    },
    {
      "cell_type": "code",
      "source": [
        "#documents[0]"
      ],
      "metadata": {
        "id": "3mF5C7sR6PRe"
      },
      "execution_count": 4,
      "outputs": []
    },
    {
      "cell_type": "code",
      "source": [
        "#len(documents)"
      ],
      "metadata": {
        "id": "3nQx85ybAcjn"
      },
      "execution_count": 5,
      "outputs": []
    },
    {
      "cell_type": "markdown",
      "source": [
        "##Setting up the Environment for Developing"
      ],
      "metadata": {
        "id": "SB7uogzLlaV7"
      }
    },
    {
      "cell_type": "markdown",
      "source": [
        "### Environment in a Development Project\n",
        "In a development project, an **environment** refers to a configured system setup where software is developed, tested, and deployed, often using **environment variables** to manage sensitive information like API keys securely. In **Google Colab**, environment variables can be stored in **secrets** (e.g., `os.environ[\"API_KEY\"] = \"your_key\"`) to prevent hardcoding sensitive data. This ensures security, flexibility, and easier configuration management across different environments. 🚀"
      ],
      "metadata": {
        "id": "wa2VpZsojBKj"
      }
    },
    {
      "cell_type": "code",
      "source": [
        "import os\n",
        "from google.colab import userdata\n",
        "\n",
        "os.environ[\"GROQ_API_KEY\"] = userdata.get('GROQ_API_KEY')\n",
        "os.environ[\"HF_TOKEN\"] = userdata.get('HF_TOKEN')\n",
        "os.environ[\"NEO4J_URI\"] = userdata.get('NEO4J_URI')\n",
        "os.environ[\"NEO4J_USERNAME\"] = userdata.get('NEO4J_USERNAME')\n",
        "os.environ[\"NEO4J_PASSWORD\"] = userdata.get('NEO4J_PASSWORD')"
      ],
      "metadata": {
        "id": "MvIX2qW_j9qu"
      },
      "execution_count": 6,
      "outputs": []
    },
    {
      "cell_type": "code",
      "source": [
        "from langchain_core.prompts import ChatPromptTemplate\n",
        "from langchain_core.prompts.prompt import PromptTemplate\n",
        "\n",
        "from typing import Tuple, List, Optional\n",
        "\n",
        "from langchain_core.messages import AIMessage, HumanMessage\n",
        "from langchain_core.output_parsers import StrOutputParser\n",
        "\n",
        "from langchain_core.runnables import ConfigurableField\n",
        "\n",
        "from yfiles_jupyter_graphs import GraphWidget\n",
        "from neo4j import GraphDatabase\n",
        "\n",
        "from langchain_community.vectorstores import Neo4jVector\n",
        "from langchain_community.graphs import Neo4jGraph\n",
        "\n",
        "from langchain_huggingface import HuggingFaceEmbeddings"
      ],
      "metadata": {
        "id": "dTc1oouVwoYu"
      },
      "execution_count": 7,
      "outputs": []
    },
    {
      "cell_type": "code",
      "source": [
        "try:\n",
        "  import google.colab\n",
        "  from google.colab import output\n",
        "  output.enable_custom_widget_manager()\n",
        "except:\n",
        "  pass"
      ],
      "metadata": {
        "id": "zZK-vw_Sy4cu"
      },
      "execution_count": 8,
      "outputs": []
    },
    {
      "cell_type": "code",
      "source": [
        "from langchain_core.runnables import (\n",
        "    RunnableBranch,\n",
        "    RunnableLambda,\n",
        "    RunnableParallel,\n",
        "    RunnablePassthrough,\n",
        ")"
      ],
      "metadata": {
        "id": "M5FS6bBWj9om"
      },
      "execution_count": 9,
      "outputs": []
    },
    {
      "cell_type": "markdown",
      "source": [
        "##Extracting Text from Wikipedia Pages\n",
        "--Using WikipediaLoader from Langchain"
      ],
      "metadata": {
        "id": "eyN_RBsiqYSz"
      }
    },
    {
      "cell_type": "code",
      "source": [
        "# from langchain.document_loaders import WikipediaLoader\n",
        "# raw_documents = WikipediaLoader(query=\"The Merchant of Venice\").load()"
      ],
      "metadata": {
        "id": "PdPlfdqFzg7g",
        "colab": {
          "base_uri": "https://localhost:8080/"
        },
        "outputId": "4983dfe9-926a-4dfb-a836-74046b595285"
      },
      "execution_count": null,
      "outputs": [
        {
          "output_type": "stream",
          "name": "stderr",
          "text": [
            "/usr/local/lib/python3.11/dist-packages/wikipedia/wikipedia.py:389: GuessedAtParserWarning: No parser was explicitly specified, so I'm using the best available HTML parser for this system (\"lxml\"). This usually isn't a problem, but if you run this code on another system, or in a different virtual environment, it may use a different parser and behave differently.\n",
            "\n",
            "The code that caused this warning is on line 389 of the file /usr/local/lib/python3.11/dist-packages/wikipedia/wikipedia.py. To get rid of this warning, pass the additional argument 'features=\"lxml\"' to the BeautifulSoup constructor.\n",
            "\n",
            "  lis = BeautifulSoup(html).find_all('li')\n"
          ]
        }
      ]
    },
    {
      "cell_type": "code",
      "source": [
        "# len(raw_documents)"
      ],
      "metadata": {
        "colab": {
          "base_uri": "https://localhost:8080/"
        },
        "id": "5M9pNMDrzoFi",
        "outputId": "6c665e98-c1a4-4e35-adbb-5ac0ac0bd2ec"
      },
      "execution_count": null,
      "outputs": [
        {
          "output_type": "execute_result",
          "data": {
            "text/plain": [
              "24"
            ]
          },
          "metadata": {},
          "execution_count": 9
        }
      ]
    },
    {
      "cell_type": "code",
      "source": [
        "# raw_documents[0]"
      ],
      "metadata": {
        "colab": {
          "base_uri": "https://localhost:8080/"
        },
        "collapsed": true,
        "id": "_beA0mmX7Wcc",
        "outputId": "8425973f-5518-40b1-f82f-4d86fbda7178"
      },
      "execution_count": null,
      "outputs": [
        {
          "output_type": "execute_result",
          "data": {
            "text/plain": [
              "Document(metadata={'title': 'The Merchant of Venice', 'summary': 'The Merchant of Venice is a play by William Shakespeare, believed to have been written between 1596 and 1598. A merchant in Venice named Antonio defaults on a large loan taken out on behalf of his dear friend, Bassanio, and provided by a Jewish moneylender, Shylock, with seemingly inevitable fatal consequences.\\nAlthough classified as a comedy in the First Folio and sharing certain aspects with Shakespeare\\'s other romantic comedies, the play is most remembered for its dramatic scenes, and it is best known for the character Shylock and his famous demand for a \"pound of flesh\".\\nThe play contains two famous speeches, that of Shylock, \"Hath not a Jew eyes?\" on the subject of humanity, and that of Portia on \"the quality of mercy\".  Debate exists on whether the play is anti-Semitic, with Shylock\\'s insistence on his legal right to the pound of flesh being in opposition to his seemingly universal plea for the rights of all people suffering discrimination.', 'source': 'https://en.wikipedia.org/wiki/The_Merchant_of_Venice'}, page_content='The Merchant of Venice is a play by William Shakespeare, believed to have been written between 1596 and 1598. A merchant in Venice named Antonio defaults on a large loan taken out on behalf of his dear friend, Bassanio, and provided by a Jewish moneylender, Shylock, with seemingly inevitable fatal consequences.\\nAlthough classified as a comedy in the First Folio and sharing certain aspects with Shakespeare\\'s other romantic comedies, the play is most remembered for its dramatic scenes, and it is best known for the character Shylock and his famous demand for a \"pound of flesh\".\\nThe play contains two famous speeches, that of Shylock, \"Hath not a Jew eyes?\" on the subject of humanity, and that of Portia on \"the quality of mercy\".  Debate exists on whether the play is anti-Semitic, with Shylock\\'s insistence on his legal right to the pound of flesh being in opposition to his seemingly universal plea for the rights of all people suffering discrimination.\\n\\n\\n== Characters ==\\n\\n\\n== Plot summary ==\\n\\nBassanio, a young Venetian of noble rank, wishes to woo the beautiful and wealthy heiress of Belmont, Portia. Having squandered his estate, he needs 3,000 ducats to subsidise his expenditures as a suitor. Bassanio approaches his friend Antonio, a wealthy merchant of Venice, who has previously and repeatedly bailed him out. Antonio agrees, but has no liquid cash as  his ships and merchandise are busy at sea to Tripolis, the Indies, Mexico and England – he promises to cover a bond if Bassanio can find a lender, so Bassanio turns to the Jewish moneylender Shylock and names Antonio as the loan\\'s guarantor.\\nAntonio has already antagonized Shylock through his outspoken antisemitism and because Antonio\\'s habit of lending money without interest forces Shylock to charge lower rates. Shylock is at first reluctant to grant the loan, citing abuse he has suffered at Antonio\\'s hand. He finally agrees to lend the sum to Bassanio without interest upon one condition: if Antonio were unable to repay it at the specified date, Shylock may take a pound of Antonio\\'s flesh. Bassanio does not want Antonio to accept such a risky condition; Antonio is surprised by what he sees as the moneylender\\'s generosity (no \"usance\" – interest – is asked for), and he signs the contract. With money in hand, Bassanio leaves for Belmont with his friend Gratiano, who has asked to accompany him. Gratiano is a likeable young man, but he is often flippant, overly talkative, and tactless. Bassanio warns his companion to exercise self-control, and the two leave for Belmont.\\nMeanwhile, in Belmont, Portia is awash with suitors. Her father left a will stipulating that each of her suitors must choose correctly from one of three caskets, made of gold, silver and lead respectively. Whoever picks the right casket wins Portia\\'s hand. The first suitor, the Prince of Morocco, chooses the gold casket, interpreting its slogan, \"Who chooseth me shall gain what many men desire\", as referring to Portia. The second suitor, the conceited Prince of Aragon, chooses the silver casket, which proclaims, \"Who chooseth me shall get as much as he deserves\", as he believes he is full of merit. Both suitors leave empty-handed, having rejected the lead casket because of the baseness of its material and the uninviting nature of its slogan, \"Who chooseth me must give and hazard all he hath\". The last suitor is Bassanio, whom Portia wishes to succeed, having met him before. As Bassanio ponders his choice, members of Portia\\'s household sing a song that says that \"fancy\" (not true love) is \"It is engendered in the eye, / With gazing fed\"; Bassanio chooses the lead casket and wins Portia\\'s hand.\\n\\nAt Venice, Antonio\\'s ships are reported lost at sea, so the merchant cannot repay the bond. Shylock has become more determined to exact revenge from Christians because his daughter Jessica eloped with the Christian Lorenzo and converted. She took a substantial amount of Shylock\\'s wealth with her, as well as a turquoise ring which S')"
            ]
          },
          "metadata": {},
          "execution_count": 10
        }
      ]
    },
    {
      "cell_type": "markdown",
      "source": [
        "##Constants"
      ],
      "metadata": {
        "id": "LhdrdifqmFI9"
      }
    },
    {
      "cell_type": "code",
      "source": [
        "chunk_size = 512\n",
        "chunk_overlap = 24\n",
        "\n",
        "model_name = \"deepseek-r1-distill-llama-70b\"\n",
        "embedding_model = \"sentence-transformers/all-mpnet-base-v2\"\n",
        "temperature = 0.2\n",
        "tokens_per_minute = 900"
      ],
      "metadata": {
        "id": "fK1MDDVR1TKg"
      },
      "execution_count": 10,
      "outputs": []
    },
    {
      "cell_type": "markdown",
      "source": [
        "##Text Splitting using Recursive Charecter Text Splitter"
      ],
      "metadata": {
        "id": "5EZCmxNQq-6D"
      }
    },
    {
      "cell_type": "code",
      "source": [
        "# # For Wikipedia\n",
        "# from langchain.text_splitter import RecursiveCharacterTextSplitter\n",
        "# text_splitter = RecursiveCharacterTextSplitter(chunk_size=chunk_size, chunk_overlap=chunk_overlap)\n",
        "# documents = text_splitter.split_documents(raw_documents[:4])"
      ],
      "metadata": {
        "id": "kGS_yTfrz0Km"
      },
      "execution_count": null,
      "outputs": []
    },
    {
      "cell_type": "code",
      "source": [
        "# For PDF (Custom Upload)\n",
        "from langchain.text_splitter import RecursiveCharacterTextSplitter\n",
        "text_splitter = RecursiveCharacterTextSplitter(chunk_size=chunk_size, chunk_overlap=chunk_overlap)\n",
        "document_chunks = text_splitter.split_documents(documents)"
      ],
      "metadata": {
        "id": "FFo8rElTIjYT"
      },
      "execution_count": 11,
      "outputs": []
    },
    {
      "cell_type": "code",
      "source": [
        "#chunks"
      ],
      "metadata": {
        "id": "NH25P9SmnRoK"
      },
      "execution_count": null,
      "outputs": []
    },
    {
      "cell_type": "markdown",
      "source": [
        "##Initializing a Large Language Model (LLM) and Graph Transformer instance"
      ],
      "metadata": {
        "id": "ELkC9PrSmK7d"
      }
    },
    {
      "cell_type": "code",
      "source": [
        "from langchain_groq import ChatGroq\n",
        "\n",
        "llm = ChatGroq(\n",
        "            model_name=model_name,\n",
        "            temperature=temperature,\n",
        "            max_tokens=None,\n",
        "            groq_api_key=os.environ[\"GROQ_API_KEY\"],\n",
        "            timeout=60\n",
        "        )"
      ],
      "metadata": {
        "id": "09E1Hro31Et9"
      },
      "execution_count": 12,
      "outputs": []
    },
    {
      "cell_type": "code",
      "source": [
        "# Import the LLMGraphTransformer for converting text into a structured graph\n",
        "from langchain_experimental.graph_transformers import LLMGraphTransformer\n",
        "\n",
        "# Initialize the Graph Transformer with a Large Language Model (LLM)\n",
        "llm_transformer = LLMGraphTransformer(llm=llm)\n",
        "\n",
        "# Convert a list of textual documents into a structured graph representation\n",
        "graph_documents = llm_transformer.convert_to_graph_documents(document_chunks)\n",
        "\n",
        "# The output 'graph_documents' contains entities (nodes) and their relationships (edges),\n",
        "# which can be used for knowledge graph construction, search, and reasoning.\n"
      ],
      "metadata": {
        "id": "1rbZJRwh2u9m"
      },
      "execution_count": 13,
      "outputs": []
    },
    {
      "cell_type": "code",
      "source": [
        "graph_documents"
      ],
      "metadata": {
        "colab": {
          "base_uri": "https://localhost:8080/"
        },
        "id": "r9QRPGMF3NHE",
        "outputId": "f03935ed-e317-4285-d85b-1f1c1359e373"
      },
      "execution_count": 15,
      "outputs": [
        {
          "output_type": "execute_result",
          "data": {
            "text/plain": [
              "[GraphDocument(nodes=[Node(id='Darśana', type='Concept', properties={}), Node(id='Philosophy Of Language', type='Concept', properties={}), Node(id='Wittgenstein', type='Person', properties={}), Node(id='Frege', type='Person', properties={}), Node(id='Epistemology', type='Concept', properties={}), Node(id='Theory Of Knowledge', type='Concept', properties={})], relationships=[Relationship(source=Node(id='Darśana', type='Concept', properties={}), target=Node(id='Philosophy Of Language', type='Concept', properties={}), type='SIMILAR_TO', properties={}), Relationship(source=Node(id='Wittgenstein', type='Person', properties={}), target=Node(id='Philosophy Of Language', type='Concept', properties={}), type='ASSOCIATED_WITH', properties={}), Relationship(source=Node(id='Frege', type='Person', properties={}), target=Node(id='Philosophy Of Language', type='Concept', properties={}), type='ASSOCIATED_WITH', properties={}), Relationship(source=Node(id='Darśana', type='Concept', properties={}), target=Node(id='Epistemology', type='Concept', properties={}), type='RELATED_TO', properties={}), Relationship(source=Node(id='Epistemology', type='Concept', properties={}), target=Node(id='Theory Of Knowledge', type='Concept', properties={}), type='INVOLVES', properties={})], source=Document(metadata={'producer': 'LibreOffice 6.0', 'creator': 'Writer', 'creationdate': '2025-03-26T00:03:51+05:30', 'source': 'Answers Philosophy.pdf', 'total_pages': 11, 'page': 0, 'page_label': '1'}, page_content='Philosophy, First Internal\\nA. Objective Questions\\n1. What is darśana?\\n• Answer: Darśana refers to the philosophical systems or schools of thought in Indian \\nphilosophy. It is a term used to describe the various ways of seeing or understanding \\nreality.\\n• Modern Parallels:\\n• Similar to philosophy of language, which studies how meaning and reality interact \\n(e.g., Wittgenstein, Frege).\\n• Related to epistemology, where theories of knowledge (such as verbal testimony) \\ninfluence philosophy.')),\n",
              " GraphDocument(nodes=[Node(id='Sapir-Whorf Theory', type='Theory', properties={}), Node(id='Language', type='Concept', properties={}), Node(id='Worldview', type='Concept', properties={}), Node(id='Śabda', type='Concept', properties={}), Node(id='Verbal Testimony', type='Concept', properties={}), Node(id='Buddhist System', type='Philosophy', properties={}), Node(id='Sāmānya', type='Concept', properties={}), Node(id='Vikalpa', type='Concept', properties={}), Node(id='Kalpanā', type='Concept', properties={}), Node(id='Modern Parallels', type='Concept', properties={})], relationships=[Relationship(source=Node(id='Sapir-Whorf Theory', type='Theory', properties={}), target=Node(id='Language', type='Concept', properties={}), type='LINK_BETWEEN', properties={}), Relationship(source=Node(id='Sapir-Whorf Theory', type='Theory', properties={}), target=Node(id='Worldview', type='Concept', properties={}), type='LINK_BETWEEN', properties={}), Relationship(source=Node(id='Śabda', type='Concept', properties={}), target=Node(id='Verbal Testimony', type='Concept', properties={}), type='IS_A_TYPE_OF', properties={}), Relationship(source=Node(id='Śabda', type='Concept', properties={}), target=Node(id='Sāmānya', type='Concept', properties={}), type='REPRESENTS', properties={}), Relationship(source=Node(id='Sāmānya', type='Concept', properties={}), target=Node(id='Vikalpa', type='Concept', properties={}), type='IS_A', properties={}), Relationship(source=Node(id='Sāmānya', type='Concept', properties={}), target=Node(id='Kalpanā', type='Concept', properties={}), type='IS_A', properties={}), Relationship(source=Node(id='Śabda', type='Concept', properties={}), target=Node(id='Modern Parallels', type='Concept', properties={}), type='HAS', properties={})], source=Document(metadata={'producer': 'LibreOffice 6.0', 'creator': 'Writer', 'creationdate': '2025-03-26T00:03:51+05:30', 'source': 'Answers Philosophy.pdf', 'total_pages': 11, 'page': 0, 'page_label': '1'}, page_content='influence philosophy.\\n• Sapir-Whord theory: on link of language and worldview. \\n2. What is śabda?\\n• Answer: Śabda refers to \"word\" or \"linguistic utterance.\" It is a means of knowledge \\n(pramāṇa) and is considered a significant source of knowledge in Indian philosophy, \\nespecially in the context of verbal testimony.\\n• A/c to Bouddha system of thought, a śabda stands for a universal property (sāmānya)\\nwhich is a conceptual construct (vikalpa / kalpanā)\\n• Modern Parallels:')),\n",
              " GraphDocument(nodes=[Node(id='Pragmatics', type='Field of study', properties={}), Node(id='Lexical Semantics', type='Field of study', properties={}), Node(id=\"Yāska'S Nirukta\", type='Text', properties={}), Node(id='Yāska', type='Person', properties={}), Node(id='Śikṣā', type='Field of study', properties={}), Node(id='Vyākaraṇa', type='Field of study', properties={}), Node(id='Nirukta', type='Field of study', properties={}), Node(id='Chandas', type='Field of study', properties={}), Node(id='Jyotiṣa', type='Field of study', properties={}), Node(id='Kalpa', type='Field of study', properties={})], relationships=[Relationship(source=Node(id='Yāska', type='Person', properties={}), target=Node(id=\"Yāska'S Nirukta\", type='Text', properties={}), type='AUTHORED', properties={}), Relationship(source=Node(id='Śikṣā', type='Field of study', properties={}), target=Node(id='Vedāṅgas', type='Field of study', properties={}), type='PART_OF', properties={}), Relationship(source=Node(id='Vyākaraṇa', type='Field of study', properties={}), target=Node(id='Vedāṅgas', type='Field of study', properties={}), type='PART_OF', properties={}), Relationship(source=Node(id='Nirukta', type='Field of study', properties={}), target=Node(id='Vedāṅgas', type='Field of study', properties={}), type='PART_OF', properties={}), Relationship(source=Node(id='Chandas', type='Field of study', properties={}), target=Node(id='Vedāṅgas', type='Field of study', properties={}), type='PART_OF', properties={}), Relationship(source=Node(id='Jyotiṣa', type='Field of study', properties={}), target=Node(id='Vedāṅgas', type='Field of study', properties={}), type='PART_OF', properties={}), Relationship(source=Node(id='Kalpa', type='Field of study', properties={}), target=Node(id='Vedāṅgas', type='Field of study', properties={}), type='PART_OF', properties={})], source=Document(metadata={'producer': 'LibreOffice 6.0', 'creator': 'Writer', 'creationdate': '2025-03-26T00:03:51+05:30', 'source': 'Answers Philosophy.pdf', 'total_pages': 11, 'page': 0, 'page_label': '1'}, page_content=\"• Modern Parallels:\\n•  Pragmatics, which studies how context influences meaning.\\n• Lexical semantics, which studies how words carry meaning. \\n3. Name the oldest etymological work found in India.\\n• Answer: The oldest etymological work found in India is Yāska's Nirukta.\\n4. Name the Vedāṅga-s.\\n• Answer: The six Vedāṅgas are:\\n1. Śikṣā (phonetics)\\n2. Vyākaraṇa (grammar)\\n3. Nirukta (etymology)\\n4. Chandas (metrics)\")),\n",
              " GraphDocument(nodes=[Node(id='Jyotiṣa', type='Concept', properties={}), Node(id='Kalpa', type='Concept', properties={}), Node(id='Śikṣā', type='Concept', properties={}), Node(id='Chandas', type='Concept', properties={}), Node(id='Aśabda', type='Concept', properties={}), Node(id='Astronomy', type='Field', properties={}), Node(id='Rituals', type='Field', properties={}), Node(id='Phonetics And Phonology', type='Field', properties={}), Node(id='Prosody And Poetic Meter Analysis', type='Field', properties={})], relationships=[Relationship(source=Node(id='Jyotiṣa', type='Concept', properties={}), target=Node(id='Astronomy', type='Field', properties={}), type='RELATED_TO', properties={}), Relationship(source=Node(id='Kalpa', type='Concept', properties={}), target=Node(id='Rituals', type='Field', properties={}), type='RELATED_TO', properties={}), Relationship(source=Node(id='Śikṣā', type='Concept', properties={}), target=Node(id='Phonetics And Phonology', type='Field', properties={}), type='RELATED_TO', properties={}), Relationship(source=Node(id='Chandas', type='Concept', properties={}), target=Node(id='Prosody And Poetic Meter Analysis', type='Field', properties={}), type='RELATED_TO', properties={}), Relationship(source=Node(id='Aśabda', type='Concept', properties={}), target=Node(id='Non-Linguistic Entities', type='Concept', properties={}), type='REFERS_TO', properties={})], source=Document(metadata={'producer': 'LibreOffice 6.0', 'creator': 'Writer', 'creationdate': '2025-03-26T00:03:51+05:30', 'source': 'Answers Philosophy.pdf', 'total_pages': 11, 'page': 1, 'page_label': '2'}, page_content='5. Jyotiṣa (astronomy)\\n6. Kalpa (rituals)\\n• Modern Parallels:\\n•  Śikṣā is similar to phonetics and phonology, which study speech sounds.\\n• Chandas (Metrics) resembles prosody and poetic meter analysis.\\n5. What is aśabda?\\n• Answer: Aśabda refers to \"non-linguistic\" or \"non-verbal\" entities.\\n• Sabda is use, Asabda is mention. \\n• Asabda is when we mention a term to talk about it, but not to communicate using it. \\n• Sabda is linguistic entity while Asabda is metalinguistic entity.')),\n",
              " GraphDocument(nodes=[Node(id='Sabda', type='Concept', properties={}), Node(id='Asabda', type='Concept', properties={}), Node(id='Padārtha', type='Concept', properties={}), Node(id='Semantics', type='Field of study', properties={}), Node(id='Ontology In Linguistics', type='Field of study', properties={})], relationships=[Relationship(source=Node(id='Sabda', type='Concept', properties={}), target=Node(id='Asabda', type='Concept', properties={}), type='RELATES_TO', properties={}), Relationship(source=Node(id='Padārtha', type='Concept', properties={}), target=Node(id='Semantics', type='Field of study', properties={}), type='SIMILAR_TO', properties={}), Relationship(source=Node(id='Padārtha', type='Concept', properties={}), target=Node(id='Ontology In Linguistics', type='Field of study', properties={}), type='RELATED_TO', properties={})], source=Document(metadata={'producer': 'LibreOffice 6.0', 'creator': 'Writer', 'creationdate': '2025-03-26T00:03:51+05:30', 'source': 'Answers Philosophy.pdf', 'total_pages': 11, 'page': 1, 'page_label': '2'}, page_content='• Sabda is used to communicate, Asabda is used to understand what is being \\ncommunicated. \\n6. What is padārtha?\\n• Answer: Padārtha literally means \"what the word refers to\" or \"referents.\" It is used \\nto classify ontological categories, i.e., the objects or entities that words refer to.\\n• Modern Parallels:\\n•  Similar to semantics, which studies how words connect to meaning.\\n• Related to ontology in linguistics, which examines how words represent real-world \\ncategories.\\n7. What is vṛtti?')),\n",
              " GraphDocument(nodes=[Node(id='Vṛtti', type='Concept', properties={}), Node(id='Primary Signification Function', type='Concept', properties={}), Node(id='Secondary Signification Function', type='Concept', properties={}), Node(id='Suggestive Signification Function', type='Concept', properties={}), Node(id='Primary Meaning', type='Concept', properties={}), Node(id='Secondary Meaning', type='Concept', properties={}), Node(id='Suggestive Meaning', type='Concept', properties={})], relationships=[Relationship(source=Node(id='Vṛtti', type='Concept', properties={}), target=Node(id='Primary Signification Function', type='Concept', properties={}), type='DIVIDED_INTO', properties={}), Relationship(source=Node(id='Vṛtti', type='Concept', properties={}), target=Node(id='Secondary Signification Function', type='Concept', properties={}), type='DIVIDED_INTO', properties={}), Relationship(source=Node(id='Vṛtti', type='Concept', properties={}), target=Node(id='Suggestive Signification Function', type='Concept', properties={}), type='DIVIDED_INTO', properties={}), Relationship(source=Node(id='Primary Signification Function', type='Concept', properties={}), target=Node(id='Primary Meaning', type='Concept', properties={}), type='ASSOCIATED_WITH', properties={}), Relationship(source=Node(id='Secondary Signification Function', type='Concept', properties={}), target=Node(id='Secondary Meaning', type='Concept', properties={}), type='ASSOCIATED_WITH', properties={}), Relationship(source=Node(id='Suggestive Signification Function', type='Concept', properties={}), target=Node(id='Suggestive Meaning', type='Concept', properties={}), type='ASSOCIATED_WITH', properties={})], source=Document(metadata={'producer': 'LibreOffice 6.0', 'creator': 'Writer', 'creationdate': '2025-03-26T00:03:51+05:30', 'source': 'Answers Philosophy.pdf', 'total_pages': 11, 'page': 1, 'page_label': '2'}, page_content='7. What is vṛtti?\\n• Answer: Vṛtti refers to the \"signification function\" of a word, i.e., how a word \\nconveys meaning. It can be primary (abhidhā), secondary (lakṣaṇā), or suggestive \\n(vyañjanā).\\na) If a verbal cognition is generated on the basis of a primary signification function \\n(abhidhā-vṛtti), then the object or content of that verbal cognition is called primary \\nmeaning (abhidheya).\\nb) If a verbal cognition is generated on the basis of a secondary signification function')),\n",
              " GraphDocument(nodes=[Node(id='Secondary Meaning (Lakṣyārtha)', type='Concept', properties={}), Node(id='Verbal Cognition (Lakṣaṇā Vṛtti)', type='Concept', properties={})], relationships=[Relationship(source=Node(id='Secondary Meaning (Lakṣyārtha)', type='Concept', properties={}), target=Node(id='Verbal Cognition (Lakṣaṇā Vṛtti)', type='Concept', properties={}), type='OBJECT_OF', properties={})], source=Document(metadata={'producer': 'LibreOffice 6.0', 'creator': 'Writer', 'creationdate': '2025-03-26T00:03:51+05:30', 'source': 'Answers Philosophy.pdf', 'total_pages': 11, 'page': 1, 'page_label': '2'}, page_content='(lakṣaṇā vṛtti), then the object or content of that verbal cognition is called secondary \\nmeaning (lakṣyārtha).')),\n",
              " GraphDocument(nodes=[Node(id='Verbal_Cognition', type='Cognition', properties={}), Node(id='Suggestive_Signification_Function', type='Function', properties={}), Node(id='Suggested_Meaning', type='Meaning', properties={}), Node(id='Prātipadika', type='Nominal_stem', properties={}), Node(id='Stems_In_Morphology', type='Concept', properties={})], relationships=[Relationship(source=Node(id='Verbal_Cognition', type='Cognition', properties={}), target=Node(id='Suggested_Meaning', type='Meaning', properties={}), type='CONTENT', properties={}), Relationship(source=Node(id='Suggestive_Signification_Function', type='Function', properties={}), target=Node(id='Verbal_Cognition', type='Cognition', properties={}), type='BASE', properties={}), Relationship(source=Node(id='Prātipadika', type='Nominal_stem', properties={}), target=Node(id='Stems_In_Morphology', type='Concept', properties={}), type='SIMILAR_TO', properties={})], source=Document(metadata={'producer': 'LibreOffice 6.0', 'creator': 'Writer', 'creationdate': '2025-03-26T00:03:51+05:30', 'source': 'Answers Philosophy.pdf', 'total_pages': 11, 'page': 2, 'page_label': '3'}, page_content='c) If a verbal cognition is generated on the basis of a suggestive signification function\\n(vyañjanā-vṛtti), then the object or content of that verbal cognition is called \\nsuggested meaning (vyaṅgyārtha).\\n8. What is prātipadika?\\n• Answer: Prātipadika refers to a nominal stem, which is a meaningful linguistic item \\nthat is neither a verb root nor an affix. It is the base form of a noun before inflection.\\n• Modern Parallels:\\n•  Similar to stems in morphology, where words are analyzed before inflection.')),\n",
              " GraphDocument(nodes=[Node(id='Vibhakti', type='Linguistic term', properties={}), Node(id='Pratyaya', type='Linguistic term', properties={}), Node(id='Vibhakti Definition', type='Definition', properties={}), Node(id='Pratyaya Definition', type='Definition', properties={})], relationships=[Relationship(source=Node(id='Vibhakti', type='Linguistic term', properties={}), target=Node(id='Pratyaya', type='Linguistic term', properties={}), type='DIFFERS_FROM', properties={}), Relationship(source=Node(id='Vibhakti', type='Linguistic term', properties={}), target=Node(id='Vibhakti Definition', type='Definition', properties={}), type='DEFINES', properties={}), Relationship(source=Node(id='Pratyaya', type='Linguistic term', properties={}), target=Node(id='Pratyaya Definition', type='Definition', properties={}), type='DEFINES', properties={})], source=Document(metadata={'producer': 'LibreOffice 6.0', 'creator': 'Writer', 'creationdate': '2025-03-26T00:03:51+05:30', 'source': 'Answers Philosophy.pdf', 'total_pages': 11, 'page': 2, 'page_label': '3'}, page_content='9. How is vibhakti different from the pratyaya?\\n• Answer: Vibhakti refers to case endings (inflections) added to nominal stems, while \\npratyaya refers to suffixes or affixes in general, which can be added to both nominal \\nstems and verb roots.\\n• Modern Parallels:\\n•  Similar to inflectional morphology, where endings modify grammatical roles; and  \\nderivational morphology, which creates new words from roots.\\n10.What is śakti?')),\n",
              " GraphDocument(nodes=[Node(id='Śakti', type='Concept', properties={}), Node(id='Definition', type='Concept', properties={}), Node(id='Semantic_Priming', type='Concept', properties={}), Node(id='Prototype_Theory', type='Concept', properties={}), Node(id='Semiotics', type='Concept', properties={}), Node(id='Description_Semantic_Priming', type='Description', properties={}), Node(id='Description_Prototype_Theory', type='Description', properties={}), Node(id='Description_Semiotics', type='Description', properties={})], relationships=[Relationship(source=Node(id='Śakti', type='Concept', properties={}), target=Node(id='Definition', type='Concept', properties={}), type='DEFINES', properties={}), Relationship(source=Node(id='Śakti', type='Concept', properties={}), target=Node(id='Semantic_Priming', type='Concept', properties={}), type='RELATED_TO', properties={}), Relationship(source=Node(id='Śakti', type='Concept', properties={}), target=Node(id='Prototype_Theory', type='Concept', properties={}), type='RELATED_TO', properties={}), Relationship(source=Node(id='Śakti', type='Concept', properties={}), target=Node(id='Semiotics', type='Concept', properties={}), type='RELATED_TO', properties={}), Relationship(source=Node(id='Semantic_Priming', type='Concept', properties={}), target=Node(id='Description_Semantic_Priming', type='Description', properties={}), type='DESCRIBES', properties={}), Relationship(source=Node(id='Prototype_Theory', type='Concept', properties={}), target=Node(id='Description_Prototype_Theory', type='Description', properties={}), type='DESCRIBES', properties={}), Relationship(source=Node(id='Semiotics', type='Concept', properties={}), target=Node(id='Description_Semiotics', type='Description', properties={}), type='DESCRIBES', properties={})], source=Document(metadata={'producer': 'LibreOffice 6.0', 'creator': 'Writer', 'creationdate': '2025-03-26T00:03:51+05:30', 'source': 'Answers Philosophy.pdf', 'total_pages': 11, 'page': 2, 'page_label': '3'}, page_content='10.What is śakti?\\n• Answer: Śakti refers to the \"power\" or \"capacity\" of a word to signify meaning. It is \\nthe inherent ability of a word to convey its primary or secondary meaning.\\n• Modern Parallels:\\n•  Similar to semantic priming, where words trigger related meanings in the mind.\\n• Related to prototype theory, where words have a central meaning but can extend \\nmetaphorically.\\n•  Semiotics examines how signs (words) create meaning.')),\n",
              " GraphDocument(nodes=[Node(id='Language Of Scriptures', type='Concept', properties={}), Node(id='Philosophy Of Language', type='Concept', properties={}), Node(id='Linguistics', type='Concept', properties={}), Node(id='Vedas', type='Scriptures', properties={}), Node(id='Indian Philosophy', type='Concept', properties={}), Node(id='Verbal Testimony (Śabda)', type='Concept', properties={})], relationships=[Relationship(source=Node(id='Language Of Scriptures', type='Concept', properties={}), target=Node(id='Philosophy Of Language', type='Concept', properties={}), type='IS_USEFUL_FOR', properties={}), Relationship(source=Node(id='Language Of Scriptures', type='Concept', properties={}), target=Node(id='Linguistics', type='Concept', properties={}), type='IS_USEFUL_FOR', properties={}), Relationship(source=Node(id='Vedas', type='Scriptures', properties={}), target=Node(id='Indian Philosophy', type='Concept', properties={}), type='IS_A_PRIMARY_SOURCE_OF_KNOWLEDGE_IN', properties={}), Relationship(source=Node(id='Verbal Testimony (Śabda)', type='Concept', properties={}), target=Node(id='Language Of Scriptures', type='Concept', properties={}), type='IS_IMPORTANT_IN', properties={})], source=Document(metadata={'producer': 'LibreOffice 6.0', 'creator': 'Writer', 'creationdate': '2025-03-26T00:03:51+05:30', 'source': 'Answers Philosophy.pdf', 'total_pages': 11, 'page': 3, 'page_label': '4'}, page_content='B. Descriptive Questions\\n1. How and why the language of scriptures is useful in the study of philosophy of \\nlanguage and linguistics? Discuss the significance of studying Philosophy in \\nLinguistics?\\n• Answer: The language of scriptures, such as the Vedas, is considered authoritative \\nand is a primary source of knowledge in Indian philosophy. The linguistic nature of \\nthe scriptures reveals that language or verbal testimony (śabda) is an important')),\n",
              " GraphDocument(nodes=[Node(id='Means Of Knowledge', type='Concept', properties={}), Node(id='Perception', type='Concept', properties={}), Node(id='Inference', type='Concept', properties={}), Node(id='Language', type='Concept', properties={}), Node(id='Scripture Study', type='Concept', properties={}), Node(id='Philosophy', type='Concept', properties={}), Node(id='Linguistics', type='Concept', properties={}), Node(id='Philosophy Of Language', type='Concept', properties={}), Node(id='Language Functioning', type='Concept', properties={}), Node(id='Meaning Derivation', type='Concept', properties={}), Node(id='Linguistic Structures', type='Concept', properties={}), Node(id='Ontological Realities', type='Concept', properties={}), Node(id='Epistemological Realities', type='Concept', properties={})], relationships=[Relationship(source=Node(id='Means Of Knowledge', type='Concept', properties={}), target=Node(id='Perception', type='Concept', properties={}), type='INCLUDES', properties={}), Relationship(source=Node(id='Means Of Knowledge', type='Concept', properties={}), target=Node(id='Inference', type='Concept', properties={}), type='INCLUDES', properties={}), Relationship(source=Node(id='Language', type='Concept', properties={}), target=Node(id='Scripture Study', type='Concept', properties={}), type='LEADS_TO', properties={}), Relationship(source=Node(id='Scripture Study', type='Concept', properties={}), target=Node(id='Philosophy Of Language', type='Concept', properties={}), type='ESSENTIAL_FOR', properties={}), Relationship(source=Node(id='Philosophy', type='Concept', properties={}), target=Node(id='Linguistics', type='Concept', properties={}), type='STUDIED_IN', properties={}), Relationship(source=Node(id='Philosophy', type='Concept', properties={}), target=Node(id='Language Functioning', type='Concept', properties={}), type='UNDERSTANDING', properties={}), Relationship(source=Node(id='Philosophy', type='Concept', properties={}), target=Node(id='Meaning Derivation', type='Concept', properties={}), type='UNDERSTANDING', properties={}), Relationship(source=Node(id='Linguistic Structures', type='Concept', properties={}), target=Node(id='Ontological Realities', type='Concept', properties={}), type='REFLECT', properties={}), Relationship(source=Node(id='Linguistic Structures', type='Concept', properties={}), target=Node(id='Epistemological Realities', type='Concept', properties={}), type='REFLECT', properties={})], source=Document(metadata={'producer': 'LibreOffice 6.0', 'creator': 'Writer', 'creationdate': '2025-03-26T00:03:51+05:30', 'source': 'Answers Philosophy.pdf', 'total_pages': 11, 'page': 3, 'page_label': '4'}, page_content='means of knowledge (pramāṇa), alongside perception and inference. This has led to \\ninquiries into how language imparts knowledge, making the study of scripture \\nessential for understanding the philosophy of language. The significance of studying \\nphilosophy in linguistics lies in understanding how language functions, how meaning\\nis derived, and how linguistic structures reflect ontological and epistemological \\nrealities.\\n• Modern Parallels:')),\n",
              " GraphDocument(nodes=[Node(id='Hermeneutics', type='Field of study', properties={}), Node(id='Semiotics', type='Field of study', properties={}), Node(id='Linguistic Anthropology', type='Field of study', properties={}), Node(id='Pramāṇaśāstra', type='Philosophical framework', properties={}), Node(id='Linguistic Signs', type='Concept', properties={}), Node(id='Language And Reality', type='Concept', properties={}), Node(id='Role Of Language In Cognition', type='Concept', properties={})], relationships=[Relationship(source=Node(id='Hermeneutics', type='Field of study', properties={}), target=Node(id='Interpretation Of Texts', type='Concept', properties={}), type='INTERPRETS', properties={}), Relationship(source=Node(id='Semiotics', type='Field of study', properties={}), target=Node(id='Linguistic Signs', type='Concept', properties={}), type='EXAMINES', properties={}), Relationship(source=Node(id='Linguistic Anthropology', type='Field of study', properties={}), target=Node(id='Language And Reality', type='Concept', properties={}), type='ANALYZES', properties={}), Relationship(source=Node(id='Pramāṇaśāstra', type='Philosophical framework', properties={}), target=Node(id='Linguistic Signs', type='Concept', properties={}), type='INVESTIGATES', properties={}), Relationship(source=Node(id='Pramāṇaśāstra', type='Philosophical framework', properties={}), target=Node(id='Language And Reality', type='Concept', properties={}), type='INVESTIGATES', properties={}), Relationship(source=Node(id='Pramāṇaśāstra', type='Philosophical framework', properties={}), target=Node(id='Role Of Language In Cognition', type='Concept', properties={}), type='INVESTIGATES', properties={})], source=Document(metadata={'producer': 'LibreOffice 6.0', 'creator': 'Writer', 'creationdate': '2025-03-26T00:03:51+05:30', 'source': 'Answers Philosophy.pdf', 'total_pages': 11, 'page': 3, 'page_label': '4'}, page_content='• Modern Parallels:\\n• Similar to hermeneutics, which studies the interpretation of sacred and \\nphilosophical texts.\\n• Related to semiotics, which examines how signs (words) create meaning.\\n• In linguistic anthropology, religious texts are analyzed to understand how language \\nshapes culture and thought.\\n2. Why is the philosophical investigation in the field of linguistics and languages \\nconsidered as the part of pramāṇaśāstra? What are the topics of investigation in Indian')),\n",
              " GraphDocument(nodes=[Node(id='Philosophical_Investigation_In_Linguistics', type='Philosophical_investigation', properties={}), Node(id='Pramāṇaśāstra', type='Philosophical_text', properties={}), Node(id='Language', type='Language', properties={}), Node(id='Valid_Means_Of_Knowledge', type='Means_of_knowledge', properties={}), Node(id='Topic_1', type='Topic', properties={}), Node(id='Topic_2', type='Topic', properties={}), Node(id='Topic_3', type='Topic', properties={}), Node(id='Topic_4', type='Topic', properties={})], relationships=[Relationship(source=Node(id='Philosophical_Investigation_In_Linguistics', type='Philosophical_investigation', properties={}), target=Node(id='Pramāṇaśāstra', type='Philosophical_text', properties={}), type='PART_OF', properties={}), Relationship(source=Node(id='Language', type='Language', properties={}), target=Node(id='Valid_Means_Of_Knowledge', type='Means_of_knowledge', properties={}), type='RECOGNIZED_AS', properties={}), Relationship(source=Node(id='Philosophical_Investigation_In_Linguistics', type='Philosophical_investigation', properties={}), target=Node(id='Topic_1', type='Topic', properties={}), type='TOPIC', properties={}), Relationship(source=Node(id='Philosophical_Investigation_In_Linguistics', type='Philosophical_investigation', properties={}), target=Node(id='Topic_2', type='Topic', properties={}), type='TOPIC', properties={}), Relationship(source=Node(id='Philosophical_Investigation_In_Linguistics', type='Philosophical_investigation', properties={}), target=Node(id='Topic_3', type='Topic', properties={}), type='TOPIC', properties={}), Relationship(source=Node(id='Philosophical_Investigation_In_Linguistics', type='Philosophical_investigation', properties={}), target=Node(id='Topic_4', type='Topic', properties={}), type='TOPIC', properties={})], source=Document(metadata={'producer': 'LibreOffice 6.0', 'creator': 'Writer', 'creationdate': '2025-03-26T00:03:51+05:30', 'source': 'Answers Philosophy.pdf', 'total_pages': 11, 'page': 3, 'page_label': '4'}, page_content='Philosophy of Linguistics and Languages?\\n• Answer: Philosophical investigation in linguistics is part of pramāṇaśāstra because \\nlanguage (śabda) is recognized as a valid means of knowledge (pramāṇa). \\n• Topics in Indian Philosophy of Linguistics and Languages\\n1. analysis of sentences and words into significant components,\\n2. the relationship between word and meaning,\\n3. classification of words according to semantic contribution,\\n4. division of words with reference to the division of ontological categories,')),\n",
              " GraphDocument(nodes=[Node(id='Logical_Factors', type='Factor', properties={}), Node(id='Psychological_Factors', type='Factor', properties={}), Node(id='Philosophical_Significance', type='Concept', properties={}), Node(id='Principles_Of_Linguistics', type='Concept', properties={}), Node(id='Epistemic_Linguistics', type='Field', properties={})], relationships=[Relationship(source=Node(id='Logical_Factors', type='Factor', properties={}), target=Node(id='Knowing_Meaning_Of_A_Sentence', type='Concept', properties={}), type='INVOLVED_IN', properties={}), Relationship(source=Node(id='Psychological_Factors', type='Factor', properties={}), target=Node(id='Knowing_Meaning_Of_A_Sentence', type='Concept', properties={}), type='INVOLVED_IN', properties={}), Relationship(source=Node(id='Philosophical_Significance', type='Concept', properties={}), target=Node(id='Grammatical_Analysis', type='Concept', properties={}), type='RELATED_TO', properties={}), Relationship(source=Node(id='Principles_Of_Linguistics', type='Concept', properties={}), target=Node(id='Language_Structure', type='Concept', properties={}), type='RELATED_TO', properties={}), Relationship(source=Node(id='Epistemic_Linguistics', type='Field', properties={}), target=Node(id='Knowledge_Formation', type='Concept', properties={}), type='CONTRIBUTES_TO', properties={})], source=Document(metadata={'producer': 'LibreOffice 6.0', 'creator': 'Writer', 'creationdate': '2025-03-26T00:03:51+05:30', 'source': 'Answers Philosophy.pdf', 'total_pages': 11, 'page': 3, 'page_label': '4'}, page_content='5. logical and psychological factors in knowing the meaning of a sentence,\\n6. philosophical significance of grammatical analysis,\\n7. principles of linguistics,\\n• Modern Parallels:\\n• Epistemic linguistics studies how language contributes to knowledge formation.')),\n",
              " GraphDocument(nodes=[Node(id='Discourse Analysis', type='Method', properties={}), Node(id='Trust', type='Factor', properties={}), Node(id='Authority', type='Factor', properties={}), Node(id='Verbal Knowledge', type='Knowledge', properties={}), Node(id='Pragmatics', type='Method', properties={}), Node(id='Context', type='Factor', properties={}), Node(id='Understanding', type='Concept', properties={}), Node(id='Nyāyasūtra', type='Text', properties={}), Node(id='Pratyakṣa', type='Pramāṇa', properties={}), Node(id='Anumāna', type='Pramāṇa', properties={}), Node(id='Upamāna', type='Pramāṇa', properties={}), Node(id='Śabda', type='Pramāṇa', properties={}), Node(id='Speaking Agent', type='Concept', properties={}), Node(id='Indian Tradition', type='Tradition', properties={})], relationships=[Relationship(source=Node(id='Discourse Analysis', type='Method', properties={}), target=Node(id='Trust', type='Factor', properties={}), type='INVESTIGATES', properties={}), Relationship(source=Node(id='Discourse Analysis', type='Method', properties={}), target=Node(id='Authority', type='Factor', properties={}), type='INVESTIGATES', properties={}), Relationship(source=Node(id='Discourse Analysis', type='Method', properties={}), target=Node(id='Verbal Knowledge', type='Knowledge', properties={}), type='AFFECTS', properties={}), Relationship(source=Node(id='Pragmatics', type='Method', properties={}), target=Node(id='Context', type='Factor', properties={}), type='EXAMINES', properties={}), Relationship(source=Node(id='Pragmatics', type='Method', properties={}), target=Node(id='Understanding', type='Concept', properties={}), type='INFLUENCES', properties={}), Relationship(source=Node(id='Nyāyasūtra', type='Text', properties={}), target=Node(id='Pratyakṣa', type='Pramāṇa', properties={}), type='PART_OF', properties={}), Relationship(source=Node(id='Nyāyasūtra', type='Text', properties={}), target=Node(id='Anumāna', type='Pramāṇa', properties={}), type='PART_OF', properties={}), Relationship(source=Node(id='Nyāyasūtra', type='Text', properties={}), target=Node(id='Upamāna', type='Pramāṇa', properties={}), type='PART_OF', properties={}), Relationship(source=Node(id='Nyāyasūtra', type='Text', properties={}), target=Node(id='Śabda', type='Pramāṇa', properties={}), type='PART_OF', properties={}), Relationship(source=Node(id='Speaking Agent', type='Concept', properties={}), target=Node(id='Indian Tradition', type='Tradition', properties={}), type='CRUCIAL_IN', properties={})], source=Document(metadata={'producer': 'LibreOffice 6.0', 'creator': 'Writer', 'creationdate': '2025-03-26T00:03:51+05:30', 'source': 'Answers Philosophy.pdf', 'total_pages': 11, 'page': 4, 'page_label': '5'}, page_content='• Discourse analysis looks at how trust and authority affect verbal knowledge.\\n• Pragmatics examines how context influences understanding.\\n3. Name the different forms of pramāṇa following Nyāyasūtra. How crucial is the concept\\nof speaking agent is in Indian Tradition?\\n• Answer: According to the Nyāyasūtra, the four primary pramāṇas (means of \\nknowledge) are:\\n1. Pratyakṣa (perception)\\n2. Anumāna (inference)\\n3. Upamāna (comparison)\\n4. Śabda (verbal testimony)')),\n",
              " GraphDocument(nodes=[Node(id='Concept Of The Speaking Agent (Āpta)', type='Concept', properties={}), Node(id='Reliability Of Verbal Testimony', type='Concept', properties={}), Node(id='Trustworthy Speaker (Āpta)', type='Concept', properties={}), Node(id='Testimonial Knowledge In Epistemology', type='Concept', properties={}), Node(id='Sociolinguistics', type='Concept', properties={}), Node(id='Speaker Authority', type='Concept', properties={}), Node(id='Statements', type='Concept', properties={})], relationships=[Relationship(source=Node(id='Concept Of The Speaking Agent (Āpta)', type='Concept', properties={}), target=Node(id='Reliability Of Verbal Testimony', type='Concept', properties={}), type='DEPENDS_ON', properties={}), Relationship(source=Node(id='Trustworthy Speaker (Āpta)', type='Concept', properties={}), target=Node(id='Direct Knowledge', type='Concept', properties={}), type='HAS', properties={}), Relationship(source=Node(id='Testimonial Knowledge In Epistemology', type='Concept', properties={}), target=Node(id='Statements', type='Concept', properties={}), type='STUDIES_HOW', properties={}), Relationship(source=Node(id='Sociolinguistics', type='Concept', properties={}), target=Node(id='Speaker Authority', type='Concept', properties={}), type='LOOKS_AT', properties={})], source=Document(metadata={'producer': 'LibreOffice 6.0', 'creator': 'Writer', 'creationdate': '2025-03-26T00:03:51+05:30', 'source': 'Answers Philosophy.pdf', 'total_pages': 11, 'page': 4, 'page_label': '5'}, page_content='The concept of the speaking agent (āpta) is crucial in Indian tradition because \\nthe reliability of verbal testimony depends on the trustworthiness of the \\nspeaker. A trustworthy speaker (āpta) is one who has direct knowledge of the \\nfacts and communicates them accurately.\\n• Modern Parallels:\\n• Testimonial knowledge in epistemology studies how we believe statements from \\nothers.\\n• Sociolinguistics looks at how speaker authority influences communication.')),\n",
              " GraphDocument(nodes=[Node(id='Speech Act Theory', type='Theory', properties={}), Node(id='Austin', type='Person', properties={}), Node(id='Searle', type='Person', properties={}), Node(id='Śikṣā', type='Study', properties={}), Node(id='Prātiśākhya', type='Study', properties={}), Node(id='Chandas', type='Study', properties={}), Node(id='Nirukta', type='Study', properties={}), Node(id='Vyākaraṇa', type='Study', properties={})], relationships=[Relationship(source=Node(id='Speech Act Theory', type='Theory', properties={}), target=Node(id='Austin', type='Person', properties={}), type='THEORIST', properties={}), Relationship(source=Node(id='Speech Act Theory', type='Theory', properties={}), target=Node(id='Searle', type='Person', properties={}), type='THEORIST', properties={}), Relationship(source=Node(id='Śikṣā', type='Study', properties={}), target=Node(id='Phonetics', type='Field', properties={}), type='FOCUS', properties={}), Relationship(source=Node(id='Śikṣā', type='Study', properties={}), target=Node(id='Vedic Pronunciation', type='Subject', properties={}), type='SUBJECT', properties={}), Relationship(source=Node(id='Prātiśākhya', type='Study', properties={}), target=Node(id='Phonetic Analysis', type='Field', properties={}), type='ANALYSIS', properties={}), Relationship(source=Node(id='Prātiśākhya', type='Study', properties={}), target=Node(id='Grammatical Analysis', type='Field', properties={}), type='ANALYSIS', properties={}), Relationship(source=Node(id='Prātiśākhya', type='Study', properties={}), target=Node(id='Vedic Texts', type='Subject', properties={}), type='SUBJECT', properties={}), Relationship(source=Node(id='Chandas', type='Study', properties={}), target=Node(id='Vedic Meters', type='Subject', properties={}), type='STUDY', properties={}), Relationship(source=Node(id='Chandas', type='Study', properties={}), target=Node(id='Prosody', type='Field', properties={}), type='STUDY', properties={}), Relationship(source=Node(id='Nirukta', type='Study', properties={}), target=Node(id='Etymology', type='Field', properties={}), type='STUDY', properties={}), Relationship(source=Node(id='Vyākaraṇa', type='Study', properties={}), target=Node(id='Grammar', type='Field', properties={}), type='STUDY', properties={})], source=Document(metadata={'producer': 'LibreOffice 6.0', 'creator': 'Writer', 'creationdate': '2025-03-26T00:03:51+05:30', 'source': 'Answers Philosophy.pdf', 'total_pages': 11, 'page': 4, 'page_label': '5'}, page_content='• Speech act theory (Austin & Searle) examines how speech carries intent and \\nauthority\\n4. What is Śikṣā? How is it different from Prātiśākhya and Chandas? How is the study of \\nNirukta different from the study of Vyākaraṇa?  **\\n• Answer:\\n1. Śikṣā is the study of phonetics, focusing on the correct pronunciation of \\nVedic texts.\\n2. Prātiśākhya (deals with the phonetic and grammatical analysis of Vedic \\ntexts, providing rules for euphonic combinations.\\n3. Chandas is the study of Vedic meters and prosody.')),\n",
              " GraphDocument(nodes=[Node(id='Nirukta', type='Study', properties={}), Node(id='Vedic Words', type='Words', properties={}), Node(id='Vyākaraṇa', type='Study', properties={}), Node(id='Language', type='Language', properties={})], relationships=[Relationship(source=Node(id='Nirukta', type='Study', properties={}), target=Node(id='Vedic Words', type='Words', properties={}), type='FOCUSES_ON', properties={}), Relationship(source=Node(id='Vyākaraṇa', type='Study', properties={}), target=Node(id='Language', type='Language', properties={}), type='DEALS_WITH', properties={})], source=Document(metadata={'producer': 'LibreOffice 6.0', 'creator': 'Writer', 'creationdate': '2025-03-26T00:03:51+05:30', 'source': 'Answers Philosophy.pdf', 'total_pages': 11, 'page': 4, 'page_label': '5'}, page_content='4. The study of Nirukta (etymology) focuses on the derivation and meaning of \\nVedic words, while Vyākaraṇa (grammar) deals with the systematic analysis \\nof language.')),\n",
              " GraphDocument(nodes=[Node(id='Śikṣā', type='Field of study', properties={}), Node(id='Prātiśākhya', type='Field of study', properties={}), Node(id='Vedanga', type='Field of study', properties={}), Node(id='Manual', type='Publication type', properties={})], relationships=[Relationship(source=Node(id='Śikṣā', type='Field of study', properties={}), target=Node(id='Vedanga', type='Field of study', properties={}), type='PART_OF', properties={}), Relationship(source=Node(id='Prātiśākhya', type='Field of study', properties={}), target=Node(id='Manual', type='Publication type', properties={}), type='IS_A', properties={}), Relationship(source=Node(id='Prātiśākhya', type='Field of study', properties={}), target=Node(id='Vedic Texts', type='Texts', properties={}), type='FOCUS_ON', properties={})], source=Document(metadata={'producer': 'LibreOffice 6.0', 'creator': 'Writer', 'creationdate': '2025-03-26T00:03:51+05:30', 'source': 'Answers Philosophy.pdf', 'total_pages': 11, 'page': 5, 'page_label': '6'}, page_content='5. Śikṣā is the study of phonetics, focusing on pronunciation, while \\nPrātiśākhya (प्राति\\x04शाख्य... every branch) deals with the phonetic and \\ngrammatical analysis of Vedic texts. Siksa is a Vedanga; Pratisakhyas are \\nmanuals for specific texts. Siksa is the broader science which focusses on \\ngeneral accuracy of pronunciation, while Pratisakhyas are more specialized; \\nthey’re manuals associated with specific texts, for the purpose of ensuring')),\n",
              " GraphDocument(nodes=[Node(id='Vyākaraṇa', type='Grammar', properties={}), Node(id='Vyākaraṇa', type='System of thought', properties={}), Node(id='Śāstra', type='System of thought', properties={}), Node(id='Subject', type='Parameter', properties={}), Node(id='Connection', type='Parameter', properties={}), Node(id='Purpose', type='Parameter', properties={}), Node(id='Readership', type='Parameter', properties={})], relationships=[Relationship(source=Node(id='Vyākaraṇa', type='Grammar', properties={}), target=Node(id='Śāstra', type='System of thought', properties={}), type='IS_TYPE_OF', properties={}), Relationship(source=Node(id='Subject', type='Parameter', properties={}), target=Node(id='Śāstra', type='System of thought', properties={}), type='PART_OF', properties={}), Relationship(source=Node(id='Connection', type='Parameter', properties={}), target=Node(id='Śāstra', type='System of thought', properties={}), type='PART_OF', properties={}), Relationship(source=Node(id='Purpose', type='Parameter', properties={}), target=Node(id='Śāstra', type='System of thought', properties={}), type='PART_OF', properties={}), Relationship(source=Node(id='Readership', type='Parameter', properties={}), target=Node(id='Śāstra', type='System of thought', properties={}), type='PART_OF', properties={})], source=Document(metadata={'producer': 'LibreOffice 6.0', 'creator': 'Writer', 'creationdate': '2025-03-26T00:03:51+05:30', 'source': 'Answers Philosophy.pdf', 'total_pages': 11, 'page': 5, 'page_label': '6'}, page_content='that specific intonations and sounds are maintained during ritual chanting.\\n5. What is vyākaraṇa? How are metalinguistic entities different from the linguistic ones? \\nWhy the study of Vyākaraṇa is important?\\n• Answer:\\n1. Vyākaraṇa is the study of grammar, particularly the systematic analysis of \\nlanguage. \\n2. Vyākaraṇa is regarded as śāstra ‘a system of thought’\\n3. Being a śāstra, vyākaraṇa has four parameters: Subject, Connection, Purpose, \\nReadership.')),\n",
              " GraphDocument(nodes=[], relationships=[], source=Document(metadata={'producer': 'LibreOffice 6.0', 'creator': 'Writer', 'creationdate': '2025-03-26T00:03:51+05:30', 'source': 'Answers Philosophy.pdf', 'total_pages': 11, 'page': 5, 'page_label': '6'}, page_content='Readership. \\n4. Metalinguistic entities refer to the rules and structures that govern language, \\nwhile linguistic entities are the actual words and sentences used in \\ncommunication.\\n5. The study of Vyākaraṇa is important because it helps in understanding the \\nstructure of language, preserving the purity of Vedic texts, and facilitating the \\ncorrect use of language in rituals and daily life.\\n• Modern Parallels:\\n•Descriptive vs. Prescriptive Grammar:')),\n",
              " GraphDocument(nodes=[Node(id='Vyākaraṇa', type='Grammar', properties={}), Node(id='Modern Linguistics', type='Linguistics', properties={}), Node(id='Computational Linguistics', type='Linguistics', properties={}), Node(id='Pāṇini', type='Person', properties={}), Node(id='Grammar Models', type='Model', properties={}), Node(id='Pada', type='Linguistic unit', properties={}), Node(id='Vākya', type='Linguistic unit', properties={}), Node(id='Śabda', type='Linguistic unit', properties={}), Node(id='Aśabda', type='Linguistic unit', properties={}), Node(id='Śikṣā', type='Text', properties={}), Node(id='Prātiśākhya', type='Text', properties={})], relationships=[Relationship(source=Node(id='Vyākaraṇa', type='Grammar', properties={}), target=Node(id='Modern Linguistics', type='Linguistics', properties={}), type='CONTRASTS_WITH', properties={}), Relationship(source=Node(id='Modern Linguistics', type='Linguistics', properties={}), target=Node(id='Computational Linguistics', type='Linguistics', properties={}), type='BUILDS', properties={}), Relationship(source=Node(id='Computational Linguistics', type='Linguistics', properties={}), target=Node(id='Pāṇini', type='Person', properties={}), type='SIMILAR_TO', properties={}), Relationship(source=Node(id='Computational Linguistics', type='Linguistics', properties={}), target=Node(id='Grammar Models', type='Model', properties={}), type='BUILDS', properties={}), Relationship(source=Node(id='Pada', type='Linguistic unit', properties={}), target=Node(id='Vākya', type='Linguistic unit', properties={}), type='DISTINGUISHES', properties={}), Relationship(source=Node(id='Śabda', type='Linguistic unit', properties={}), target=Node(id='Aśabda', type='Linguistic unit', properties={}), type='DISTINGUISHES', properties={}), Relationship(source=Node(id='Śikṣā', type='Text', properties={}), target=Node(id='Prātiśākhya', type='Text', properties={}), type='DISTINGUISHES', properties={})], source=Document(metadata={'producer': 'LibreOffice 6.0', 'creator': 'Writer', 'creationdate': '2025-03-26T00:03:51+05:30', 'source': 'Answers Philosophy.pdf', 'total_pages': 11, 'page': 5, 'page_label': '6'}, page_content='• Vyākaraṇa is prescriptive, setting rules for \"correct\" usage.\\n• Modern linguistics is descriptive, studying how language naturally evolves.\\n• Computational linguistics builds grammar models similar to Pāṇini’s rule-based \\nsystem.\\n6. Distinguish the following concepts (any two): (a) pada vs. vākya, (b) śabda vs. aśabda, \\n(c) Śikṣā vs. Prātiśākhya\\n• Answer:\\n1. (a) Pada vs. Vākya:\\n• Pada (पद) refers to a word or a single linguistic unit, while vākya \\n(वाक्य) refers to a sentence or a complete utterance.')),\n",
              " GraphDocument(nodes=[Node(id='Modern Parallels', type='Concept', properties={}), Node(id='Word', type='Linguistic entity', properties={}), Node(id='Sentence', type='Linguistic entity', properties={}), Node(id='Syntax', type='Field of study', properties={}), Node(id='Phrase Structure Grammar', type='Concept', properties={}), Node(id='Śabda', type='Linguistic entity', properties={}), Node(id='Aśabda', type='Non-linguistic entity', properties={}), Node(id='Linguistic Entity', type='Concept', properties={}), Node(id='Non-Linguistic Entity', type='Concept', properties={}), Node(id='Use', type='Action', properties={}), Node(id='Mention', type='Action', properties={}), Node(id='Metalinguistic Entity', type='Concept', properties={})], relationships=[Relationship(source=Node(id='Modern Parallels', type='Concept', properties={}), target=Node(id='Word', type='Linguistic entity', properties={}), type='COMPARES', properties={}), Relationship(source=Node(id='Modern Parallels', type='Concept', properties={}), target=Node(id='Sentence', type='Linguistic entity', properties={}), type='COMPARES', properties={}), Relationship(source=Node(id='Modern Parallels', type='Concept', properties={}), target=Node(id='Syntax', type='Field of study', properties={}), type='RELATED_TO', properties={}), Relationship(source=Node(id='Modern Parallels', type='Concept', properties={}), target=Node(id='Phrase Structure Grammar', type='Concept', properties={}), type='RELATED_TO', properties={}), Relationship(source=Node(id='Śabda', type='Linguistic entity', properties={}), target=Node(id='Word', type='Linguistic entity', properties={}), type='REFERS_TO', properties={}), Relationship(source=Node(id='Aśabda', type='Non-linguistic entity', properties={}), target=Node(id='Non-Linguistic Entity', type='Concept', properties={}), type='REFERS_TO', properties={}), Relationship(source=Node(id='Śabda', type='Linguistic entity', properties={}), target=Node(id='Use', type='Action', properties={}), type='DEFINED_BY', properties={}), Relationship(source=Node(id='Aśabda', type='Non-linguistic entity', properties={}), target=Node(id='Mention', type='Action', properties={}), type='DEFINED_BY', properties={}), Relationship(source=Node(id='Śabda', type='Linguistic entity', properties={}), target=Node(id='Linguistic Entity', type='Concept', properties={}), type='IS_A', properties={}), Relationship(source=Node(id='Aśabda', type='Non-linguistic entity', properties={}), target=Node(id='Metalinguistic Entity', type='Concept', properties={}), type='IS_A', properties={})], source=Document(metadata={'producer': 'LibreOffice 6.0', 'creator': 'Writer', 'creationdate': '2025-03-26T00:03:51+05:30', 'source': 'Answers Philosophy.pdf', 'total_pages': 11, 'page': 6, 'page_label': '7'}, page_content='• Modern Parallels:\\n •Similar to word vs. sentence distinction in syntax.\\n•In phrase structure grammar, words combine into larger units.\\n2. (b) Śabda vs. Aśabda:\\n• Śabda (श\\x0cब्द) refers to linguistic entities or words, while aśabda \\n(अश\\x0cब्द) refers to non-linguistic or non-verbal entities. \\n• Sabda is use, Asabda is mention. \\n• Asabda is when we mention a term to talk about it, but not to \\ncommunicate using it. \\n• Sabda is linguistic entity while Asabda is metalinguistic entity.')),\n",
              " GraphDocument(nodes=[Node(id='Sabda', type='Concept', properties={}), Node(id='Asabda', type='Concept', properties={}), Node(id='Śikṣā', type='Concept', properties={}), Node(id='Prātiśākhya', type='Concept', properties={}), Node(id='Vedanga', type='Concept', properties={}), Node(id='General Accuracy Of Pronunciation', type='Concept', properties={}), Node(id='Phonetic And Grammatical Analysis Of Vedic Texts', type='Concept', properties={})], relationships=[Relationship(source=Node(id='Sabda', type='Concept', properties={}), target=Node(id='Asabda', type='Concept', properties={}), type='USED_FOR', properties={}), Relationship(source=Node(id='Śikṣā', type='Concept', properties={}), target=Node(id='General Accuracy Of Pronunciation', type='Concept', properties={}), type='FOCUSES_ON', properties={}), Relationship(source=Node(id='Prātiśākhya', type='Concept', properties={}), target=Node(id='Phonetic And Grammatical Analysis Of Vedic Texts', type='Concept', properties={}), type='SPECIALIZED_IN', properties={}), Relationship(source=Node(id='Śikṣā', type='Concept', properties={}), target=Node(id='Vedanga', type='Concept', properties={}), type='PART_OF', properties={})], source=Document(metadata={'producer': 'LibreOffice 6.0', 'creator': 'Writer', 'creationdate': '2025-03-26T00:03:51+05:30', 'source': 'Answers Philosophy.pdf', 'total_pages': 11, 'page': 6, 'page_label': '7'}, page_content='• Sabda is used to communicate, Asabda is used to understand what is \\nbeing communicated. \\n3. (c) Śikṣā vs. Prātiśākhya:\\n• Śikṣā is the study of phonetics, focusing on pronunciation, while \\nPrātiśākhya (प्राति\\x04शाख्य... every branch) deals with the phonetic and \\ngrammatical analysis of Vedic texts.\\n• Siksa is a Vedanga; Pratisakhyas are manuals for specific texts. Siksa   \\nis the broader science which focusses on general accuracy of \\npronunciation, while Pratisakhyas are more specialized; they’re')),\n",
              " GraphDocument(nodes=[Node(id='Manuals', type='Manual', properties={}), Node(id='Texts', type='Texts', properties={}), Node(id='Asṭādhyāyī', type='Text', properties={}), Node(id='Pāṇini', type='Person', properties={}), Node(id='Prātipadika', type='Constituent', properties={}), Node(id='Vibhakti', type='Constituent', properties={})], relationships=[Relationship(source=Node(id='Manuals', type='Manual', properties={}), target=Node(id='Texts', type='Texts', properties={}), type='ASSOCIATED_WITH', properties={}), Relationship(source=Node(id='Asṭādhyāyī', type='Text', properties={}), target=Node(id='Pāṇini', type='Person', properties={}), type='AUTHORED_BY', properties={}), Relationship(source=Node(id='Prātipadika', type='Constituent', properties={}), target=Node(id='Noun Morphology', type='Morphology', properties={}), type='PART_OF', properties={}), Relationship(source=Node(id='Vibhakti', type='Constituent', properties={}), target=Node(id='Noun Morphology', type='Morphology', properties={}), type='PART_OF', properties={})], source=Document(metadata={'producer': 'LibreOffice 6.0', 'creator': 'Writer', 'creationdate': '2025-03-26T00:03:51+05:30', 'source': 'Answers Philosophy.pdf', 'total_pages': 11, 'page': 6, 'page_label': '7'}, page_content=\"manuals associated with specific texts, for the purpose of ensuring that\\nspecific intonations and sounds are maintained during ritual chanting. \\n7. Following the suggestions of Asṭādhyāyī, name different constituents of noun and verb \\nmorphology.\\n• Answer: In Pāṇini's Asṭādhyāyī, \\n• The constituents of noun morphology are:\\n1. Prātipadika (Base Form): The root form of a noun before inflections are \\napplied.\\n2. Vibhakti (Case Endings): Inflectional markers for nominative, accusative, \\netc.\")),\n",
              " GraphDocument(nodes=[Node(id='Samāsa', type='Concept', properties={}), Node(id='Sanskrit Grammar', type='Field', properties={})], relationships=[Relationship(source=Node(id='Samāsa', type='Concept', properties={}), target=Node(id='Sanskrit Grammar', type='Field', properties={}), type='PART_OF', properties={})], source=Document(metadata={'producer': 'LibreOffice 6.0', 'creator': 'Writer', 'creationdate': '2025-03-26T00:03:51+05:30', 'source': 'Answers Philosophy.pdf', 'total_pages': 11, 'page': 6, 'page_label': '7'}, page_content='etc.\\n3. Samāsa (Compound Formation): Combining two or more words into a single \\nunit.')),\n",
              " GraphDocument(nodes=[Node(id='Taddhita', type='Concept', properties={}), Node(id='Gārgya', type='Word', properties={}), Node(id='Garga', type='Root', properties={}), Node(id='Dhātu', type='Concept', properties={}), Node(id='Lakāra', type='Concept', properties={}), Node(id='Pratyaya', type='Concept', properties={}), Node(id='Kṛt-Pratyaya', type='Concept', properties={}), Node(id='Modern Parallels', type='Concept', properties={})], relationships=[Relationship(source=Node(id='Taddhita', type='Concept', properties={}), target=Node(id='Gārgya', type='Word', properties={}), type='CREATES', properties={}), Relationship(source=Node(id='Gārgya', type='Word', properties={}), target=Node(id='Garga', type='Root', properties={}), type='DERIVED_FROM', properties={}), Relationship(source=Node(id='Dhātu', type='Concept', properties={}), target=Node(id='Noun Morphology', type='Concept', properties={}), type='PART_OF', properties={}), Relationship(source=Node(id='Lakāra', type='Concept', properties={}), target=Node(id='Noun Morphology', type='Concept', properties={}), type='PART_OF', properties={}), Relationship(source=Node(id='Pratyaya', type='Concept', properties={}), target=Node(id='Noun Morphology', type='Concept', properties={}), type='PART_OF', properties={}), Relationship(source=Node(id='Kṛt-Pratyaya', type='Concept', properties={}), target=Node(id='Noun Morphology', type='Concept', properties={}), type='PART_OF', properties={}), Relationship(source=Node(id='Modern Parallels', type='Concept', properties={}), target=Node(id='Taddhita', type='Concept', properties={}), type='RELATED_TO', properties={})], source=Document(metadata={'producer': 'LibreOffice 6.0', 'creator': 'Writer', 'creationdate': '2025-03-26T00:03:51+05:30', 'source': 'Answers Philosophy.pdf', 'total_pages': 11, 'page': 7, 'page_label': '8'}, page_content='4. Taddhita (Derivational Suffixes): Used to create new words from roots (e.g., \\ngārgya from garga). \\n• The constituents of noun morphology include:\\n1. Dhātu (Root): The fundamental unit of meaning in a verb.\\n2. Lakāra (Tense & Mood Markers): Indicate present, past, future, imperative, \\netc.\\n3. Pratyaya (Suffixes): Modify the root to express tense, voice, and aspect.\\n4. Kṛt-Pratyaya (Nominalization Suffixes): Convert verbs into nouns or \\nadjectives (e.g., bhavati → bhāva).\\n• Modern Parallels:')),\n",
              " GraphDocument(nodes=[Node(id='Generative Morphology', type='Concept', properties={}), Node(id='Morphophonemics', type='Concept', properties={}), Node(id='Word Formation', type='Concept', properties={}), Node(id='Root', type='Morpheme', properties={}), Node(id='Affix', type='Morpheme', properties={}), Node(id=\"Viśvanātha'S Siddhāntamuktāvali (Śabdakhangla)\", type='Text', properties={}), Node(id='Knowledge Of Language Acquisition', type='Concept', properties={}), Node(id='Grammar', type='Means', properties={}), Node(id='Analogy', type='Means', properties={}), Node(id='Lexicon', type='Means', properties={}), Node(id='Statement Of A Reliable Person', type='Means', properties={})], relationships=[Relationship(source=Node(id='Generative Morphology', type='Concept', properties={}), target=Node(id='Word Formation', type='Concept', properties={}), type='FORMED_BY', properties={}), Relationship(source=Node(id='Morphophonemics', type='Concept', properties={}), target=Node(id='Word Formation', type='Concept', properties={}), type='EXAMINES', properties={}), Relationship(source=Node(id='Word Formation', type='Concept', properties={}), target=Node(id='Root', type='Morpheme', properties={}), type='FORMED_BY', properties={}), Relationship(source=Node(id='Word Formation', type='Concept', properties={}), target=Node(id='Affix', type='Morpheme', properties={}), type='FORMED_BY', properties={}), Relationship(source=Node(id=\"Viśvanātha'S Siddhāntamuktāvali (Śabdakhangla)\", type='Text', properties={}), target=Node(id='Knowledge Of Language Acquisition', type='Concept', properties={}), type='DESCRIBES', properties={}), Relationship(source=Node(id='Knowledge Of Language Acquisition', type='Concept', properties={}), target=Node(id='Grammar', type='Means', properties={}), type='ACQUIRED_THROUGH', properties={}), Relationship(source=Node(id='Knowledge Of Language Acquisition', type='Concept', properties={}), target=Node(id='Analogy', type='Means', properties={}), type='ACQUIRED_THROUGH', properties={}), Relationship(source=Node(id='Knowledge Of Language Acquisition', type='Concept', properties={}), target=Node(id='Lexicon', type='Means', properties={}), type='ACQUIRED_THROUGH', properties={}), Relationship(source=Node(id='Knowledge Of Language Acquisition', type='Concept', properties={}), target=Node(id='Statement Of A Reliable Person', type='Means', properties={}), type='ACQUIRED_THROUGH', properties={})], source=Document(metadata={'producer': 'LibreOffice 6.0', 'creator': 'Writer', 'creationdate': '2025-03-26T00:03:51+05:30', 'source': 'Answers Philosophy.pdf', 'total_pages': 11, 'page': 7, 'page_label': '8'}, page_content=\"• Modern Parallels: \\n• In generative morphology, words are formed by combining roots and affixes.\\n• Morphophonemics examines how suffixes interact with word stems\\n8. How is the knowledge of language acquired according to the siddhāntamuktāvali \\n(śabdakhangla) of viśvanātha?\\n• Answer: According to Viśvanātha's Siddhāntamuktāvali, the knowledge of language \\nis acquired through eight means:\\n1. Grammar (vyākaraṇa)\\n2. Analogy (upamāna)\\n3. Lexicon (kośa)\\n4. Statement of a reliable person (āptavākya)\")),\n",
              " GraphDocument(nodes=[Node(id='Speech Behavior Of Elders', type='Concept', properties={}), Node(id='Context', type='Concept', properties={}), Node(id='Explanation', type='Concept', properties={}), Node(id='Proximity With Well-Known Words', type='Concept', properties={}), Node(id='Chomsky’S Universal Grammar', type='Theory', properties={}), Node(id='Noam Chomsky', type='Person', properties={}), Node(id='Cognitive Linguistics', type='Theory', properties={}), Node(id='Social Learning Theory', type='Theory', properties={})], relationships=[Relationship(source=Node(id='Chomsky’S Universal Grammar', type='Theory', properties={}), target=Node(id='Noam Chomsky', type='Person', properties={}), type='PROPOSED_BY', properties={}), Relationship(source=Node(id='Chomsky’S Universal Grammar', type='Theory', properties={}), target=Node(id='Speech Behavior Of Elders', type='Concept', properties={}), type='RELATED_TO', properties={}), Relationship(source=Node(id='Cognitive Linguistics', type='Theory', properties={}), target=Node(id='Context', type='Concept', properties={}), type='RELATED_TO', properties={}), Relationship(source=Node(id='Cognitive Linguistics', type='Theory', properties={}), target=Node(id='Explanation', type='Concept', properties={}), type='RELATED_TO', properties={}), Relationship(source=Node(id='Social Learning Theory', type='Theory', properties={}), target=Node(id='Proximity With Well-Known Words', type='Concept', properties={}), type='RELATED_TO', properties={})], source=Document(metadata={'producer': 'LibreOffice 6.0', 'creator': 'Writer', 'creationdate': '2025-03-26T00:03:51+05:30', 'source': 'Answers Philosophy.pdf', 'total_pages': 11, 'page': 7, 'page_label': '8'}, page_content='5. Speech behavior of elders (vyavahāra)\\n6. Context/ remaining part of the sentence (vākyasya śeṣa)\\n7. Explanation (vivṛtti)\\n8. Proximity with well-known words (sāmidhya)\\n• Modern Parallels:\\n• Chomsky’s Universal Grammar: Suggests that humans have innate structures for \\nlanguage learning.\\n• Cognitive linguistics: Views language learning as pattern recognition and mental \\nmapping.\\n• Social learning theory: Explains how children acquire words by listening and \\ninteracting.')),\n",
              " GraphDocument(nodes=[Node(id='Yāska', type='Person', properties={}), Node(id='Pāṇini', type='Person', properties={}), Node(id='Theodectes', type='Person', properties={}), Node(id='Aristotle', type='Person', properties={}), Node(id='Stoics', type='Group', properties={}), Node(id='Noun', type='Category', properties={}), Node(id='Verb', type='Category', properties={}), Node(id='Pre-Verb', type='Category', properties={}), Node(id='Preposition', type='Category', properties={}), Node(id='Nominal Stem', type='Category', properties={}), Node(id='Verb Root', type='Category', properties={}), Node(id='Connective', type='Category', properties={}), Node(id='Proper Noun', type='Category', properties={}), Node(id='Common Noun', type='Category', properties={}), Node(id='Conjunction', type='Category', properties={}), Node(id='Article', type='Category', properties={})], relationships=[Relationship(source=Node(id='Yāska', type='Person', properties={}), target=Node(id='Noun', type='Category', properties={}), type='PROPOSED', properties={}), Relationship(source=Node(id='Yāska', type='Person', properties={}), target=Node(id='Verb', type='Category', properties={}), type='PROPOSED', properties={}), Relationship(source=Node(id='Yāska', type='Person', properties={}), target=Node(id='Pre-Verb', type='Category', properties={}), type='PROPOSED', properties={}), Relationship(source=Node(id='Yāska', type='Person', properties={}), target=Node(id='Preposition', type='Category', properties={}), type='PROPOSED', properties={}), Relationship(source=Node(id='Pāṇini', type='Person', properties={}), target=Node(id='Nominal Stem', type='Category', properties={}), type='PROPOSED', properties={}), Relationship(source=Node(id='Pāṇini', type='Person', properties={}), target=Node(id='Verb Root', type='Category', properties={}), type='PROPOSED', properties={}), Relationship(source=Node(id='Aristotle', type='Person', properties={}), target=Node(id='Noun', type='Category', properties={}), type='PROPOSED', properties={}), Relationship(source=Node(id='Aristotle', type='Person', properties={}), target=Node(id='Verb', type='Category', properties={}), type='PROPOSED', properties={}), Relationship(source=Node(id='Aristotle', type='Person', properties={}), target=Node(id='Connective', type='Category', properties={}), type='PROPOSED', properties={}), Relationship(source=Node(id='Stoics', type='Group', properties={}), target=Node(id='Proper Noun', type='Category', properties={}), type='PROPOSED', properties={}), Relationship(source=Node(id='Stoics', type='Group', properties={}), target=Node(id='Common Noun', type='Category', properties={}), type='PROPOSED', properties={}), Relationship(source=Node(id='Stoics', type='Group', properties={}), target=Node(id='Verb', type='Category', properties={}), type='PROPOSED', properties={}), Relationship(source=Node(id='Stoics', type='Group', properties={}), target=Node(id='Conjunction', type='Category', properties={}), type='PROPOSED', properties={}), Relationship(source=Node(id='Stoics', type='Group', properties={}), target=Node(id='Article', type='Category', properties={}), type='PROPOSED', properties={})], source=Document(metadata={'producer': 'LibreOffice 6.0', 'creator': 'Writer', 'creationdate': '2025-03-26T00:03:51+05:30', 'source': 'Answers Philosophy.pdf', 'total_pages': 11, 'page': 8, 'page_label': '9'}, page_content='9. Compare the categorial classifications of words proposed by Yāska, Pāṇini, Theodectes\\nand Aristotle, and Stoics.\\n• Answer:\\n1. Yāska classified words into four categories: nouns (nāma), verbs (ākhyāta), \\npre-verbs (upasarga), and prepositions (nipāta).\\n2. Pāṇini focused on nominal stems (prātipadika) and verb roots (dhātu).\\n3. Aristotle classified words into three categories: nouns, verbs, and \\nconnectives.\\n4. The Stoics classified words into five categories: proper noun, common noun,')),\n",
              " GraphDocument(nodes=[Node(id='Anvaya-Vyatireka', type='Method', properties={}), Node(id='Abstracting Components From Wholes', type='Purpose', properties={}), Node(id='Meaning In A Sentence', type='Concept', properties={}), Node(id='Individual Words', type='Words', properties={}), Node(id='Relation To Each Other', type='Relation', properties={}), Node(id='Concurrent Occurrence', type='Analysis type', properties={}), Node(id='Non-Occurrence', type='Analysis type', properties={})], relationships=[Relationship(source=Node(id='Anvaya-Vyatireka', type='Method', properties={}), target=Node(id='Abstracting Components From Wholes', type='Purpose', properties={}), type='USED_FOR', properties={}), Relationship(source=Node(id='Anvaya-Vyatireka', type='Method', properties={}), target=Node(id='Concurrent Occurrence', type='Analysis type', properties={}), type='INVOLVES', properties={}), Relationship(source=Node(id='Anvaya-Vyatireka', type='Method', properties={}), target=Node(id='Non-Occurrence', type='Analysis type', properties={}), type='INVOLVES', properties={}), Relationship(source=Node(id='Meaning In A Sentence', type='Concept', properties={}), target=Node(id='Anvaya-Vyatireka', type='Method', properties={}), type='DETERMINES', properties={}), Relationship(source=Node(id='Meaning In A Sentence', type='Concept', properties={}), target=Node(id='Individual Words', type='Words', properties={}), type='COMES_FROM', properties={}), Relationship(source=Node(id='Meaning In A Sentence', type='Concept', properties={}), target=Node(id='Relation To Each Other', type='Relation', properties={}), type='COMES_FROM', properties={}), Relationship(source=Node(id='Relation To Each Other', type='Relation', properties={}), target=Node(id='Concurrent Occurrence', type='Analysis type', properties={}), type='ANALYZED_BY', properties={}), Relationship(source=Node(id='Relation To Each Other', type='Relation', properties={}), target=Node(id='Non-Occurrence', type='Analysis type', properties={}), type='ANALYZED_BY', properties={})], source=Document(metadata={'producer': 'LibreOffice 6.0', 'creator': 'Writer', 'creationdate': '2025-03-26T00:03:51+05:30', 'source': 'Answers Philosophy.pdf', 'total_pages': 11, 'page': 8, 'page_label': '9'}, page_content='pronoun, verb and conjunction.\\n10.How is the meaningfulness of the sentential constituents established? Discuss the \\nmethod of anvaya-vyatireka.\\n• Answer: Anvaya-vyatireka is the method for abstracting components from wholes. \\n• Meaning in a sentence is not just from individual words, but from their relation to \\neach other. \\n• This method of analysis involves observing the concurrent occurrence (anvaya) and \\nnon-occurrence (vyatireka) of words and their meanings.')),\n",
              " GraphDocument(nodes=[Node(id='Anvaya', type='Concept', properties={}), Node(id='Vyatireka', type='Concept', properties={}), Node(id='Fire Produces Smoke', type='Example', properties={}), Node(id='No Fire, No Smoke', type='Example', properties={}), Node(id='Causal Relationship', type='Concept', properties={}), Node(id='Analysis', type='Concept', properties={})], relationships=[Relationship(source=Node(id='Anvaya', type='Concept', properties={}), target=Node(id='Fire Produces Smoke', type='Example', properties={}), type='ILLUSTRATES', properties={}), Relationship(source=Node(id='Vyatireka', type='Concept', properties={}), target=Node(id='No Fire, No Smoke', type='Example', properties={}), type='ILLUSTRATES', properties={}), Relationship(source=Node(id='Anvaya', type='Concept', properties={}), target=Node(id='Causal Relationship', type='Concept', properties={}), type='ESTABLISH', properties={}), Relationship(source=Node(id='Vyatireka', type='Concept', properties={}), target=Node(id='Causal Relationship', type='Concept', properties={}), type='ESTABLISH', properties={}), Relationship(source=Node(id='Anvaya-Vyātireka', type='Concept', properties={}), target=Node(id='Analysis', type='Concept', properties={}), type='VARY', properties={})], source=Document(metadata={'producer': 'LibreOffice 6.0', 'creator': 'Writer', 'creationdate': '2025-03-26T00:03:51+05:30', 'source': 'Answers Philosophy.pdf', 'total_pages': 11, 'page': 8, 'page_label': '9'}, page_content='• Anvaya (Positive Correlation): If a word appears, a certain meaning appears.\\n • Vyatireka (Negative Correlation): If a word is absent, the meaning disappears. \\n• Example: \\n◦ \"Fire produces smoke.\" (Anvaya: If there is fire, there is smoke). \\n◦ \"No fire, no smoke.\" (Vyatireka: If there is no fire, there is no smoke). \\n• Thus, it is about establishing causal relation. \\n• Anvaya-vyātireka may vary from one system to another system resulting into \\ndifferent types of analysis.')),\n",
              " GraphDocument(nodes=[Node(id='Bhartr̥Hari', type='Person', properties={}), Node(id='Anvaya-Vyatireka', type='Method', properties={}), Node(id='Formal Semantics', type='Theory', properties={}), Node(id='Compositionality Principle', type='Theory', properties={})], relationships=[Relationship(source=Node(id='Bhartr̥Hari', type='Person', properties={}), target=Node(id='Anvaya-Vyatireka', type='Method', properties={}), type='ASSOCIATED_WITH', properties={}), Relationship(source=Node(id='Anvaya-Vyatireka', type='Method', properties={}), target=Node(id='Formal Semantics', type='Theory', properties={}), type='PARALLELS', properties={}), Relationship(source=Node(id='Anvaya-Vyatireka', type='Method', properties={}), target=Node(id='Compositionality Principle', type='Theory', properties={}), type='PARALLELS', properties={})], source=Document(metadata={'producer': 'LibreOffice 6.0', 'creator': 'Writer', 'creationdate': '2025-03-26T00:03:51+05:30', 'source': 'Answers Philosophy.pdf', 'total_pages': 11, 'page': 8, 'page_label': '9'}, page_content='• However, Bharatṛhari points it out that the results arrived at by the method of \\nanvaya-vyatireka do not represent the real nature of either linguistic items or their \\nmeanings; this method only results in the discovery of unreal entities. \\n• Modern Parallels:\\n• This method of logical reasoning for meaning has parallels in the modern theories \\nof Formal Semantics (which uses logic to model sentence meaning); \\n• In Compositionality principle (where sentence meaning is built from word \\nmeaning).')),\n",
              " GraphDocument(nodes=[Node(id='Sthitalakṣaṇā', type='Concept', properties={}), Node(id='Apoddhāra', type='Concept', properties={}), Node(id='Anvaya-Vyatireka', type='Concept', properties={})], relationships=[Relationship(source=Node(id='Sthitalakṣaṇā', type='Concept', properties={}), target=Node(id='Stable Meaning Of A Word', type='Definition', properties={}), type='DEFINED_AS', properties={}), Relationship(source=Node(id='Apoddhāra', type='Concept', properties={}), target=Node(id='Abstracted Meaning Derived Through Analysis', type='Definition', properties={}), type='DEFINED_AS', properties={}), Relationship(source=Node(id='Anvaya-Vyatireka', type='Concept', properties={}), target=Node(id='Relationship Between A Word And Its Meaning', type='Definition', properties={}), type='DEFINED_AS', properties={})], source=Document(metadata={'producer': 'LibreOffice 6.0', 'creator': 'Writer', 'creationdate': '2025-03-26T00:03:51+05:30', 'source': 'Answers Philosophy.pdf', 'total_pages': 11, 'page': 9, 'page_label': '10'}, page_content='11.Discuss sthitalakṣaṇā, apoddhāra and anvaya-vyatireka.\\n• Answer: \\n1. Sthitalakṣaṇā, from स्थि\\x10\\x11\\x04 meaning \"stable\" and लक्षणा meaning \"feature” or \\n“attribute\". \\nSthitalakṣaṇā refers to the fixed or stable meaning of a word as \\nunderstood in actual communication. \\nIt is the idea that words have stable meanings across different \\ncontexts. Thus, it opposes the view that words change meaning across \\ndifferent contexts. \\n2. Apoddhāra refers to the abstracted meaning derived through analysis, which')),\n",
              " GraphDocument(nodes=[Node(id='Anvaya-Vyatireka', type='Concept', properties={}), Node(id='Montague Grammar', type='Concept', properties={}), Node(id='Sthita-Lakṣaṇa Padārtha', type='Concept', properties={}), Node(id='Causal Relationship', type='Concept', properties={}), Node(id='Meaning', type='Concept', properties={}), Node(id='Fixed Nature', type='Concept', properties={})], relationships=[Relationship(source=Node(id='Anvaya-Vyatireka', type='Concept', properties={}), target=Node(id='Causal Relationship', type='Concept', properties={}), type='ESTABLISHES', properties={}), Relationship(source=Node(id='Anvaya-Vyatireka', type='Concept', properties={}), target=Node(id='Montague Grammar', type='Concept', properties={}), type='PARALLEL_IN', properties={}), Relationship(source=Node(id='Sthita-Lakṣaṇa Padārtha', type='Concept', properties={}), target=Node(id='Meaning', type='Concept', properties={}), type='TYPE_OF', properties={}), Relationship(source=Node(id='Sthita-Lakṣaṇa Padārtha', type='Concept', properties={}), target=Node(id='Fixed Nature', type='Concept', properties={}), type='OF', properties={})], source=Document(metadata={'producer': 'LibreOffice 6.0', 'creator': 'Writer', 'creationdate': '2025-03-26T00:03:51+05:30', 'source': 'Answers Philosophy.pdf', 'total_pages': 11, 'page': 9, 'page_label': '10'}, page_content='may not correspond to the actual meaning in communication. \\n3. Anvaya-Vyatireka (occurrence and non-occurrence) method of establishing \\ncausal relationship between words and their meanings. \\nThis method of logical reasoning for meaning has a parallel in the \\nmodern theory of formal semantics of Montague grammar. \\n• Sthita-lakṣaṇa padārtha refers to meaning as it is actually understood in an instance \\nof linguistic communication. It is of fixed nature.')),\n",
              " GraphDocument(nodes=[], relationships=[], source=Document(metadata={'producer': 'LibreOffice 6.0', 'creator': 'Writer', 'creationdate': '2025-03-26T00:03:51+05:30', 'source': 'Answers Philosophy.pdf', 'total_pages': 11, 'page': 9, 'page_label': '10'}, page_content='• Apoddhāra: Abstracted meanings are meanings only in a technical or theoretical \\nsense (śāstrīya).\\n• Anvaya-vyātireka may vary from one system to another system resulting into \\ndifferent types of analysis.\\n12.Discuss the structural constituents of a sentence proposed in Indian grammatical \\ntradition with a special reference to apoddhāra.\\n• Answer: Apoddhāra (abstraction) is the method to derive the structural constituents \\nfrom a whole sentence .')),\n",
              " GraphDocument(nodes=[Node(id='Apoddhāra', type='Concept', properties={}), Node(id='Constituents Of A Sentence', type='Concept', properties={}), Node(id='Words (Pada)', type='Constituent', properties={}), Node(id='Stems (Prātipadika)', type='Constituent', properties={}), Node(id='Affixes (Pratyaya)', type='Constituent', properties={}), Node(id='Sentence Analysis Method', type='Method', properties={}), Node(id='Kāraka (Semantic Roles)', type='Concept', properties={}), Node(id='Subject', type='Role', properties={}), Node(id='Object', type='Role', properties={}), Node(id='Instrument', type='Role', properties={})], relationships=[Relationship(source=Node(id='Apoddhāra', type='Concept', properties={}), target=Node(id='Constituents Of A Sentence', type='Concept', properties={}), type='RELATED_TO', properties={}), Relationship(source=Node(id='Words (Pada)', type='Constituent', properties={}), target=Node(id='Constituents Of A Sentence', type='Concept', properties={}), type='PART_OF', properties={}), Relationship(source=Node(id='Stems (Prātipadika)', type='Constituent', properties={}), target=Node(id='Constituents Of A Sentence', type='Concept', properties={}), type='PART_OF', properties={}), Relationship(source=Node(id='Affixes (Pratyaya)', type='Constituent', properties={}), target=Node(id='Constituents Of A Sentence', type='Concept', properties={}), type='PART_OF', properties={}), Relationship(source=Node(id='Sentence Analysis Method', type='Method', properties={}), target=Node(id='Constituents Of A Sentence', type='Concept', properties={}), type='METHOD_OF', properties={}), Relationship(source=Node(id='Kāraka (Semantic Roles)', type='Concept', properties={}), target=Node(id='Constituents Of A Sentence', type='Concept', properties={}), type='KEY_CONSTITUENT_OF', properties={}), Relationship(source=Node(id='Subject', type='Role', properties={}), target=Node(id='Kāraka (Semantic Roles)', type='Concept', properties={}), type='INCLUDES', properties={}), Relationship(source=Node(id='Object', type='Role', properties={}), target=Node(id='Kāraka (Semantic Roles)', type='Concept', properties={}), type='INCLUDES', properties={}), Relationship(source=Node(id='Instrument', type='Role', properties={}), target=Node(id='Kāraka (Semantic Roles)', type='Concept', properties={}), type='INCLUDES', properties={})], source=Document(metadata={'producer': 'LibreOffice 6.0', 'creator': 'Writer', 'creationdate': '2025-03-26T00:03:51+05:30', 'source': 'Answers Philosophy.pdf', 'total_pages': 11, 'page': 9, 'page_label': '10'}, page_content='1. Apoddhāra refers to the abstracted meaning derived through analysis, which \\nmay not correspond to the actual meaning in communication. \\n2. The constituents are words (pada), stems (prātipadika), and affixes (pratyaya).\\n3. This method of sentence analysis involves breaking down the sentence \\n(vākya) into smaller units to understand their meanings and functions. \\n4. Key Constituents of a Sentence:\\n• Kāraka (Semantic Roles) – Subjects, objects, instruments, etc.')),\n",
              " GraphDocument(nodes=[Node(id='Vibhakti (Case Endings)', type='Concept', properties={}), Node(id='Grammatical Relationships', type='Concept', properties={})], relationships=[Relationship(source=Node(id='Vibhakti (Case Endings)', type='Concept', properties={}), target=Node(id='Grammatical Relationships', type='Concept', properties={}), type='SHOW', properties={})], source=Document(metadata={'producer': 'LibreOffice 6.0', 'creator': 'Writer', 'creationdate': '2025-03-26T00:03:51+05:30', 'source': 'Answers Philosophy.pdf', 'total_pages': 11, 'page': 9, 'page_label': '10'}, page_content='• Vibhakti (Case Endings) – Show grammatical relationships.')),\n",
              " GraphDocument(nodes=[], relationships=[], source=Document(metadata={'producer': 'LibreOffice 6.0', 'creator': 'Writer', 'creationdate': '2025-03-26T00:03:51+05:30', 'source': 'Answers Philosophy.pdf', 'total_pages': 11, 'page': 10, 'page_label': '11'}, page_content='• Dhātu (Verbal Root) – Defines the action.\\n5. Apoddhāra means isolating sentence parts to determine how meaning is built.\\n6. Example: \"The king gives charity.\"\\n• Rājā (King) → Subject (Karta)\\n• Dānam (Charity) → Object (Karma)\\n• Dadāti (Gives) → Verb\\n7. In short, Apoddhāra   breaks sentences into   meaningful units   to understand \\nhow meaning is structured. \\n8. This method of role-based analysis of sentence structure has the following \\nmodern parallels:')),\n",
              " GraphDocument(nodes=[Node(id='Case Grammar', type='Concept', properties={}), Node(id='Discourse Analysis', type='Concept', properties={}), Node(id='Sentence Meaning', type='Concept', properties={}), Node(id='Communication', type='Concept', properties={})], relationships=[Relationship(source=Node(id='Case Grammar', type='Concept', properties={}), target=Node(id='Sentence Meaning', type='Concept', properties={}), type='RELATES_TO', properties={}), Relationship(source=Node(id='Discourse Analysis', type='Concept', properties={}), target=Node(id='Sentence Meaning', type='Concept', properties={}), type='RELATES_TO', properties={}), Relationship(source=Node(id='Discourse Analysis', type='Concept', properties={}), target=Node(id='Communication', type='Concept', properties={}), type='RELATES_TO', properties={})], source=Document(metadata={'producer': 'LibreOffice 6.0', 'creator': 'Writer', 'creationdate': '2025-03-26T00:03:51+05:30', 'source': 'Answers Philosophy.pdf', 'total_pages': 11, 'page': 10, 'page_label': '11'}, page_content='modern parallels:\\n• Case grammar, where sentence meaning depends on subject-object \\nroles.\\n• Discourse analysis, which looks at how sentence structure affects \\ncommunication.'))]"
            ]
          },
          "metadata": {},
          "execution_count": 15
        }
      ]
    },
    {
      "cell_type": "code",
      "source": [
        "# Initializing Neo4j Instance\n",
        "graph = Neo4jGraph()"
      ],
      "metadata": {
        "colab": {
          "base_uri": "https://localhost:8080/"
        },
        "id": "7RDkHMLuj9j1",
        "outputId": "a502dd84-75c4-4411-99c1-8d83a554fc9a"
      },
      "execution_count": 16,
      "outputs": [
        {
          "output_type": "stream",
          "name": "stderr",
          "text": [
            "<ipython-input-16-c1ddba185a4a>:2: LangChainDeprecationWarning: The class `Neo4jGraph` was deprecated in LangChain 0.3.8 and will be removed in 1.0. An updated version of the class exists in the :class:`~langchain-neo4j package and should be used instead. To use it run `pip install -U :class:`~langchain-neo4j` and import as `from :class:`~langchain_neo4j import Neo4jGraph``.\n",
            "  graph = Neo4jGraph()\n"
          ]
        }
      ]
    },
    {
      "cell_type": "code",
      "source": [
        "# Adding the Graph created to the Neo4j Cloud\n",
        "graph.add_graph_documents(\n",
        "    graph_documents,\n",
        "    baseEntityLabel=True, #Ensures nodes have labels like Person, Company, etc.\n",
        "    include_source=True #Keeps the original document as part of the graph for traceability.\n",
        ")"
      ],
      "metadata": {
        "id": "gJ144VWy3WoD"
      },
      "execution_count": 17,
      "outputs": []
    },
    {
      "cell_type": "code",
      "source": [
        "# directly show the graph resulting from the given Cypher query\n",
        "default_cypher = \"MATCH (s)-[r:!MENTIONS]->(t) RETURN s,r,t LIMIT 50\""
      ],
      "metadata": {
        "id": "xA2S9kD5CMni"
      },
      "execution_count": 18,
      "outputs": []
    },
    {
      "cell_type": "code",
      "source": [
        "from yfiles_jupyter_graphs import GraphWidget\n",
        "from neo4j import GraphDatabase"
      ],
      "metadata": {
        "id": "cSbnuIW1CPUZ"
      },
      "execution_count": 19,
      "outputs": []
    },
    {
      "cell_type": "code",
      "source": [
        "# Visualizing the graph through GraphWidget\n",
        "def showGraph(cypher: str = default_cypher):\n",
        "    # create a neo4j session to run queries\n",
        "    driver = GraphDatabase.driver(\n",
        "        uri = os.environ[\"NEO4J_URI\"],\n",
        "        auth = (os.environ[\"NEO4J_USERNAME\"],\n",
        "                os.environ[\"NEO4J_PASSWORD\"]))\n",
        "    session = driver.session()\n",
        "    widget = GraphWidget(graph = session.run(cypher).graph())\n",
        "    widget.node_label_mapping = 'id'\n",
        "    display(widget)\n",
        "    return widget"
      ],
      "metadata": {
        "id": "movs-Kf4CWco"
      },
      "execution_count": 20,
      "outputs": []
    },
    {
      "cell_type": "code",
      "source": [
        "showGraph()"
      ],
      "metadata": {
        "colab": {
          "base_uri": "https://localhost:8080/",
          "height": 1000,
          "referenced_widgets": [
            "7ff7136df47d4e329fa254ca9c09ccce",
            "a849474363e74777807891a95f640477"
          ]
        },
        "id": "2h0NdTRuCa0k",
        "outputId": "4a59e31b-7c60-441c-acbe-da91e471fe82"
      },
      "execution_count": 21,
      "outputs": [
        {
          "output_type": "display_data",
          "data": {
            "text/plain": [
              "GraphWidget(layout=Layout(height='800px', width='100%'))"
            ],
            "application/vnd.jupyter.widget-view+json": {
              "version_major": 2,
              "version_minor": 0,
              "model_id": "7ff7136df47d4e329fa254ca9c09ccce"
            }
          },
          "metadata": {
            "application/vnd.jupyter.widget-view+json": {
              "colab": {
                "custom_widget_manager": {
                  "url": "https://ssl.gstatic.com/colaboratory-static/widgets/colab-cdn-widget-manager/2b70e893a8ba7c0f/manager.min.js"
                }
              }
            }
          }
        },
        {
          "output_type": "display_data",
          "data": {
            "text/plain": [
              "GraphWidget(layout=Layout(height='800px', width='100%'))"
            ],
            "application/vnd.jupyter.widget-view+json": {
              "version_major": 2,
              "version_minor": 0,
              "model_id": "7ff7136df47d4e329fa254ca9c09ccce"
            }
          },
          "metadata": {
            "application/vnd.jupyter.widget-view+json": {
              "colab": {
                "custom_widget_manager": {
                  "url": "https://ssl.gstatic.com/colaboratory-static/widgets/colab-cdn-widget-manager/2b70e893a8ba7c0f/manager.min.js"
                }
              }
            }
          }
        }
      ]
    },
    {
      "cell_type": "markdown",
      "source": [
        "##Creating Word Embedding"
      ],
      "metadata": {
        "id": "nXt5T-zJpv6O"
      }
    },
    {
      "cell_type": "code",
      "source": [
        "# Creating Word Embedding instance from HuggingFace\n",
        "embeddings = HuggingFaceEmbeddings(\n",
        "            model_name=embedding_model,\n",
        "            model_kwargs={'device': 'cpu'}\n",
        "        )"
      ],
      "metadata": {
        "colab": {
          "base_uri": "https://localhost:8080/",
          "height": 17,
          "referenced_widgets": [
            "ac248ad972b34797b187d4e4e8ed8869",
            "d7828cab5a7745d9b2ad1fd3f1b92d3f",
            "b00530858143430285f34a3386b95996",
            "fa80f23bb4cf4485b49af5c40dc99377",
            "d5b5bcc79a1841efb5cad980a1440b55",
            "c59a0b4e7f3d44a582ae94dd141291d4",
            "79784570e77149a28177ab5a6c5521c4",
            "55d91343721c4835ba9fbafe18a3bf29",
            "b395c899856c455198635564c9ffb4d0",
            "180438f114624c1794a5c372ca981c25",
            "a6f0c1c462d048a5bd588f7dae290bc5",
            "5cd3d58bda8d44abaaed52664e5970fa",
            "bf4a7a88c66a41ce8e4a2a278d4752dc",
            "cf53cb4a8bec44eea9194de066ff8012",
            "b5644a57aa1e4896a45dd62d97ae1a32",
            "f1e191dd50254e5d8a3eb8ce8642fe06",
            "90d3b96173264e8eb0137cc851121d4b",
            "8f7c5fbab7964eb294262ef28a89bc8a",
            "07ebb6115cf54b1a927a485b19deadd1",
            "8368fae6f5894612940f16c6565132df",
            "d3e1683cf3fe44beb07906a13af7101e",
            "15f74e5d084649fc8c843fbe4237859b",
            "8d537db84cb64fa5acea61283cb7a177",
            "77c05aa566bd49b68404bc52b0f6713d",
            "de4fdad01bb2418085463bed1f844608",
            "bf4fb83d110c44e1a1e9b0ea5933521e",
            "fdcba412e8544bfc829f989e5345136b",
            "6e648cb32825469d8cc64bbcfd21c382",
            "18964a3f572c4da998282c3ce1671a3e",
            "33fa6e3e81e44605bf7ecb745ded8073",
            "829a2e16e7de4e66af31f07bc14129a6",
            "4470be3cd751475ca32fe830ccb3d823",
            "20f332234fb44af9907592812f0d5ac9",
            "fb1835938a314c4c93942579f1778317",
            "23814abdfec748fc93b754bf3506794c",
            "9fbaaa86a0884d928d735983d1dc9fce",
            "ab77e58d5d874c0eb77ec66f227f61ee",
            "ae387b6f00ea4b02bdffb62bb2e36362",
            "876b45f5091f49c6963ea7baca1d165e",
            "b9f55371df554e8db1e2faec974af6c6",
            "51f738b8677744c190de4d21fca76a9a",
            "525a74b0f8a8424eb8d10a07b47d41eb",
            "d0fb1cf18d364b46828c7d063d14fd69",
            "dfed02b360204ab6b9351e58ce873150",
            "38f3123b6dd74ced8b6361dd9d4e45b7",
            "dfbbc9cbc4fe4235a8fea9be679d01da",
            "e7490d872b164d5aac6fa60c9bc8aa85",
            "c0b84f22a3d04ed78f14b0116465f2c4",
            "706522d90cad443ea0b1251e5e140436",
            "58b85bf46b49475694e2400f21b18065",
            "3223dd7bd0a441b493bc6c36e9158164",
            "7ac7a17229524535b766d551ab924e94",
            "3ec2b23acddd4599b06a2f08eaa10b29",
            "46eee34254bc4c93998a68141bf441c8",
            "fe6125cfd95444a98ed910ccc6dc50b8",
            "ba0c5da107b84ac6a6a0002dbdd5c871",
            "73b68fc8036347a5848e8ae2144b49b7",
            "b8b9e00e622f40ffb382f957c265bd70",
            "288acd2c0a82402b9413da6339c4f2fe",
            "b6aaa3e900474d0ea2bcbe61b99372e0",
            "b2560e20ca0542e3b8aa76c4265f061c",
            "e090a39ad9734ff998b6a0f429224b18",
            "ec7e48ce22bb4e03aa4a1992d52993c1",
            "c67158c8826a4a7a819f42794c93108e",
            "d95db07cf34a4f2d9124dd72d5582b2a",
            "05e6b1cb59fb4627865f28a33ebd637f",
            "f4b9592c1f114f1ebd546779a3713dd4",
            "1547b938624a4d888167197845ab4fe0",
            "b7a57ba3d66d4362bdc0cd2e473cd2d3",
            "d9ae51c36a4348d28cb7b07393ba2070",
            "e9046648792345f0a897cc441e34e006",
            "c93f10447bc442e585e91506b905e5fd",
            "3f9fb75c76b24dba8f699e2612eaa987",
            "12bf700f708e432ca72a92c8910660d3",
            "c8629f5c176a4ac791aa521f2a7b17f3",
            "15091a7692a74a08a12b64a1c553ffe6",
            "034e756789434e789130e1a8b3136f5a",
            "dd678dbef23248378e9800e0e2f3cf95",
            "47a2c5b85e6843f8b3b38fafafa8f1f4",
            "4a3f4f3428e540eea5ea549e16723636",
            "6c2b0d23830b4d058d815d6b98f643e3",
            "5a21ba7f829743c289addfc3dc65bafe",
            "308ceb37b8ff48ff9b5ff3b664737588",
            "71dbb44863044bd29a27ae48f2f373f8",
            "fc023db6fd6f4dc0825ff06e70672146",
            "ee93a6073dba42cf91d1a65878f7c50b",
            "22d11970efe84ab7b0abf9137408c71a",
            "0ded184d8f7a4d8186b730f46c391d60",
            "3dfa54c8635d43b8b5fe3c3179330f76",
            "a18315b323714ddab9b1e61728b74591",
            "dc57e428ade0495fbe38e109ddfaa0eb",
            "6daf5f2422494ae28e553ab1e715f678",
            "87eda059b7684521bc03585d9439a7d0",
            "8f2630a5c05147d1bd906aa5bce5f49e",
            "80264d5a85a34ee8a62bd5d3aa8b5b13",
            "c73e7924d0a441be9a5d58e1af139ea6",
            "2c1f4fd84e854be7a0d4deedcb6c3996",
            "4e768ca452584532b9f337501f2a30c5",
            "38001a6445a84575987be608ac4c7193",
            "1c57e3355efa489185e57b7adf7f974c",
            "e71c29f5743d43ef8477da091baf1a93",
            "87d4794a0d0d4e1eb7d3cfa0dbd430e1",
            "0b7e8cb5d31a4ab6a576040316d61c91",
            "3d9d6c2331ae4b72a650c6123e8cbc6d",
            "878ddb455fbe4597af3c7584247e439f",
            "a460e18606594dadb5b166535455e221",
            "d08d7f2ff278436eb1c646b8e2405070",
            "03792c54f2274498aeb8b8bd2eedc062",
            "2d5369fb205941aab3b5e7f0f306dc03",
            "a975201c71474604af634f706584caa3",
            "005b9d3499f64349b242cb604c075f79",
            "0d2b31aeb42848e6ae8a40f611c4ff32",
            "eefcec5353b9486687fb099681a6489c",
            "00d5b2574c414b2182ca5ae41b1d147e",
            "9f3f20ec70bf404a84d110c1e72721d5",
            "3aece20e0ec64692b4ceacf3e4e6d2c2",
            "0dfc5ae1c6154aed9a4fb50fa3e6bd56",
            "2459bfc4edd74bf89d43e188b8d3571e",
            "4b4f8037559d46ddb56ed9ed4609ca05",
            "0b98fcec25f742b8a03576c4149cd028",
            "299ba42f88024bedb9827618a20f53e4"
          ]
        },
        "id": "8YAqIRn6sUSU",
        "outputId": "50920709-93a8-4b7c-821d-23c7f20feff8"
      },
      "execution_count": 22,
      "outputs": [
        {
          "output_type": "display_data",
          "data": {
            "text/plain": [
              "modules.json:   0%|          | 0.00/349 [00:00<?, ?B/s]"
            ],
            "application/vnd.jupyter.widget-view+json": {
              "version_major": 2,
              "version_minor": 0,
              "model_id": "ac248ad972b34797b187d4e4e8ed8869"
            }
          },
          "metadata": {
            "application/vnd.jupyter.widget-view+json": {
              "colab": {
                "custom_widget_manager": {
                  "url": "https://ssl.gstatic.com/colaboratory-static/widgets/colab-cdn-widget-manager/2b70e893a8ba7c0f/manager.min.js"
                }
              }
            }
          }
        },
        {
          "output_type": "display_data",
          "data": {
            "text/plain": [
              "config_sentence_transformers.json:   0%|          | 0.00/116 [00:00<?, ?B/s]"
            ],
            "application/vnd.jupyter.widget-view+json": {
              "version_major": 2,
              "version_minor": 0,
              "model_id": "15f74e5d084649fc8c843fbe4237859b"
            }
          },
          "metadata": {
            "application/vnd.jupyter.widget-view+json": {
              "colab": {
                "custom_widget_manager": {
                  "url": "https://ssl.gstatic.com/colaboratory-static/widgets/colab-cdn-widget-manager/2b70e893a8ba7c0f/manager.min.js"
                }
              }
            }
          }
        },
        {
          "output_type": "display_data",
          "data": {
            "text/plain": [
              "README.md:   0%|          | 0.00/10.4k [00:00<?, ?B/s]"
            ],
            "application/vnd.jupyter.widget-view+json": {
              "version_major": 2,
              "version_minor": 0,
              "model_id": "20f332234fb44af9907592812f0d5ac9"
            }
          },
          "metadata": {
            "application/vnd.jupyter.widget-view+json": {
              "colab": {
                "custom_widget_manager": {
                  "url": "https://ssl.gstatic.com/colaboratory-static/widgets/colab-cdn-widget-manager/2b70e893a8ba7c0f/manager.min.js"
                }
              }
            }
          }
        },
        {
          "output_type": "display_data",
          "data": {
            "text/plain": [
              "sentence_bert_config.json:   0%|          | 0.00/53.0 [00:00<?, ?B/s]"
            ],
            "application/vnd.jupyter.widget-view+json": {
              "version_major": 2,
              "version_minor": 0,
              "model_id": "dfed02b360204ab6b9351e58ce873150"
            }
          },
          "metadata": {
            "application/vnd.jupyter.widget-view+json": {
              "colab": {
                "custom_widget_manager": {
                  "url": "https://ssl.gstatic.com/colaboratory-static/widgets/colab-cdn-widget-manager/2b70e893a8ba7c0f/manager.min.js"
                }
              }
            }
          }
        },
        {
          "output_type": "display_data",
          "data": {
            "text/plain": [
              "config.json:   0%|          | 0.00/571 [00:00<?, ?B/s]"
            ],
            "application/vnd.jupyter.widget-view+json": {
              "version_major": 2,
              "version_minor": 0,
              "model_id": "fe6125cfd95444a98ed910ccc6dc50b8"
            }
          },
          "metadata": {
            "application/vnd.jupyter.widget-view+json": {
              "colab": {
                "custom_widget_manager": {
                  "url": "https://ssl.gstatic.com/colaboratory-static/widgets/colab-cdn-widget-manager/2b70e893a8ba7c0f/manager.min.js"
                }
              }
            }
          }
        },
        {
          "output_type": "display_data",
          "data": {
            "text/plain": [
              "model.safetensors:   0%|          | 0.00/438M [00:00<?, ?B/s]"
            ],
            "application/vnd.jupyter.widget-view+json": {
              "version_major": 2,
              "version_minor": 0,
              "model_id": "05e6b1cb59fb4627865f28a33ebd637f"
            }
          },
          "metadata": {
            "application/vnd.jupyter.widget-view+json": {
              "colab": {
                "custom_widget_manager": {
                  "url": "https://ssl.gstatic.com/colaboratory-static/widgets/colab-cdn-widget-manager/2b70e893a8ba7c0f/manager.min.js"
                }
              }
            }
          }
        },
        {
          "output_type": "display_data",
          "data": {
            "text/plain": [
              "tokenizer_config.json:   0%|          | 0.00/363 [00:00<?, ?B/s]"
            ],
            "application/vnd.jupyter.widget-view+json": {
              "version_major": 2,
              "version_minor": 0,
              "model_id": "034e756789434e789130e1a8b3136f5a"
            }
          },
          "metadata": {
            "application/vnd.jupyter.widget-view+json": {
              "colab": {
                "custom_widget_manager": {
                  "url": "https://ssl.gstatic.com/colaboratory-static/widgets/colab-cdn-widget-manager/2b70e893a8ba7c0f/manager.min.js"
                }
              }
            }
          }
        },
        {
          "output_type": "display_data",
          "data": {
            "text/plain": [
              "vocab.txt:   0%|          | 0.00/232k [00:00<?, ?B/s]"
            ],
            "application/vnd.jupyter.widget-view+json": {
              "version_major": 2,
              "version_minor": 0,
              "model_id": "0ded184d8f7a4d8186b730f46c391d60"
            }
          },
          "metadata": {
            "application/vnd.jupyter.widget-view+json": {
              "colab": {
                "custom_widget_manager": {
                  "url": "https://ssl.gstatic.com/colaboratory-static/widgets/colab-cdn-widget-manager/2b70e893a8ba7c0f/manager.min.js"
                }
              }
            }
          }
        },
        {
          "output_type": "display_data",
          "data": {
            "text/plain": [
              "tokenizer.json:   0%|          | 0.00/466k [00:00<?, ?B/s]"
            ],
            "application/vnd.jupyter.widget-view+json": {
              "version_major": 2,
              "version_minor": 0,
              "model_id": "38001a6445a84575987be608ac4c7193"
            }
          },
          "metadata": {
            "application/vnd.jupyter.widget-view+json": {
              "colab": {
                "custom_widget_manager": {
                  "url": "https://ssl.gstatic.com/colaboratory-static/widgets/colab-cdn-widget-manager/2b70e893a8ba7c0f/manager.min.js"
                }
              }
            }
          }
        },
        {
          "output_type": "display_data",
          "data": {
            "text/plain": [
              "special_tokens_map.json:   0%|          | 0.00/239 [00:00<?, ?B/s]"
            ],
            "application/vnd.jupyter.widget-view+json": {
              "version_major": 2,
              "version_minor": 0,
              "model_id": "a975201c71474604af634f706584caa3"
            }
          },
          "metadata": {
            "application/vnd.jupyter.widget-view+json": {
              "colab": {
                "custom_widget_manager": {
                  "url": "https://ssl.gstatic.com/colaboratory-static/widgets/colab-cdn-widget-manager/2b70e893a8ba7c0f/manager.min.js"
                }
              }
            }
          }
        },
        {
          "output_type": "display_data",
          "data": {
            "text/plain": [
              "config.json:   0%|          | 0.00/190 [00:00<?, ?B/s]"
            ],
            "application/vnd.jupyter.widget-view+json": {
              "version_major": 2,
              "version_minor": 0,
              "model_id": "299ba42f88024bedb9827618a20f53e4"
            }
          },
          "metadata": {}
        }
      ]
    },
    {
      "cell_type": "code",
      "source": [
        "from langchain_community.vectorstores import Neo4jVector\n",
        "\n",
        "# Use the embeddings with Neo4jVector\n",
        "vector_index = Neo4jVector.from_existing_graph(\n",
        "    embeddings,\n",
        "    search_type=\"hybrid\",\n",
        "    node_label=\"Document\",\n",
        "    text_node_properties=[\"text\"],\n",
        "    embedding_node_property=\"embedding\"\n",
        ")"
      ],
      "metadata": {
        "id": "UvCOaROrTz5S"
      },
      "execution_count": 23,
      "outputs": []
    },
    {
      "cell_type": "code",
      "source": [
        "graph.query(\"CREATE FULLTEXT INDEX entity IF NOT EXISTS FOR (e:__Entity__) ON EACH [e.id]\")"
      ],
      "metadata": {
        "colab": {
          "base_uri": "https://localhost:8080/"
        },
        "id": "sfBIy-JHTz1x",
        "outputId": "decc1987-7daa-49e6-9820-51cf2d2b2c3d"
      },
      "execution_count": 24,
      "outputs": [
        {
          "output_type": "execute_result",
          "data": {
            "text/plain": [
              "[]"
            ]
          },
          "metadata": {},
          "execution_count": 24
        }
      ]
    },
    {
      "cell_type": "markdown",
      "source": [
        "##Extracting Entities (Nodes) from the text given input"
      ],
      "metadata": {
        "id": "-v3pN266r3OB"
      }
    },
    {
      "cell_type": "code",
      "source": [
        "from pydantic import BaseModel, Field\n",
        "# Extract entities from text\n",
        "class Entities(BaseModel):\n",
        "    \"\"\"Identifying information about entities.\"\"\"\n",
        "\n",
        "    names: List[str] = Field(\n",
        "        ...,\n",
        "        description=\"All the person, organization, or business entities that \"\n",
        "        \"appear in the text\",\n",
        "    )"
      ],
      "metadata": {
        "id": "MB0dmxczTzym"
      },
      "execution_count": 25,
      "outputs": []
    },
    {
      "cell_type": "code",
      "source": [
        "# Creating Prompt Templates using Langchain\n",
        "from langchain_core.prompts import ChatPromptTemplate\n",
        "from langchain_core.prompts.prompt import PromptTemplate\n",
        "\n",
        "prompt = ChatPromptTemplate.from_messages(\n",
        "    [\n",
        "        (\n",
        "            \"system\",\n",
        "            \"You are extracting organization and person entities from the text.\",\n",
        "        ),\n",
        "        (\n",
        "            \"human\",\n",
        "            \"Use the given format to extract information from the following \"\n",
        "            \"input: {question}\",\n",
        "        ),\n",
        "    ]\n",
        ")"
      ],
      "metadata": {
        "id": "vSqpK6U6Tzlw"
      },
      "execution_count": 26,
      "outputs": []
    },
    {
      "cell_type": "code",
      "source": [
        "entity_chain = prompt | llm.with_structured_output(Entities)"
      ],
      "metadata": {
        "id": "8F6AWyxuVqGW"
      },
      "execution_count": 27,
      "outputs": []
    },
    {
      "cell_type": "code",
      "source": [
        "entity_chain.invoke({\"question\": \"What was Shylock's approach to the elopment of Jessica with Lorenzo?\"}).names"
      ],
      "metadata": {
        "colab": {
          "base_uri": "https://localhost:8080/"
        },
        "id": "9Q6qHj24VqDJ",
        "outputId": "3665dc0f-4673-448f-941d-eb77a7432ea4"
      },
      "execution_count": 28,
      "outputs": [
        {
          "output_type": "execute_result",
          "data": {
            "text/plain": [
              "['Shylock', 'Jessica', 'Lorenzo']"
            ]
          },
          "metadata": {},
          "execution_count": 28
        }
      ]
    },
    {
      "cell_type": "markdown",
      "source": [
        "##Graph Retrieval from the Question"
      ],
      "metadata": {
        "id": "NKrFd_82sPfR"
      }
    },
    {
      "cell_type": "code",
      "source": [
        "# Generates a full-text search query with fuzzy matching (~2) for Neo4j by sanitizing input and combining words using AND.\n",
        "from langchain_community.vectorstores.neo4j_vector import remove_lucene_chars\n",
        "\n",
        "def generate_full_text_query(input: str) -> str:\n",
        "    full_text_query = \"\"\n",
        "    words = [el for el in remove_lucene_chars(input).split() if el]\n",
        "    for word in words[:-1]:\n",
        "        full_text_query += f\" {word}~2 AND\"\n",
        "    full_text_query += f\" {words[-1]}~2\"\n",
        "    return full_text_query.strip()"
      ],
      "metadata": {
        "id": "1VI-QZJoVqBC"
      },
      "execution_count": 29,
      "outputs": []
    },
    {
      "cell_type": "code",
      "source": [
        "# Full text index query\n",
        "def structured_retriever(question: str) -> str:\n",
        "    result = \"\"\n",
        "    entities = entity_chain.invoke({\"question\": question})\n",
        "    for entity in entities.names:\n",
        "        response = graph.query(\n",
        "            \"\"\"CALL db.index.fulltext.queryNodes('entity', $query, {limit:2})\n",
        "            YIELD node,score\n",
        "            CALL {\n",
        "              WITH node\n",
        "              MATCH (node)-[r:!MENTIONS]->(neighbor)\n",
        "              RETURN node.id + ' - ' + type(r) + ' -> ' + neighbor.id AS output\n",
        "              UNION ALL\n",
        "              WITH node\n",
        "              MATCH (node)<-[r:!MENTIONS]-(neighbor)\n",
        "              RETURN neighbor.id + ' - ' + type(r) + ' -> ' +  node.id AS output\n",
        "            }\n",
        "            RETURN output LIMIT 50\n",
        "            \"\"\",\n",
        "            {\"query\": generate_full_text_query(entity)},\n",
        "        )\n",
        "        result += \"\\n\".join([el['output'] for el in response])\n",
        "    return result"
      ],
      "metadata": {
        "id": "o1fzKZdnVp-A"
      },
      "execution_count": 30,
      "outputs": []
    },
    {
      "cell_type": "code",
      "source": [
        "print(structured_retriever(\"What is vrtti?\"))"
      ],
      "metadata": {
        "colab": {
          "base_uri": "https://localhost:8080/"
        },
        "id": "qBIWywYaVp7Z",
        "outputId": "2c7dc576-5baa-4240-cfc4-72bf792cc261"
      },
      "execution_count": 32,
      "outputs": [
        {
          "output_type": "stream",
          "name": "stderr",
          "text": [
            "<ipython-input-29-2132f4b34bad>:6: LangChainDeprecationWarning: The function `remove_lucene_chars` was deprecated in LangChain 0.3.8 and will be removed in 1.0. An updated version of the function exists in the :meth:`~langchain-neo4j package and should be used instead. To use it run `pip install -U :meth:`~langchain-neo4j` and import as `from :meth:`~langchain_neo4j.vectorstores.neo4j_vector import remove_lucene_chars``.\n",
            "  words = [el for el in remove_lucene_chars(input).split() if el]\n",
            "WARNING:neo4j.notifications:Received notification from DBMS server: {severity: WARNING} {code: Neo.ClientNotification.Statement.FeatureDeprecationWarning} {category: DEPRECATION} {title: This feature is deprecated and will be removed in future versions.} {description: CALL subquery without a variable scope clause is now deprecated. Use CALL (node, node) { ... }} {position: line: 3, column: 13, offset: 104} for query: \"CALL db.index.fulltext.queryNodes('entity', $query, {limit:2})\\n            YIELD node,score\\n            CALL {\\n              WITH node\\n              MATCH (node)-[r:!MENTIONS]->(neighbor)\\n              RETURN node.id + ' - ' + type(r) + ' -> ' + neighbor.id AS output\\n              UNION ALL\\n              WITH node\\n              MATCH (node)<-[r:!MENTIONS]-(neighbor)\\n              RETURN neighbor.id + ' - ' + type(r) + ' -> ' +  node.id AS output\\n            }\\n            RETURN output LIMIT 50\\n            \"\n"
          ]
        },
        {
          "output_type": "stream",
          "name": "stdout",
          "text": [
            "\n"
          ]
        }
      ]
    },
    {
      "cell_type": "markdown",
      "source": [
        "##Combining results from a structured retriever and a vector-based similarity search\n"
      ],
      "metadata": {
        "id": "W5ryKEnKsZ0y"
      }
    },
    {
      "cell_type": "code",
      "source": [
        "# Retrieves structured and unstructured data based on the input question.\n",
        "\n",
        "def retriever(question: str):\n",
        "    print(f\"Search query: {question}\")\n",
        "    structured_data = structured_retriever(question)\n",
        "    unstructured_data = [el.page_content for el in vector_index.similarity_search(question)]\n",
        "    final_data = f\"\"\"Structured data:\n",
        "      {structured_data}\n",
        "      Unstructured data:\n",
        "      {\"#Document \". join(unstructured_data)}\n",
        "          \"\"\"\n",
        "    return final_data"
      ],
      "metadata": {
        "id": "CaX6YRB3Vp5B"
      },
      "execution_count": 33,
      "outputs": []
    },
    {
      "cell_type": "code",
      "source": [
        "_template = \"\"\"Given the following conversation and a follow up question, rephrase the follow up question to be a standalone question,\n",
        "in its original language.\n",
        "Chat History:\n",
        "{chat_history}\n",
        "Follow Up Input: {question}\n",
        "Standalone question:\"\"\""
      ],
      "metadata": {
        "id": "TFkJFCWJVp2a"
      },
      "execution_count": 34,
      "outputs": []
    },
    {
      "cell_type": "code",
      "source": [
        "CONDENSE_QUESTION_PROMPT = PromptTemplate.from_template(_template)"
      ],
      "metadata": {
        "id": "Skpxz-WsVpzr"
      },
      "execution_count": 35,
      "outputs": []
    },
    {
      "cell_type": "code",
      "source": [
        "def _format_chat_history(chat_history: List[Tuple[str, str]]) -> List:\n",
        "    buffer = []\n",
        "    for human, ai in chat_history:\n",
        "        buffer.append(HumanMessage(content=human))\n",
        "        buffer.append(AIMessage(content=ai))\n",
        "    return buffer"
      ],
      "metadata": {
        "id": "khFyAhmNVpxJ"
      },
      "execution_count": 36,
      "outputs": []
    },
    {
      "cell_type": "code",
      "source": [
        "_search_query = RunnableBranch(\n",
        "    # If input includes chat_history, we condense it with the follow-up question\n",
        "    (\n",
        "        RunnableLambda(lambda x: bool(x.get(\"chat_history\"))).with_config(\n",
        "            run_name=\"HasChatHistoryCheck\"\n",
        "        ),  # Condense follow-up question and chat into a standalone_question\n",
        "        RunnablePassthrough.assign(\n",
        "            chat_history=lambda x: _format_chat_history(x[\"chat_history\"])\n",
        "        )\n",
        "        | CONDENSE_QUESTION_PROMPT\n",
        "        | llm\n",
        "        | StrOutputParser(),\n",
        "    ),\n",
        "    # Else, we have no chat history, so just pass through the question\n",
        "    RunnableLambda(lambda x : x[\"question\"]),\n",
        ")"
      ],
      "metadata": {
        "id": "aqV3DTxNWUYJ"
      },
      "execution_count": 37,
      "outputs": []
    },
    {
      "cell_type": "code",
      "source": [
        "template = \"\"\"Answer the question based only on the following context:\n",
        "{context}\n",
        "\n",
        "Question: {question}\n",
        "Use natural language and be concise.\n",
        "Answer:\"\"\""
      ],
      "metadata": {
        "id": "oKjCWzWCWUVu"
      },
      "execution_count": 38,
      "outputs": []
    },
    {
      "cell_type": "code",
      "source": [
        "prompt = ChatPromptTemplate.from_template(template)"
      ],
      "metadata": {
        "id": "6w1RpMHNWUTF"
      },
      "execution_count": 39,
      "outputs": []
    },
    {
      "cell_type": "code",
      "source": [
        "# Creates a processing chain where a search query is retrieved, passed to a prompt, sent to an LLM, and then parsed into a string output.\n",
        "chain = (\n",
        "    RunnableParallel(\n",
        "        {\n",
        "            \"context\": _search_query | retriever,\n",
        "            \"question\": RunnablePassthrough(),\n",
        "        }\n",
        "    )\n",
        "    | prompt\n",
        "    | llm\n",
        "    | StrOutputParser()\n",
        ")"
      ],
      "metadata": {
        "id": "yeBQnBReVpup"
      },
      "execution_count": 40,
      "outputs": []
    },
    {
      "cell_type": "code",
      "source": [
        "chain.invoke({\"question\": \"What is vrtti?\"})"
      ],
      "metadata": {
        "colab": {
          "base_uri": "https://localhost:8080/",
          "height": 281
        },
        "id": "c0LqYoLVWgss",
        "outputId": "408f534b-005c-4777-db88-0b4f58b64753"
      },
      "execution_count": 43,
      "outputs": [
        {
          "output_type": "stream",
          "name": "stdout",
          "text": [
            "Search query: What is vrtti?\n"
          ]
        },
        {
          "output_type": "stream",
          "name": "stderr",
          "text": [
            "WARNING:neo4j.notifications:Received notification from DBMS server: {severity: WARNING} {code: Neo.ClientNotification.Statement.FeatureDeprecationWarning} {category: DEPRECATION} {title: This feature is deprecated and will be removed in future versions.} {description: CALL subquery without a variable scope clause is now deprecated. Use CALL (node, node) { ... }} {position: line: 3, column: 13, offset: 104} for query: \"CALL db.index.fulltext.queryNodes('entity', $query, {limit:2})\\n            YIELD node,score\\n            CALL {\\n              WITH node\\n              MATCH (node)-[r:!MENTIONS]->(neighbor)\\n              RETURN node.id + ' - ' + type(r) + ' -> ' + neighbor.id AS output\\n              UNION ALL\\n              WITH node\\n              MATCH (node)<-[r:!MENTIONS]-(neighbor)\\n              RETURN neighbor.id + ' - ' + type(r) + ' -> ' +  node.id AS output\\n            }\\n            RETURN output LIMIT 50\\n            \"\n",
            "WARNING:neo4j.notifications:Received notification from DBMS server: {severity: WARNING} {code: Neo.ClientNotification.Statement.FeatureDeprecationWarning} {category: DEPRECATION} {title: This feature is deprecated and will be removed in future versions.} {description: CALL subquery without a variable scope clause is now deprecated. Use CALL () { ... }} {position: line: 1, column: 1, offset: 0} for query: \"CALL { CALL db.index.vector.queryNodes($index, $k, $embedding) YIELD node, score WITH collect({node:node, score:score}) AS nodes, max(score) AS max UNWIND nodes AS n RETURN n.node AS node, (n.score / max) AS score UNION CALL db.index.fulltext.queryNodes($keyword_index, $query, {limit: $k}) YIELD node, score WITH collect({node:node, score:score}) AS nodes, max(score) AS max UNWIND nodes AS n RETURN n.node AS node, (n.score / max) AS score } WITH node, max(score) AS score ORDER BY score DESC LIMIT $k RETURN reduce(str='', k IN ['text'] | str + '\\\\n' + k + ': ' + coalesce(node[k], '')) AS text, node {.*, `embedding`: Null, id: Null, `text`: Null} AS metadata, score\"\n"
          ]
        },
        {
          "output_type": "execute_result",
          "data": {
            "text/plain": [
              "'<think>\\nOkay, I need to answer the question \"What is vrtti?\" based on the provided context. Let me go through the structured and unstructured data to gather the necessary information.\\n\\nLooking at the structured data, I see that Vṛtti is categorized into types: Primary, Secondary, and Suggestive. It\\'s also divided into Primary Signification Function, Secondary Signification Function, and Suggestive Signification Function. Additionally, Secondary Meaning (Lakṣyārtha) is linked to Verbal Cognition via the Secondary Signification Function.\\n\\nIn the unstructured data, the answer to question 7 explains that Vṛtti refers to the \"signification function\" of a word, which can be primary (abhidhā), secondary (lakṣaṇā), or suggestive (vyañjanā). It also details how each function leads to different types of meanings: primary meaning (abhidheya), secondary meaning (lakṣyārtha), and suggested meaning (vyaṅgyārtha).\\n\\nSo, putting this together, Vṛtti is about how words convey meaning through these three functions. I should mention each type and perhaps briefly explain what each entails to give a clear and concise answer.\\n</think>\\n\\nVṛtti refers to the \"signification function\" of a word, explaining how it conveys meaning. It can be primary (abhidhā), secondary (lakṣaṇā), or suggestive (vyañjanā). Each function leads to different meanings: primary meaning (abhidheya), secondary meaning (lakṣyārtha), and suggested meaning (vyaṅgyārtha).'"
            ],
            "application/vnd.google.colaboratory.intrinsic+json": {
              "type": "string"
            }
          },
          "metadata": {},
          "execution_count": 43
        }
      ]
    },
    {
      "cell_type": "code",
      "source": [
        "# chain.invoke(\n",
        "#     {\n",
        "#         \"question\": \"When was she born?\",\n",
        "#         \"chat_history\": [(\"Which house did Elizabeth I belong to?\", \"House Of Tudor\")],\n",
        "#     }\n",
        "# )"
      ],
      "metadata": {
        "id": "U4jXpksaWgpT"
      },
      "execution_count": null,
      "outputs": []
    },
    {
      "cell_type": "code",
      "source": [],
      "metadata": {
        "id": "KljTxjhoWgiL"
      },
      "execution_count": null,
      "outputs": []
    }
  ]
}